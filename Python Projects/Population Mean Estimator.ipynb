{
 "cells": [
  {
   "cell_type": "code",
   "execution_count": null,
   "id": "f7502259",
   "metadata": {},
   "outputs": [],
   "source": [
    "import numpy as np\n",
    "\n",
    "class mean_est:\n",
    "    import numpy as np\n",
    "    def __init__(self,data): #인스턴스 생성할 때 배열 형태의 표본 자료 'data'를 입력받는다\n",
    "        self.data=np.array(data)\n",
    "        self.n=len(self.data)\n",
    "        self.mean=sum(self.data)/self.n\n",
    "        self.s=round(self.data.std(),3) #넷째자리에서 반올림하여 셋째자리까지 표현\n",
    "    \n",
    "    def point_est(self): #n, mean, s\n",
    "        self.dic1={'n': self.n,'mean': self.mean, 's': self.s}\n",
    "        return self.dic1 #dictionary 반환\n",
    "    \n",
    "    def interval_est(self): #LB, UB\n",
    "        self.LB=round(self.mean-1.96*self.s/np.sqrt(self.n),3)\n",
    "        self.UB=round(self.mean+1.96*self.s/np.sqrt(self.n),3)\n",
    "        self.dic2={'LB': self.LB, 'UB': self.UB}\n",
    "        return self.dic2 #dictionary 반환"
   ]
  }
 ],
 "metadata": {
  "kernelspec": {
   "display_name": "Python 3",
   "language": "python",
   "name": "python3"
  },
  "language_info": {
   "codemirror_mode": {
    "name": "ipython",
    "version": 3
   },
   "file_extension": ".py",
   "mimetype": "text/x-python",
   "name": "python",
   "nbconvert_exporter": "python",
   "pygments_lexer": "ipython3",
   "version": "3.8.8"
  }
 },
 "nbformat": 4,
 "nbformat_minor": 5
}
