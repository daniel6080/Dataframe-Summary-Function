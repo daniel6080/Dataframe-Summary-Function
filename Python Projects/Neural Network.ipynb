{
 "cells": [
  {
   "cell_type": "code",
   "execution_count": 1,
   "id": "dfc91158",
   "metadata": {},
   "outputs": [],
   "source": [
    "import numpy as np \n",
    "import matplotlib.pyplot as plt\n",
    "\n",
    "from random import seed\n",
    "from random import random\n",
    "from math import exp"
   ]
  },
  {
   "cell_type": "code",
   "execution_count": 2,
   "id": "dbdcffbc",
   "metadata": {},
   "outputs": [],
   "source": [
    "#Initialize neural network\n",
    "def initialize_network(n_inputs,n_hidden,n_outputs):\n",
    "    network=list()\n",
    "    hidden_layer=[{'weights':[random() for i in range(n_inputs)]} for i in range(n_hidden)]\n",
    "    network.append(hidden_layer)\n",
    "    output_layer=[{'weights':[random() for i in range(n_hidden)]} for i in range(n_outputs)]\n",
    "    network.append(output_layer)\n",
    "    return network\n",
    "\n",
    "#Calculate neuron activation for an input\n",
    "#sum of weight*input+bias (in this case bias=0)\n",
    "def activate(weights,inputs):\n",
    "    activation=weights[-1]\n",
    "    for i in range(len(weights)-1):\n",
    "        activation+=weights[i]*inputs[i]\n",
    "    return activation\n",
    "\n",
    "#Transfer neuron activation using sigmoid equation\n",
    "def transfer(activation):\n",
    "    return 1.0/(1.0+exp(-activation))\n",
    "\n",
    "#Forward propagate input to a network output\n",
    "def forward_propagate(network,row):\n",
    "    inputs=row\n",
    "    for layer in network:\n",
    "        new_inputs=[]\n",
    "        for neuron in layer:\n",
    "            activation=activate(neuron['weights'],inputs)\n",
    "            neuron['output']=transfer(activation)\n",
    "            new_inputs.append(neuron['output'])\n",
    "        inputs=new_inputs\n",
    "    return inputs"
   ]
  },
  {
   "cell_type": "code",
   "execution_count": 3,
   "id": "e0b29f53",
   "metadata": {},
   "outputs": [],
   "source": [
    "#Calculate the transfer derivative of neuron output\n",
    "#derivative of sigmoid function\n",
    "def transfer_derivative(output):\n",
    "    return output*(1.0-output)\n",
    "\n",
    "#Backpropagate error and then store in neurons\n",
    "#'delta': error signal calculated for each neuron\n",
    "#error function: (y-y1)**2\n",
    "def backward_propagate_error(network,expected):\n",
    "    for i in reversed(range(len(network))):\n",
    "        layer=network[i]\n",
    "        errors=list()\n",
    "        if i!=len(network)-1:\n",
    "            for j in range(len(layer)):\n",
    "                error=0.0\n",
    "                for neuron in network[i+1]:\n",
    "                    error+=(neuron['weights'][j]*neuron['delta'])\n",
    "                errors.append(error)\n",
    "        else:\n",
    "            #dE/dy1=2(y1-y)\n",
    "            #error calculation for neurons in the output layer\n",
    "            for j in range(len(layer)):\n",
    "                neuron=layer[j]\n",
    "                errors.append(2*(neuron['output']-expected[j]))\n",
    "        for j in range(len(layer)):\n",
    "            #dE/du'=dE/dy1*(sigmoid derivative)\n",
    "            neuron=layer[j]\n",
    "            neuron['delta']=errors[j]*transfer_derivative(neuron['output'])"
   ]
  },
  {
   "cell_type": "code",
   "execution_count": 4,
   "id": "212ab6b9",
   "metadata": {},
   "outputs": [],
   "source": [
    "#Update network weights with error\n",
    "def update_weights(network, row, l_rate):\n",
    "    for i in range(len(network)):\n",
    "        inputs=row[:-1]\n",
    "        if i!=0:\n",
    "            inputs=[neuron['output'] for neuron in network[i-1]]\n",
    "        for neuron in network[i]:\n",
    "            for j in range(len(inputs)):\n",
    "                neuron['weights'][j] -= l_rate*neuron['delta']*inputs[j]\n",
    "            neuron['weights'][-1] -= l_rate*neuron['delta']"
   ]
  },
  {
   "cell_type": "code",
   "execution_count": 5,
   "id": "7adbd302",
   "metadata": {},
   "outputs": [],
   "source": [
    "#Train a network for a fixed number of epochs\n",
    "def train_network(network,train,l_rate,n_epoch,n_outputs):\n",
    "    loss=[]\n",
    "    for epoch in range(n_epoch):\n",
    "        error=0\n",
    "        expected=[]\n",
    "        for row in train:\n",
    "            outputs=forward_propagate(network, row)\n",
    "            expected.append(row[-1])\n",
    "            error = (expected[0]-outputs[0])**2\n",
    "            backward_propagate_error(network,expected)\n",
    "            update_weights(network, row, l_rate)\n",
    "        loss.append(error)\n",
    "        print('>epoch=%d, lrate=%.3f, error=%.10f' % (epoch, l_rate, error))\n",
    "    return loss"
   ]
  },
  {
   "cell_type": "code",
   "execution_count": 8,
   "id": "28b320e0",
   "metadata": {
    "scrolled": true
   },
   "outputs": [
    {
     "name": "stdout",
     "output_type": "stream",
     "text": [
      ">epoch=0, lrate=0.010, error=0.0051367128\n",
      ">epoch=1, lrate=0.010, error=0.0021370707\n",
      ">epoch=2, lrate=0.010, error=0.0013371861\n",
      ">epoch=3, lrate=0.010, error=0.0009699994\n",
      ">epoch=4, lrate=0.010, error=0.0007598741\n",
      ">epoch=5, lrate=0.010, error=0.0006240261\n",
      ">epoch=6, lrate=0.010, error=0.0005290830\n",
      ">epoch=7, lrate=0.010, error=0.0004590335\n",
      ">epoch=8, lrate=0.010, error=0.0004052467\n",
      ">epoch=9, lrate=0.010, error=0.0003626627\n",
      ">epoch=10, lrate=0.010, error=0.0003281204\n",
      ">epoch=11, lrate=0.010, error=0.0002995442\n",
      ">epoch=12, lrate=0.010, error=0.0002755151\n",
      ">epoch=13, lrate=0.010, error=0.0002550304\n",
      ">epoch=14, lrate=0.010, error=0.0002373618\n",
      ">epoch=15, lrate=0.010, error=0.0002219672\n",
      ">epoch=16, lrate=0.010, error=0.0002084353\n",
      ">epoch=17, lrate=0.010, error=0.0001964480\n",
      ">epoch=18, lrate=0.010, error=0.0001857559\n",
      ">epoch=19, lrate=0.010, error=0.0001761603\n",
      ">epoch=20, lrate=0.010, error=0.0001675010\n",
      ">epoch=21, lrate=0.010, error=0.0001596478\n",
      ">epoch=22, lrate=0.010, error=0.0001524934\n",
      ">epoch=23, lrate=0.010, error=0.0001459486\n",
      ">epoch=24, lrate=0.010, error=0.0001399390\n",
      ">epoch=25, lrate=0.010, error=0.0001344016\n",
      ">epoch=26, lrate=0.010, error=0.0001292829\n",
      ">epoch=27, lrate=0.010, error=0.0001245374\n",
      ">epoch=28, lrate=0.010, error=0.0001201257\n",
      ">epoch=29, lrate=0.010, error=0.0001160139\n"
     ]
    }
   ],
   "source": [
    "#Test training backpropagation algorithm\n",
    "data=np.loadtxt(\"training.txt\")\n",
    "n_inputs = 2\n",
    "n_outputs = 1\n",
    "network=initialize_network(n_inputs,8,n_outputs)\n",
    "loss=train_network(network,data,0.01,30,n_outputs)"
   ]
  },
  {
   "cell_type": "code",
   "execution_count": 9,
   "id": "2f016f89",
   "metadata": {
    "scrolled": true
   },
   "outputs": [
    {
     "data": {
      "image/png": "[encoded data removed]",
      "text/plain": [
       "<Figure size 432x288 with 1 Axes>"
      ]
     },
     "metadata": {
      "needs_background": "light"
     },
     "output_type": "display_data"
    }
   ],
   "source": [
    "#Plots loss vs # of epochs\n",
    "plt.plot(loss)\n",
    "plt.title('Neural Network Design')\n",
    "plt.xlabel('# Epoch')\n",
    "plt.ylabel('Loss')\n",
    "plt.show()"
   ]
  }
 ],
 "metadata": {
  "kernelspec": {
   "display_name": "Python 3",
   "language": "python",
   "name": "python3"
  },
  "language_info": {
   "codemirror_mode": {
    "name": "ipython",
    "version": 3
   },
   "file_extension": ".py",
   "mimetype": "text/x-python",
   "name": "python",
   "nbconvert_exporter": "python",
   "pygments_lexer": "ipython3",
   "version": "3.8.8"
  }
 },
 "nbformat": 4,
 "nbformat_minor": 5
}
