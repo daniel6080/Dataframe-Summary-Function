{
 "cells": [
  {
   "cell_type": "code",
   "execution_count": 1,
   "id": "9de6be71",
   "metadata": {},
   "outputs": [],
   "source": [
    "import numpy as np\n",
    "import pandas as pd\n",
    "import matplotlib\n",
    "import matplotlib.pyplot as plt\n",
    "from scipy.stats import norm, boxcox, chi2"
   ]
  },
  {
   "cell_type": "code",
   "execution_count": 2,
   "id": "3f6de29b",
   "metadata": {
    "scrolled": true
   },
   "outputs": [],
   "source": [
    "#1\n",
    "def qq_plot(xj): #assume input is a list/array\n",
    "    xj.sort()\n",
    "    j=np.array(range(len(xj)))+1\n",
    "    below_xj=(j-1/2)/len(xj)\n",
    "    qj=norm.ppf(below_xj)\n",
    "    plt.plot(qj,xj) #plot Q-Q plot\n",
    "    m, b = np.polyfit(qj, xj, 1)\n",
    "    plt.plot(qj, m*qj+b) #plot reference line\n",
    "    plt.title('Q-Q Plot')\n",
    "    plt.xlabel('Theoretical Quantiles')\n",
    "    plt.ylabel('Sample Quantiles')"
   ]
  },
  {
   "cell_type": "code",
   "execution_count": 3,
   "id": "37e04f89",
   "metadata": {},
   "outputs": [
    {
     "data": {
      "text/html": [
       "<div>\n",
       "<style scoped>\n",
       "    .dataframe tbody tr th:only-of-type {\n",
       "        vertical-align: middle;\n",
       "    }\n",
       "\n",
       "    .dataframe tbody tr th {\n",
       "        vertical-align: top;\n",
       "    }\n",
       "\n",
       "    .dataframe thead th {\n",
       "        text-align: right;\n",
       "    }\n",
       "</style>\n",
       "<table border=\"1\" class=\"dataframe\">\n",
       "  <thead>\n",
       "    <tr style=\"text-align: right;\">\n",
       "      <th></th>\n",
       "      <th>x1</th>\n",
       "      <th>x2</th>\n",
       "    </tr>\n",
       "  </thead>\n",
       "  <tbody>\n",
       "    <tr>\n",
       "      <th>0</th>\n",
       "      <td>3</td>\n",
       "      <td>2.30</td>\n",
       "    </tr>\n",
       "    <tr>\n",
       "      <th>1</th>\n",
       "      <td>5</td>\n",
       "      <td>1.90</td>\n",
       "    </tr>\n",
       "    <tr>\n",
       "      <th>2</th>\n",
       "      <td>5</td>\n",
       "      <td>1.00</td>\n",
       "    </tr>\n",
       "    <tr>\n",
       "      <th>3</th>\n",
       "      <td>7</td>\n",
       "      <td>0.70</td>\n",
       "    </tr>\n",
       "    <tr>\n",
       "      <th>4</th>\n",
       "      <td>7</td>\n",
       "      <td>0.30</td>\n",
       "    </tr>\n",
       "    <tr>\n",
       "      <th>5</th>\n",
       "      <td>7</td>\n",
       "      <td>1.00</td>\n",
       "    </tr>\n",
       "    <tr>\n",
       "      <th>6</th>\n",
       "      <td>8</td>\n",
       "      <td>1.05</td>\n",
       "    </tr>\n",
       "    <tr>\n",
       "      <th>7</th>\n",
       "      <td>9</td>\n",
       "      <td>0.45</td>\n",
       "    </tr>\n",
       "    <tr>\n",
       "      <th>8</th>\n",
       "      <td>10</td>\n",
       "      <td>0.70</td>\n",
       "    </tr>\n",
       "    <tr>\n",
       "      <th>9</th>\n",
       "      <td>11</td>\n",
       "      <td>0.30</td>\n",
       "    </tr>\n",
       "  </tbody>\n",
       "</table>\n",
       "</div>"
      ],
      "text/plain": [
       "   x1    x2\n",
       "0   3  2.30\n",
       "1   5  1.90\n",
       "2   5  1.00\n",
       "3   7  0.70\n",
       "4   7  0.30\n",
       "5   7  1.00\n",
       "6   8  1.05\n",
       "7   9  0.45\n",
       "8  10  0.70\n",
       "9  11  0.30"
      ]
     },
     "execution_count": 3,
     "metadata": {},
     "output_type": "execute_result"
    }
   ],
   "source": [
    "#2\n",
    "car_prices=pd.DataFrame({'x1':[3,5,5,7,7,7,8,9,10,11],'x2':[2.3,1.9,1.0,0.7,0.3,1.0,1.05,0.45,0.7,0.3]})\n",
    "car_prices"
   ]
  },
  {
   "cell_type": "code",
   "execution_count": 4,
   "id": "a41bb3ae",
   "metadata": {
    "scrolled": false
   },
   "outputs": [
    {
     "name": "stdout",
     "output_type": "stream",
     "text": [
      "transformed variables:  [1.99357154 3.97994271 3.97994271 5.96225561 5.96225561 5.96225561\n",
      " 6.95229389 7.9417156  8.93058988 9.91897192] \n",
      "lambda:  0.9950293497559268\n"
     ]
    }
   ],
   "source": [
    "#(a) Box-Cox transformation for x1\n",
    "transform1, lambda1= boxcox(car_prices['x1'],lmbda=None)\n",
    "print(\"transformed variables: \", transform1, \"\\nlambda: \",lambda1)"
   ]
  },
  {
   "cell_type": "code",
   "execution_count": 5,
   "id": "f8935682",
   "metadata": {},
   "outputs": [
    {
     "name": "stdout",
     "output_type": "stream",
     "text": [
      "transformed variables:  [ 0.83302984  0.64192557  0.         -0.35665281 -1.20372064  0.\n",
      "  0.04879058 -0.79839677 -0.35665281 -1.20372064] \n",
      "lambda:  0.0003479745820106328\n"
     ]
    }
   ],
   "source": [
    "#(b) Box-Cox transformation for x2\n",
    "transform2, lambda2 = boxcox(car_prices['x2'],lmbda=None)\n",
    "print(\"transformed variables: \", transform2, \"\\nlambda: \",lambda2)"
   ]
  },
  {
   "cell_type": "code",
   "execution_count": 6,
   "id": "f800ba60",
   "metadata": {
    "scrolled": false
   },
   "outputs": [
    {
     "data": {
      "image/png": "[encoded data removed]",
      "text/plain": [
       "<Figure size 432x288 with 1 Axes>"
      ]
     },
     "metadata": {
      "needs_background": "light"
     },
     "output_type": "display_data"
    }
   ],
   "source": [
    "#(c) We can use the data obtained from each Box-Cox transformation to construct Q-Q plots using Python code in #1.\n",
    "#x1\n",
    "qq_plot(transform1)"
   ]
  },
  {
   "cell_type": "code",
   "execution_count": 7,
   "id": "8851fbeb",
   "metadata": {
    "scrolled": true
   },
   "outputs": [
    {
     "data": {
      "image/png": "[encoded data removed]",
      "text/plain": [
       "<Figure size 432x288 with 1 Axes>"
      ]
     },
     "metadata": {
      "needs_background": "light"
     },
     "output_type": "display_data"
    }
   ],
   "source": [
    "#x2\n",
    "qq_plot(transform2)"
   ]
  },
  {
   "cell_type": "code",
   "execution_count": 8,
   "id": "1ba10c7f",
   "metadata": {},
   "outputs": [],
   "source": [
    "#Comparing the two, we may say that the Q-Q plot obtained from 'x1' data after Box-Cox transformation is closer to a straight line than 'x2'.\n",
    "#Thus, 'x1' is closer to a normal distribution than 'x2'."
   ]
  },
  {
   "cell_type": "code",
   "execution_count": 9,
   "id": "7d025686",
   "metadata": {},
   "outputs": [],
   "source": [
    "#3\n",
    "def mean_vector(data):\n",
    "    ones=pd.DataFrame({'ones': np.ones(len(data))})\n",
    "    mean=ones.transpose().dot(data)/len(data)\n",
    "    return mean"
   ]
  },
  {
   "cell_type": "code",
   "execution_count": 10,
   "id": "534ad843",
   "metadata": {},
   "outputs": [],
   "source": [
    "def covariance_matrix(data):\n",
    "    mean=mean_vector(data)\n",
    "    mean_rep = pd.concat([mean]*len(data))\n",
    "    mean_rep.columns=data.columns\n",
    "    mean_rep.reset_index(inplace = True, drop = True)\n",
    "    covariance=(data-mean_rep).transpose().dot(data-mean_rep)/(len(data)-1)\n",
    "    return covariance"
   ]
  },
  {
   "cell_type": "code",
   "execution_count": 11,
   "id": "52d87be8",
   "metadata": {},
   "outputs": [],
   "source": [
    "def chisq_plot(data): #assume input is a dataframe\n",
    "    dj=[]\n",
    "    #sample covariance\n",
    "    S_inv=pd.DataFrame(np.linalg.inv(covariance_matrix(data)), index=data.columns, columns=data.columns)\n",
    "    #fill in values for dj\n",
    "    for i in range(len(data)):\n",
    "        diff=data.iloc[i]-mean_vector(data)\n",
    "        val=((diff).dot(S_inv)).dot(diff.transpose())\n",
    "        dj=np.append(dj,val)\n",
    "    dj.sort()\n",
    "    j=np.array(range(len(data)))+1\n",
    "    below_dj=(j-1/2)/len(data)\n",
    "    qj=chi2.ppf(below_dj, df=2)\n",
    "    plt.plot(qj,dj) #plot Chi-Square Plot\n",
    "    plt.plot(qj, qj) #plot reference line\n",
    "    plt.title('Chi-Square Plot')\n",
    "    plt.xlabel('Theoretical Quantiles')\n",
    "    plt.ylabel('Sample Quantiles')"
   ]
  },
  {
   "cell_type": "code",
   "execution_count": 12,
   "id": "c7b19517",
   "metadata": {
    "scrolled": true
   },
   "outputs": [
    {
     "data": {
      "text/html": [
       "<div>\n",
       "<style scoped>\n",
       "    .dataframe tbody tr th:only-of-type {\n",
       "        vertical-align: middle;\n",
       "    }\n",
       "\n",
       "    .dataframe tbody tr th {\n",
       "        vertical-align: top;\n",
       "    }\n",
       "\n",
       "    .dataframe thead th {\n",
       "        text-align: right;\n",
       "    }\n",
       "</style>\n",
       "<table border=\"1\" class=\"dataframe\">\n",
       "  <thead>\n",
       "    <tr style=\"text-align: right;\">\n",
       "      <th></th>\n",
       "      <th>X1</th>\n",
       "      <th>X2</th>\n",
       "      <th>X3</th>\n",
       "    </tr>\n",
       "  </thead>\n",
       "  <tbody>\n",
       "    <tr>\n",
       "      <th>0</th>\n",
       "      <td>468</td>\n",
       "      <td>41</td>\n",
       "      <td>26</td>\n",
       "    </tr>\n",
       "    <tr>\n",
       "      <th>1</th>\n",
       "      <td>428</td>\n",
       "      <td>39</td>\n",
       "      <td>26</td>\n",
       "    </tr>\n",
       "    <tr>\n",
       "      <th>2</th>\n",
       "      <td>514</td>\n",
       "      <td>53</td>\n",
       "      <td>21</td>\n",
       "    </tr>\n",
       "    <tr>\n",
       "      <th>3</th>\n",
       "      <td>547</td>\n",
       "      <td>67</td>\n",
       "      <td>33</td>\n",
       "    </tr>\n",
       "    <tr>\n",
       "      <th>4</th>\n",
       "      <td>614</td>\n",
       "      <td>61</td>\n",
       "      <td>27</td>\n",
       "    </tr>\n",
       "    <tr>\n",
       "      <th>...</th>\n",
       "      <td>...</td>\n",
       "      <td>...</td>\n",
       "      <td>...</td>\n",
       "    </tr>\n",
       "    <tr>\n",
       "      <th>82</th>\n",
       "      <td>614</td>\n",
       "      <td>70</td>\n",
       "      <td>23</td>\n",
       "    </tr>\n",
       "    <tr>\n",
       "      <th>83</th>\n",
       "      <td>527</td>\n",
       "      <td>49</td>\n",
       "      <td>30</td>\n",
       "    </tr>\n",
       "    <tr>\n",
       "      <th>84</th>\n",
       "      <td>474</td>\n",
       "      <td>41</td>\n",
       "      <td>16</td>\n",
       "    </tr>\n",
       "    <tr>\n",
       "      <th>85</th>\n",
       "      <td>441</td>\n",
       "      <td>47</td>\n",
       "      <td>26</td>\n",
       "    </tr>\n",
       "    <tr>\n",
       "      <th>86</th>\n",
       "      <td>607</td>\n",
       "      <td>67</td>\n",
       "      <td>32</td>\n",
       "    </tr>\n",
       "  </tbody>\n",
       "</table>\n",
       "<p>87 rows × 3 columns</p>\n",
       "</div>"
      ],
      "text/plain": [
       "     X1  X2  X3\n",
       "0   468  41  26\n",
       "1   428  39  26\n",
       "2   514  53  21\n",
       "3   547  67  33\n",
       "4   614  61  27\n",
       "..  ...  ..  ..\n",
       "82  614  70  23\n",
       "83  527  49  30\n",
       "84  474  41  16\n",
       "85  441  47  26\n",
       "86  607  67  32\n",
       "\n",
       "[87 rows x 3 columns]"
      ]
     },
     "execution_count": 12,
     "metadata": {},
     "output_type": "execute_result"
    }
   ],
   "source": [
    "#4\n",
    "college = pd.read_fwf(\"college.dat\", header = None)\n",
    "college.columns = ['X1','X2','X3'] #X1: Social Science and History, X2: Verbal, X3: Science\n",
    "college"
   ]
  },
  {
   "cell_type": "code",
   "execution_count": 13,
   "id": "059a780e",
   "metadata": {
    "scrolled": false
   },
   "outputs": [
    {
     "data": {
      "image/png": "[encoded data removed]",
      "text/plain": [
       "<Figure size 432x288 with 1 Axes>"
      ]
     },
     "metadata": {
      "needs_background": "light"
     },
     "output_type": "display_data"
    }
   ],
   "source": [
    "chisq_plot(college[['X1','X2']])"
   ]
  },
  {
   "cell_type": "code",
   "execution_count": 14,
   "id": "fc2662c5",
   "metadata": {
    "scrolled": true
   },
   "outputs": [
    {
     "data": {
      "image/png": "[encoded data removed]",
      "text/plain": [
       "<Figure size 432x288 with 1 Axes>"
      ]
     },
     "metadata": {
      "needs_background": "light"
     },
     "output_type": "display_data"
    }
   ],
   "source": [
    "chisq_plot(college[['X1','X3']])"
   ]
  },
  {
   "cell_type": "code",
   "execution_count": 15,
   "id": "04aacc94",
   "metadata": {},
   "outputs": [
    {
     "data": {
      "image/png": "[encoded data removed]",
      "text/plain": [
       "<Figure size 432x288 with 1 Axes>"
      ]
     },
     "metadata": {
      "needs_background": "light"
     },
     "output_type": "display_data"
    }
   ],
   "source": [
    "chisq_plot(college[['X2','X3']])"
   ]
  },
  {
   "cell_type": "code",
   "execution_count": 16,
   "id": "f89310ef",
   "metadata": {},
   "outputs": [],
   "source": [
    "#If the data is from a multivariate normal distribution, each variable pair should have a bivariate normal distribution.\n",
    "#Among the Chi-Square plots of each variable pair, the plot for (X1,X2) has the most resemblence to the reference line. Thus, it is the closest to a bivariate normal distribution.\n",
    "#However, the other two plots deviate from the reference line, so it is difficult to say that they have a bivariate normal distribution.\n",
    "#So we can conclude that the data does not have a multivariate normal distribution."
   ]
  }
 ],
 "metadata": {
  "kernelspec": {
   "display_name": "Python 3",
   "language": "python",
   "name": "python3"
  },
  "language_info": {
   "codemirror_mode": {
    "name": "ipython",
    "version": 3
   },
   "file_extension": ".py",
   "mimetype": "text/x-python",
   "name": "python",
   "nbconvert_exporter": "python",
   "pygments_lexer": "ipython3",
   "version": "3.8.8"
  }
 },
 "nbformat": 4,
 "nbformat_minor": 5
}
