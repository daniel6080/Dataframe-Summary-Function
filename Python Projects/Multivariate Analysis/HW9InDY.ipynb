{
 "cells": [
  {
   "cell_type": "code",
   "execution_count": 1,
   "id": "ad3c56c2",
   "metadata": {},
   "outputs": [],
   "source": [
    "import numpy as np\n",
    "import pandas as pd\n",
    "import matplotlib.pyplot as plt"
   ]
  },
  {
   "cell_type": "code",
   "execution_count": 2,
   "id": "bb3dccbf",
   "metadata": {},
   "outputs": [],
   "source": [
    "#1\n",
    "def mean_vector(data):\n",
    "    ones=pd.DataFrame({'ones': np.ones(len(data))})\n",
    "    mean=ones.transpose().dot(data)/len(data)\n",
    "    return mean\n",
    "\n",
    "def covariance_matrix(data):\n",
    "    mean=mean_vector(data)\n",
    "    mean_rep = pd.concat([mean]*len(data))\n",
    "    mean_rep.columns=data.columns\n",
    "    mean_rep.reset_index(inplace = True, drop = True)\n",
    "    covariance=(data-mean_rep).transpose().dot(data-mean_rep)/(len(data)-1)\n",
    "    return covariance\n",
    "\n",
    "def sample_corr_matrix(data):\n",
    "    S = covariance_matrix(data)\n",
    "    Si, Sj = S.copy(), S.copy()\n",
    "    for i in range(len(Si)):\n",
    "        Si.iloc[i,:]=S.iloc[i,i]\n",
    "    for j in range(len(Sj)):\n",
    "        Sj.iloc[:,j]=S.iloc[j,j]\n",
    "    \n",
    "    R=S/np.sqrt(Si)/np.sqrt(Sj)\n",
    "    return R"
   ]
  },
  {
   "cell_type": "code",
   "execution_count": 3,
   "id": "8d0f2a7d",
   "metadata": {
    "scrolled": true
   },
   "outputs": [
    {
     "data": {
      "text/html": [
       "<div>\n",
       "<style scoped>\n",
       "    .dataframe tbody tr th:only-of-type {\n",
       "        vertical-align: middle;\n",
       "    }\n",
       "\n",
       "    .dataframe tbody tr th {\n",
       "        vertical-align: top;\n",
       "    }\n",
       "\n",
       "    .dataframe thead th {\n",
       "        text-align: right;\n",
       "    }\n",
       "</style>\n",
       "<table border=\"1\" class=\"dataframe\">\n",
       "  <thead>\n",
       "    <tr style=\"text-align: right;\">\n",
       "      <th></th>\n",
       "      <th>AC</th>\n",
       "      <th>DP</th>\n",
       "      <th>UC</th>\n",
       "      <th>EX</th>\n",
       "      <th>TX</th>\n",
       "    </tr>\n",
       "  </thead>\n",
       "  <tbody>\n",
       "    <tr>\n",
       "      <th>0</th>\n",
       "      <td>0.000000</td>\n",
       "      <td>0.000000</td>\n",
       "      <td>0.000000</td>\n",
       "      <td>0.039473</td>\n",
       "      <td>-0.000000</td>\n",
       "    </tr>\n",
       "    <tr>\n",
       "      <th>1</th>\n",
       "      <td>0.027027</td>\n",
       "      <td>-0.044855</td>\n",
       "      <td>-0.003030</td>\n",
       "      <td>-0.014466</td>\n",
       "      <td>0.043478</td>\n",
       "    </tr>\n",
       "    <tr>\n",
       "      <th>2</th>\n",
       "      <td>0.122807</td>\n",
       "      <td>0.060773</td>\n",
       "      <td>0.088146</td>\n",
       "      <td>0.086238</td>\n",
       "      <td>0.078124</td>\n",
       "    </tr>\n",
       "    <tr>\n",
       "      <th>3</th>\n",
       "      <td>0.057031</td>\n",
       "      <td>0.029948</td>\n",
       "      <td>0.066808</td>\n",
       "      <td>0.013513</td>\n",
       "      <td>0.019512</td>\n",
       "    </tr>\n",
       "    <tr>\n",
       "      <th>4</th>\n",
       "      <td>0.063670</td>\n",
       "      <td>-0.003793</td>\n",
       "      <td>-0.039788</td>\n",
       "      <td>-0.018644</td>\n",
       "      <td>-0.024154</td>\n",
       "    </tr>\n",
       "    <tr>\n",
       "      <th>...</th>\n",
       "      <td>...</td>\n",
       "      <td>...</td>\n",
       "      <td>...</td>\n",
       "      <td>...</td>\n",
       "      <td>...</td>\n",
       "    </tr>\n",
       "    <tr>\n",
       "      <th>95</th>\n",
       "      <td>0.000000</td>\n",
       "      <td>-0.020080</td>\n",
       "      <td>-0.006579</td>\n",
       "      <td>0.029925</td>\n",
       "      <td>-0.004807</td>\n",
       "    </tr>\n",
       "    <tr>\n",
       "      <th>96</th>\n",
       "      <td>0.021429</td>\n",
       "      <td>0.049180</td>\n",
       "      <td>0.006622</td>\n",
       "      <td>-0.002421</td>\n",
       "      <td>0.028985</td>\n",
       "    </tr>\n",
       "    <tr>\n",
       "      <th>97</th>\n",
       "      <td>0.045454</td>\n",
       "      <td>0.046375</td>\n",
       "      <td>0.074561</td>\n",
       "      <td>0.014563</td>\n",
       "      <td>0.018779</td>\n",
       "    </tr>\n",
       "    <tr>\n",
       "      <th>98</th>\n",
       "      <td>0.050167</td>\n",
       "      <td>0.036380</td>\n",
       "      <td>0.004082</td>\n",
       "      <td>-0.011961</td>\n",
       "      <td>0.009216</td>\n",
       "    </tr>\n",
       "    <tr>\n",
       "      <th>99</th>\n",
       "      <td>0.019108</td>\n",
       "      <td>-0.033303</td>\n",
       "      <td>0.008362</td>\n",
       "      <td>0.033898</td>\n",
       "      <td>0.004566</td>\n",
       "    </tr>\n",
       "  </tbody>\n",
       "</table>\n",
       "<p>100 rows × 5 columns</p>\n",
       "</div>"
      ],
      "text/plain": [
       "          AC        DP        UC        EX        TX\n",
       "0   0.000000  0.000000  0.000000  0.039473 -0.000000\n",
       "1   0.027027 -0.044855 -0.003030 -0.014466  0.043478\n",
       "2   0.122807  0.060773  0.088146  0.086238  0.078124\n",
       "3   0.057031  0.029948  0.066808  0.013513  0.019512\n",
       "4   0.063670 -0.003793 -0.039788 -0.018644 -0.024154\n",
       "..       ...       ...       ...       ...       ...\n",
       "95  0.000000 -0.020080 -0.006579  0.029925 -0.004807\n",
       "96  0.021429  0.049180  0.006622 -0.002421  0.028985\n",
       "97  0.045454  0.046375  0.074561  0.014563  0.018779\n",
       "98  0.050167  0.036380  0.004082 -0.011961  0.009216\n",
       "99  0.019108 -0.033303  0.008362  0.033898  0.004566\n",
       "\n",
       "[100 rows x 5 columns]"
      ]
     },
     "execution_count": 3,
     "metadata": {},
     "output_type": "execute_result"
    }
   ],
   "source": [
    "stock = pd.read_csv('stock.dat', header = None, delim_whitespace=True)\n",
    "stock.columns = ['AC','DP','UC','EX','TX']\n",
    "stock"
   ]
  },
  {
   "cell_type": "code",
   "execution_count": 4,
   "id": "1d014d8f",
   "metadata": {},
   "outputs": [
    {
     "data": {
      "text/html": [
       "<div>\n",
       "<style scoped>\n",
       "    .dataframe tbody tr th:only-of-type {\n",
       "        vertical-align: middle;\n",
       "    }\n",
       "\n",
       "    .dataframe tbody tr th {\n",
       "        vertical-align: top;\n",
       "    }\n",
       "\n",
       "    .dataframe thead th {\n",
       "        text-align: right;\n",
       "    }\n",
       "</style>\n",
       "<table border=\"1\" class=\"dataframe\">\n",
       "  <thead>\n",
       "    <tr style=\"text-align: right;\">\n",
       "      <th></th>\n",
       "      <th>AC</th>\n",
       "      <th>DP</th>\n",
       "      <th>UC</th>\n",
       "      <th>EX</th>\n",
       "      <th>TX</th>\n",
       "    </tr>\n",
       "  </thead>\n",
       "  <tbody>\n",
       "    <tr>\n",
       "      <th>AC</th>\n",
       "      <td>1.000000</td>\n",
       "      <td>0.576924</td>\n",
       "      <td>0.508656</td>\n",
       "      <td>0.386721</td>\n",
       "      <td>0.462178</td>\n",
       "    </tr>\n",
       "    <tr>\n",
       "      <th>DP</th>\n",
       "      <td>0.576924</td>\n",
       "      <td>1.000000</td>\n",
       "      <td>0.598384</td>\n",
       "      <td>0.389519</td>\n",
       "      <td>0.321953</td>\n",
       "    </tr>\n",
       "    <tr>\n",
       "      <th>UC</th>\n",
       "      <td>0.508656</td>\n",
       "      <td>0.598384</td>\n",
       "      <td>1.000000</td>\n",
       "      <td>0.436101</td>\n",
       "      <td>0.425627</td>\n",
       "    </tr>\n",
       "    <tr>\n",
       "      <th>EX</th>\n",
       "      <td>0.386721</td>\n",
       "      <td>0.389519</td>\n",
       "      <td>0.436101</td>\n",
       "      <td>1.000000</td>\n",
       "      <td>0.523529</td>\n",
       "    </tr>\n",
       "    <tr>\n",
       "      <th>TX</th>\n",
       "      <td>0.462178</td>\n",
       "      <td>0.321953</td>\n",
       "      <td>0.425627</td>\n",
       "      <td>0.523529</td>\n",
       "      <td>1.000000</td>\n",
       "    </tr>\n",
       "  </tbody>\n",
       "</table>\n",
       "</div>"
      ],
      "text/plain": [
       "          AC        DP        UC        EX        TX\n",
       "AC  1.000000  0.576924  0.508656  0.386721  0.462178\n",
       "DP  0.576924  1.000000  0.598384  0.389519  0.321953\n",
       "UC  0.508656  0.598384  1.000000  0.436101  0.425627\n",
       "EX  0.386721  0.389519  0.436101  1.000000  0.523529\n",
       "TX  0.462178  0.321953  0.425627  0.523529  1.000000"
      ]
     },
     "execution_count": 4,
     "metadata": {},
     "output_type": "execute_result"
    }
   ],
   "source": [
    "#(a) Perform a factor analysis using principal component method on the sample correlation matrix.\n",
    "#Correlation matrix\n",
    "data = sample_corr_matrix(stock)\n",
    "data"
   ]
  },
  {
   "cell_type": "code",
   "execution_count": 5,
   "id": "cd12aab8",
   "metadata": {
    "scrolled": true
   },
   "outputs": [],
   "source": [
    "eigval, eigvec = np.linalg.eig(data)"
   ]
  },
  {
   "cell_type": "code",
   "execution_count": 6,
   "id": "df39371f",
   "metadata": {
    "scrolled": false
   },
   "outputs": [
    {
     "data": {
      "text/plain": [
       "array([2.85648688, 0.8091185 , 0.34300382, 0.54004398, 0.45134682])"
      ]
     },
     "execution_count": 6,
     "metadata": {},
     "output_type": "execute_result"
    }
   ],
   "source": [
    "eigval"
   ]
  },
  {
   "cell_type": "code",
   "execution_count": 7,
   "id": "5c070a64",
   "metadata": {},
   "outputs": [
    {
     "data": {
      "text/plain": [
       "array([[ 0.46354054,  0.24084986,  0.45328757,  0.61335698, -0.38137266],\n",
       "       [ 0.45707636,  0.5090997 , -0.67498139, -0.17789962, -0.21130679],\n",
       "       [ 0.46998043,  0.26057743,  0.39572471, -0.33703554,  0.66409849],\n",
       "       [ 0.42167703, -0.52526472,  0.17944825, -0.53901809, -0.47280364],\n",
       "       [ 0.42132914, -0.58224156, -0.38746715,  0.4336029 ,  0.3812273 ]])"
      ]
     },
     "execution_count": 7,
     "metadata": {},
     "output_type": "execute_result"
    }
   ],
   "source": [
    "eigvec"
   ]
  },
  {
   "cell_type": "code",
   "execution_count": 8,
   "id": "f7342eec",
   "metadata": {},
   "outputs": [
    {
     "data": {
      "text/plain": [
       "array([2.85648688, 0.8091185 , 0.54004398, 0.45134682, 0.34300382])"
      ]
     },
     "execution_count": 8,
     "metadata": {},
     "output_type": "execute_result"
    }
   ],
   "source": [
    "#sorted eigenvalues\n",
    "index=eigval.argsort()[::-1]\n",
    "eigval=eigval[index]\n",
    "eigval"
   ]
  },
  {
   "cell_type": "code",
   "execution_count": 9,
   "id": "e6e001df",
   "metadata": {},
   "outputs": [
    {
     "data": {
      "text/html": [
       "<div>\n",
       "<style scoped>\n",
       "    .dataframe tbody tr th:only-of-type {\n",
       "        vertical-align: middle;\n",
       "    }\n",
       "\n",
       "    .dataframe tbody tr th {\n",
       "        vertical-align: top;\n",
       "    }\n",
       "\n",
       "    .dataframe thead th {\n",
       "        text-align: right;\n",
       "    }\n",
       "</style>\n",
       "<table border=\"1\" class=\"dataframe\">\n",
       "  <thead>\n",
       "    <tr style=\"text-align: right;\">\n",
       "      <th></th>\n",
       "      <th>Eigenvalue</th>\n",
       "      <th>Proportion</th>\n",
       "      <th>Cumulative</th>\n",
       "    </tr>\n",
       "  </thead>\n",
       "  <tbody>\n",
       "    <tr>\n",
       "      <th>0</th>\n",
       "      <td>2.856487</td>\n",
       "      <td>0.571297</td>\n",
       "      <td>0.571297</td>\n",
       "    </tr>\n",
       "    <tr>\n",
       "      <th>1</th>\n",
       "      <td>0.809118</td>\n",
       "      <td>0.161824</td>\n",
       "      <td>0.733121</td>\n",
       "    </tr>\n",
       "    <tr>\n",
       "      <th>2</th>\n",
       "      <td>0.540044</td>\n",
       "      <td>0.108009</td>\n",
       "      <td>0.841130</td>\n",
       "    </tr>\n",
       "    <tr>\n",
       "      <th>3</th>\n",
       "      <td>0.451347</td>\n",
       "      <td>0.090269</td>\n",
       "      <td>0.931399</td>\n",
       "    </tr>\n",
       "    <tr>\n",
       "      <th>4</th>\n",
       "      <td>0.343004</td>\n",
       "      <td>0.068601</td>\n",
       "      <td>1.000000</td>\n",
       "    </tr>\n",
       "  </tbody>\n",
       "</table>\n",
       "</div>"
      ],
      "text/plain": [
       "   Eigenvalue  Proportion  Cumulative\n",
       "0    2.856487    0.571297    0.571297\n",
       "1    0.809118    0.161824    0.733121\n",
       "2    0.540044    0.108009    0.841130\n",
       "3    0.451347    0.090269    0.931399\n",
       "4    0.343004    0.068601    1.000000"
      ]
     },
     "execution_count": 9,
     "metadata": {},
     "output_type": "execute_result"
    }
   ],
   "source": [
    "anal = pd.DataFrame()\n",
    "anal['Eigenvalue'] = eigval\n",
    "anal['Proportion'] = anal['Eigenvalue'] / len(anal)\n",
    "anal['Cumulative'] = anal['Proportion'].cumsum(axis=0)\n",
    "anal"
   ]
  },
  {
   "cell_type": "code",
   "execution_count": 10,
   "id": "958950fb",
   "metadata": {
    "scrolled": true
   },
   "outputs": [
    {
     "data": {
      "image/png": "[encoded data removed]",
      "text/plain": [
       "<Figure size 432x288 with 1 Axes>"
      ]
     },
     "metadata": {
      "needs_background": "light"
     },
     "output_type": "display_data"
    }
   ],
   "source": [
    "#(b) How many factors are required to describe adequately the space in which these data actually fall?\n",
    "#scree plot\n",
    "plt.title('Scree Plot of Eigenvalues')\n",
    "plt.xlabel('Number')\n",
    "plt.plot(eigval, 'o-')\n",
    "plt.show()"
   ]
  },
  {
   "cell_type": "code",
   "execution_count": 11,
   "id": "96d0c61f",
   "metadata": {},
   "outputs": [
    {
     "data": {
      "text/html": [
       "<div>\n",
       "<style scoped>\n",
       "    .dataframe tbody tr th:only-of-type {\n",
       "        vertical-align: middle;\n",
       "    }\n",
       "\n",
       "    .dataframe tbody tr th {\n",
       "        vertical-align: top;\n",
       "    }\n",
       "\n",
       "    .dataframe thead th {\n",
       "        text-align: right;\n",
       "    }\n",
       "</style>\n",
       "<table border=\"1\" class=\"dataframe\">\n",
       "  <thead>\n",
       "    <tr style=\"text-align: right;\">\n",
       "      <th></th>\n",
       "      <th>Factor1</th>\n",
       "    </tr>\n",
       "  </thead>\n",
       "  <tbody>\n",
       "    <tr>\n",
       "      <th>AC</th>\n",
       "      <td>0.78</td>\n",
       "    </tr>\n",
       "    <tr>\n",
       "      <th>DP</th>\n",
       "      <td>0.77</td>\n",
       "    </tr>\n",
       "    <tr>\n",
       "      <th>UC</th>\n",
       "      <td>0.79</td>\n",
       "    </tr>\n",
       "    <tr>\n",
       "      <th>EX</th>\n",
       "      <td>0.71</td>\n",
       "    </tr>\n",
       "    <tr>\n",
       "      <th>TX</th>\n",
       "      <td>0.71</td>\n",
       "    </tr>\n",
       "  </tbody>\n",
       "</table>\n",
       "</div>"
      ],
      "text/plain": [
       "    Factor1\n",
       "AC     0.78\n",
       "DP     0.77\n",
       "UC     0.79\n",
       "EX     0.71\n",
       "TX     0.71"
      ]
     },
     "execution_count": 11,
     "metadata": {},
     "output_type": "execute_result"
    }
   ],
   "source": [
    "#(c) Obtain the factor loading matrix using Principal Component method.\n",
    "loadings = pd.DataFrame()\n",
    "loadings['Factor1'] = np.sqrt(eigval[0])*eigvec[:,0]\n",
    "loadings.index = stock.columns\n",
    "np.round(loadings,2)"
   ]
  },
  {
   "cell_type": "code",
   "execution_count": 12,
   "id": "f57a2e76",
   "metadata": {
    "scrolled": true
   },
   "outputs": [
    {
     "data": {
      "text/html": [
       "<div>\n",
       "<style scoped>\n",
       "    .dataframe tbody tr th:only-of-type {\n",
       "        vertical-align: middle;\n",
       "    }\n",
       "\n",
       "    .dataframe tbody tr th {\n",
       "        vertical-align: top;\n",
       "    }\n",
       "\n",
       "    .dataframe thead th {\n",
       "        text-align: right;\n",
       "    }\n",
       "</style>\n",
       "<table border=\"1\" class=\"dataframe\">\n",
       "  <thead>\n",
       "    <tr style=\"text-align: right;\">\n",
       "      <th></th>\n",
       "      <th>Communality</th>\n",
       "    </tr>\n",
       "  </thead>\n",
       "  <tbody>\n",
       "    <tr>\n",
       "      <th>AC</th>\n",
       "      <td>0.613773</td>\n",
       "    </tr>\n",
       "    <tr>\n",
       "      <th>DP</th>\n",
       "      <td>0.596774</td>\n",
       "    </tr>\n",
       "    <tr>\n",
       "      <th>UC</th>\n",
       "      <td>0.630945</td>\n",
       "    </tr>\n",
       "    <tr>\n",
       "      <th>EX</th>\n",
       "      <td>0.507916</td>\n",
       "    </tr>\n",
       "    <tr>\n",
       "      <th>TX</th>\n",
       "      <td>0.507079</td>\n",
       "    </tr>\n",
       "  </tbody>\n",
       "</table>\n",
       "</div>"
      ],
      "text/plain": [
       "    Communality\n",
       "AC     0.613773\n",
       "DP     0.596774\n",
       "UC     0.630945\n",
       "EX     0.507916\n",
       "TX     0.507079"
      ]
     },
     "execution_count": 12,
     "metadata": {},
     "output_type": "execute_result"
    }
   ],
   "source": [
    "#(d) Obtain the communality of each variable\n",
    "loadsquare = loadings**2\n",
    "pd.DataFrame(loadsquare.sum(axis=1), columns = ['Communality'])"
   ]
  },
  {
   "cell_type": "code",
   "execution_count": 13,
   "id": "28765d55",
   "metadata": {},
   "outputs": [],
   "source": [
    "#(f) Obtain factor (before rotation) loading matrix using Minres method.\n",
    "from factor_analyzer import FactorAnalyzer"
   ]
  },
  {
   "cell_type": "code",
   "execution_count": 14,
   "id": "59a14db1",
   "metadata": {},
   "outputs": [
    {
     "data": {
      "text/plain": [
       "FactorAnalyzer(is_corr_matrix=True, n_factors=2, rotation=None,\n",
       "               rotation_kwargs={})"
      ]
     },
     "execution_count": 14,
     "metadata": {},
     "output_type": "execute_result"
    }
   ],
   "source": [
    "fa = FactorAnalyzer(n_factors=2, rotation=None, method='minres', is_corr_matrix=True)\n",
    "fa.fit(data)"
   ]
  },
  {
   "cell_type": "code",
   "execution_count": 15,
   "id": "55e402f2",
   "metadata": {},
   "outputs": [
    {
     "data": {
      "text/html": [
       "<div>\n",
       "<style scoped>\n",
       "    .dataframe tbody tr th:only-of-type {\n",
       "        vertical-align: middle;\n",
       "    }\n",
       "\n",
       "    .dataframe tbody tr th {\n",
       "        vertical-align: top;\n",
       "    }\n",
       "\n",
       "    .dataframe thead th {\n",
       "        text-align: right;\n",
       "    }\n",
       "</style>\n",
       "<table border=\"1\" class=\"dataframe\">\n",
       "  <thead>\n",
       "    <tr style=\"text-align: right;\">\n",
       "      <th></th>\n",
       "      <th>Factor1</th>\n",
       "      <th>Factor2</th>\n",
       "    </tr>\n",
       "  </thead>\n",
       "  <tbody>\n",
       "    <tr>\n",
       "      <th>AC</th>\n",
       "      <td>0.696010</td>\n",
       "      <td>-0.096709</td>\n",
       "    </tr>\n",
       "    <tr>\n",
       "      <th>DP</th>\n",
       "      <td>0.758582</td>\n",
       "      <td>-0.418575</td>\n",
       "    </tr>\n",
       "    <tr>\n",
       "      <th>UC</th>\n",
       "      <td>0.715361</td>\n",
       "      <td>-0.146355</td>\n",
       "    </tr>\n",
       "    <tr>\n",
       "      <th>EX</th>\n",
       "      <td>0.606299</td>\n",
       "      <td>0.156562</td>\n",
       "    </tr>\n",
       "    <tr>\n",
       "      <th>TX</th>\n",
       "      <td>0.723501</td>\n",
       "      <td>0.545413</td>\n",
       "    </tr>\n",
       "  </tbody>\n",
       "</table>\n",
       "</div>"
      ],
      "text/plain": [
       "     Factor1   Factor2\n",
       "AC  0.696010 -0.096709\n",
       "DP  0.758582 -0.418575\n",
       "UC  0.715361 -0.146355\n",
       "EX  0.606299  0.156562\n",
       "TX  0.723501  0.545413"
      ]
     },
     "execution_count": 15,
     "metadata": {},
     "output_type": "execute_result"
    }
   ],
   "source": [
    "#Factor loadings before rotation\n",
    "loadings = pd.DataFrame(fa.loadings_, \n",
    "                        index = stock.columns, \n",
    "                        columns = ['Factor1', 'Factor2'])\n",
    "loadings"
   ]
  },
  {
   "cell_type": "code",
   "execution_count": 16,
   "id": "f01d0855",
   "metadata": {},
   "outputs": [
    {
     "data": {
      "image/png": "[encoded data removed]",
      "text/plain": [
       "<Figure size 360x288 with 1 Axes>"
      ]
     },
     "metadata": {
      "needs_background": "light"
     },
     "output_type": "display_data"
    }
   ],
   "source": [
    "#Preplot(Before Rotation)\n",
    "x = loadings.Factor1 ; y = loadings.Factor2\n",
    "plt.figure(figsize = (5,4))\n",
    "plt.title('Plot of Factor Pattern for Factor1 and Factor2')\n",
    "plt.xlabel('Factor1') ; plt.ylabel('Factor2')\n",
    "plt.scatter(x,y)\n",
    "for i in range(len(loadings)):\n",
    "    plt.text(x[i]-0.05, y[i]+0.05, loadings.index[i])\n",
    "plt.axvline(x = 0) ; plt.axhline(y = 0) \n",
    "plt.xlim(-0.5,1); plt.ylim(-1,1)\n",
    "plt.show()"
   ]
  },
  {
   "cell_type": "code",
   "execution_count": 17,
   "id": "90995f28",
   "metadata": {},
   "outputs": [
    {
     "data": {
      "text/plain": [
       "FactorAnalyzer(is_corr_matrix=True, n_factors=2, rotation='varimax',\n",
       "               rotation_kwargs={})"
      ]
     },
     "execution_count": 17,
     "metadata": {},
     "output_type": "execute_result"
    }
   ],
   "source": [
    "#(g) Obtain factor (after rotation) loading matrix using Minres method.\n",
    "# Rotation Method: Varimax\n",
    "fa = FactorAnalyzer(n_factors=2, rotation='varimax', method='minres', is_corr_matrix=True)\n",
    "fa.fit(data)"
   ]
  },
  {
   "cell_type": "code",
   "execution_count": 18,
   "id": "2046b4d4",
   "metadata": {},
   "outputs": [
    {
     "data": {
      "text/plain": [
       "array([[ 0.76844413,  0.63991689],\n",
       "       [-0.63991689,  0.76844413]])"
      ]
     },
     "execution_count": 18,
     "metadata": {},
     "output_type": "execute_result"
    }
   ],
   "source": [
    "# Orthogonal Transformation Matrix\n",
    "fa.rotation_matrix_"
   ]
  },
  {
   "cell_type": "code",
   "execution_count": 19,
   "id": "23d8181a",
   "metadata": {},
   "outputs": [
    {
     "data": {
      "text/html": [
       "<div>\n",
       "<style scoped>\n",
       "    .dataframe tbody tr th:only-of-type {\n",
       "        vertical-align: middle;\n",
       "    }\n",
       "\n",
       "    .dataframe tbody tr th {\n",
       "        vertical-align: top;\n",
       "    }\n",
       "\n",
       "    .dataframe thead th {\n",
       "        text-align: right;\n",
       "    }\n",
       "</style>\n",
       "<table border=\"1\" class=\"dataframe\">\n",
       "  <thead>\n",
       "    <tr style=\"text-align: right;\">\n",
       "      <th></th>\n",
       "      <th>Factor1</th>\n",
       "      <th>Factor2</th>\n",
       "    </tr>\n",
       "  </thead>\n",
       "  <tbody>\n",
       "    <tr>\n",
       "      <th>AC</th>\n",
       "      <td>0.596731</td>\n",
       "      <td>0.371073</td>\n",
       "    </tr>\n",
       "    <tr>\n",
       "      <th>DP</th>\n",
       "      <td>0.850781</td>\n",
       "      <td>0.163778</td>\n",
       "    </tr>\n",
       "    <tr>\n",
       "      <th>UC</th>\n",
       "      <td>0.643369</td>\n",
       "      <td>0.345306</td>\n",
       "    </tr>\n",
       "    <tr>\n",
       "      <th>EX</th>\n",
       "      <td>0.365720</td>\n",
       "      <td>0.508290</td>\n",
       "    </tr>\n",
       "    <tr>\n",
       "      <th>TX</th>\n",
       "      <td>0.206951</td>\n",
       "      <td>0.882100</td>\n",
       "    </tr>\n",
       "  </tbody>\n",
       "</table>\n",
       "</div>"
      ],
      "text/plain": [
       "     Factor1   Factor2\n",
       "AC  0.596731  0.371073\n",
       "DP  0.850781  0.163778\n",
       "UC  0.643369  0.345306\n",
       "EX  0.365720  0.508290\n",
       "TX  0.206951  0.882100"
      ]
     },
     "execution_count": 19,
     "metadata": {},
     "output_type": "execute_result"
    }
   ],
   "source": [
    "# Rotated Factor Pattern\n",
    "Rloadings = pd.DataFrame(fa.loadings_, \n",
    "             index = stock.columns, \n",
    "             columns = ['Factor1', 'Factor2'])\n",
    "Rloadings"
   ]
  },
  {
   "cell_type": "code",
   "execution_count": 20,
   "id": "1b2c8d8c",
   "metadata": {},
   "outputs": [
    {
     "data": {
      "image/png": "[encoded data removed]",
      "text/plain": [
       "<Figure size 432x288 with 1 Axes>"
      ]
     },
     "metadata": {
      "needs_background": "light"
     },
     "output_type": "display_data"
    }
   ],
   "source": [
    "#Plot(After Rotation)\n",
    "x = Rloadings.Factor1 ; y = Rloadings.Factor2\n",
    "plt.figure(figsize = (6,4))\n",
    "plt.title('Plot of Factor Pattern for Factor1 and Factor2')\n",
    "plt.xlabel('Factor1') ; plt.ylabel('Factor2')\n",
    "plt.scatter(x,y)\n",
    "for i in range(len(loadings)):\n",
    "    plt.text(x[i]-0.05, y[i]+0.05, Rloadings.index[i])\n",
    "plt.axvline(x = 0) ; plt.axhline(y = 0) \n",
    "plt.xlim(-0.5,1); plt.ylim(-0.8,1.2)\n",
    "plt.show()"
   ]
  },
  {
   "cell_type": "code",
   "execution_count": 21,
   "id": "78b6df3d",
   "metadata": {},
   "outputs": [
    {
     "data": {
      "text/html": [
       "<div>\n",
       "<style scoped>\n",
       "    .dataframe tbody tr th:only-of-type {\n",
       "        vertical-align: middle;\n",
       "    }\n",
       "\n",
       "    .dataframe tbody tr th {\n",
       "        vertical-align: top;\n",
       "    }\n",
       "\n",
       "    .dataframe thead th {\n",
       "        text-align: right;\n",
       "    }\n",
       "</style>\n",
       "<table border=\"1\" class=\"dataframe\">\n",
       "  <thead>\n",
       "    <tr style=\"text-align: right;\">\n",
       "      <th></th>\n",
       "      <th>Communality</th>\n",
       "    </tr>\n",
       "  </thead>\n",
       "  <tbody>\n",
       "    <tr>\n",
       "      <th>AC</th>\n",
       "      <td>0.493783</td>\n",
       "    </tr>\n",
       "    <tr>\n",
       "      <th>DP</th>\n",
       "      <td>0.750651</td>\n",
       "    </tr>\n",
       "    <tr>\n",
       "      <th>UC</th>\n",
       "      <td>0.533161</td>\n",
       "    </tr>\n",
       "    <tr>\n",
       "      <th>EX</th>\n",
       "      <td>0.392110</td>\n",
       "    </tr>\n",
       "    <tr>\n",
       "      <th>TX</th>\n",
       "      <td>0.820929</td>\n",
       "    </tr>\n",
       "  </tbody>\n",
       "</table>\n",
       "</div>"
      ],
      "text/plain": [
       "    Communality\n",
       "AC     0.493783\n",
       "DP     0.750651\n",
       "UC     0.533161\n",
       "EX     0.392110\n",
       "TX     0.820929"
      ]
     },
     "execution_count": 21,
     "metadata": {},
     "output_type": "execute_result"
    }
   ],
   "source": [
    "#(h) Obtain the communalities (after rotation) of each variable.\n",
    "pd.DataFrame(fa.get_communalities(), \n",
    "             index=stock.columns, \n",
    "             columns=['Communality'])"
   ]
  }
 ],
 "metadata": {
  "kernelspec": {
   "display_name": "Python 3",
   "language": "python",
   "name": "python3"
  },
  "language_info": {
   "codemirror_mode": {
    "name": "ipython",
    "version": 3
   },
   "file_extension": ".py",
   "mimetype": "text/x-python",
   "name": "python",
   "nbconvert_exporter": "python",
   "pygments_lexer": "ipython3",
   "version": "3.8.8"
  }
 },
 "nbformat": 4,
 "nbformat_minor": 5
}
