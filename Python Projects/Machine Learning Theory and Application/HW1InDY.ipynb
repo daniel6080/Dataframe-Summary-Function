{
 "cells": [
  {
   "cell_type": "code",
   "execution_count": 1,
   "id": "02a7ea64",
   "metadata": {},
   "outputs": [],
   "source": [
    "import numpy as np\n",
    "import pandas as pd"
   ]
  },
  {
   "cell_type": "markdown",
   "id": "d8585b62",
   "metadata": {},
   "source": [
    "### Prompt"
   ]
  },
  {
   "cell_type": "code",
   "execution_count": 2,
   "id": "3093a2db",
   "metadata": {
    "scrolled": true
   },
   "outputs": [
    {
     "name": "stdout",
     "output_type": "stream",
     "text": [
      "Please enter the name of the data file: harris.dat\n"
     ]
    }
   ],
   "source": [
    "import_name=input(\"Please enter the name of the data file: \")"
   ]
  },
  {
   "cell_type": "code",
   "execution_count": 3,
   "id": "7c62670f",
   "metadata": {},
   "outputs": [
    {
     "data": {
      "text/plain": [
       "'harris.dat'"
      ]
     },
     "execution_count": 3,
     "metadata": {},
     "output_type": "execute_result"
    }
   ],
   "source": [
    "import_name"
   ]
  },
  {
   "cell_type": "code",
   "execution_count": 4,
   "id": "5ce19445",
   "metadata": {
    "scrolled": true
   },
   "outputs": [
    {
     "name": "stdout",
     "output_type": "stream",
     "text": [
      "Please select the separator used in the data file (1 = whitespace or 2 = comma): 1\n"
     ]
    }
   ],
   "source": [
    "encode_sep=int(input(\"Please select the separator used in the data file (1 = whitespace or 2 = comma): \"))\n",
    "separator={encode_sep ==1 : \" \"}.get(True, \",\")"
   ]
  },
  {
   "cell_type": "code",
   "execution_count": 5,
   "id": "202b0ff1",
   "metadata": {},
   "outputs": [
    {
     "name": "stdout",
     "output_type": "stream",
     "text": [
      "Please enter the position of the response variable column (select from 1 to p): 1\n"
     ]
    }
   ],
   "source": [
    "res_pos =int(input(\"Please enter the position of the response variable column (select from 1 to p): \"))"
   ]
  },
  {
   "cell_type": "code",
   "execution_count": 6,
   "id": "19bc6ba5",
   "metadata": {},
   "outputs": [
    {
     "name": "stdout",
     "output_type": "stream",
     "text": [
      "Does the data file include a column header? (y/n) : n\n"
     ]
    }
   ],
   "source": [
    "header=input(\"Does the data file include a column header? (y/n) : \")"
   ]
  },
  {
   "cell_type": "code",
   "execution_count": 7,
   "id": "4ffb3b68",
   "metadata": {},
   "outputs": [
    {
     "name": "stdout",
     "output_type": "stream",
     "text": [
      "Please enter the name for the file to be exported (e.g. result.txt) : HW1_output.txt\n"
     ]
    }
   ],
   "source": [
    "export_name=input(\"Please enter the name for the file to be exported (e.g. result.txt) : \")"
   ]
  },
  {
   "cell_type": "markdown",
   "id": "65f64e55",
   "metadata": {},
   "source": [
    "### Multiple linear regression"
   ]
  },
  {
   "cell_type": "code",
   "execution_count": 8,
   "id": "111f9815",
   "metadata": {},
   "outputs": [],
   "source": [
    "if(header==\"y\"):\n",
    "    data=pd.read_csv(import_name, sep=separator)\n",
    "else:\n",
    "    data=pd.read_csv(import_name, sep=separator, header=None)"
   ]
  },
  {
   "cell_type": "code",
   "execution_count": 9,
   "id": "4e6aeb7b",
   "metadata": {
    "scrolled": true
   },
   "outputs": [
    {
     "data": {
      "text/html": [
       "<div>\n",
       "<style scoped>\n",
       "    .dataframe tbody tr th:only-of-type {\n",
       "        vertical-align: middle;\n",
       "    }\n",
       "\n",
       "    .dataframe tbody tr th {\n",
       "        vertical-align: top;\n",
       "    }\n",
       "\n",
       "    .dataframe thead th {\n",
       "        text-align: right;\n",
       "    }\n",
       "</style>\n",
       "<table border=\"1\" class=\"dataframe\">\n",
       "  <thead>\n",
       "    <tr style=\"text-align: right;\">\n",
       "      <th></th>\n",
       "      <th>0</th>\n",
       "      <th>1</th>\n",
       "      <th>2</th>\n",
       "      <th>3</th>\n",
       "      <th>4</th>\n",
       "    </tr>\n",
       "  </thead>\n",
       "  <tbody>\n",
       "    <tr>\n",
       "      <th>0</th>\n",
       "      <td>3900</td>\n",
       "      <td>12</td>\n",
       "      <td>0.0</td>\n",
       "      <td>1</td>\n",
       "      <td>0</td>\n",
       "    </tr>\n",
       "    <tr>\n",
       "      <th>1</th>\n",
       "      <td>4020</td>\n",
       "      <td>10</td>\n",
       "      <td>44.0</td>\n",
       "      <td>7</td>\n",
       "      <td>0</td>\n",
       "    </tr>\n",
       "    <tr>\n",
       "      <th>2</th>\n",
       "      <td>4290</td>\n",
       "      <td>12</td>\n",
       "      <td>5.0</td>\n",
       "      <td>30</td>\n",
       "      <td>0</td>\n",
       "    </tr>\n",
       "    <tr>\n",
       "      <th>3</th>\n",
       "      <td>4380</td>\n",
       "      <td>8</td>\n",
       "      <td>6.2</td>\n",
       "      <td>7</td>\n",
       "      <td>0</td>\n",
       "    </tr>\n",
       "    <tr>\n",
       "      <th>4</th>\n",
       "      <td>4380</td>\n",
       "      <td>8</td>\n",
       "      <td>7.5</td>\n",
       "      <td>6</td>\n",
       "      <td>0</td>\n",
       "    </tr>\n",
       "    <tr>\n",
       "      <th>...</th>\n",
       "      <td>...</td>\n",
       "      <td>...</td>\n",
       "      <td>...</td>\n",
       "      <td>...</td>\n",
       "      <td>...</td>\n",
       "    </tr>\n",
       "    <tr>\n",
       "      <th>88</th>\n",
       "      <td>6600</td>\n",
       "      <td>15</td>\n",
       "      <td>215.5</td>\n",
       "      <td>16</td>\n",
       "      <td>1</td>\n",
       "    </tr>\n",
       "    <tr>\n",
       "      <th>89</th>\n",
       "      <td>6840</td>\n",
       "      <td>15</td>\n",
       "      <td>41.5</td>\n",
       "      <td>7</td>\n",
       "      <td>1</td>\n",
       "    </tr>\n",
       "    <tr>\n",
       "      <th>90</th>\n",
       "      <td>6900</td>\n",
       "      <td>12</td>\n",
       "      <td>175.0</td>\n",
       "      <td>10</td>\n",
       "      <td>1</td>\n",
       "    </tr>\n",
       "    <tr>\n",
       "      <th>91</th>\n",
       "      <td>6900</td>\n",
       "      <td>15</td>\n",
       "      <td>132.0</td>\n",
       "      <td>24</td>\n",
       "      <td>1</td>\n",
       "    </tr>\n",
       "    <tr>\n",
       "      <th>92</th>\n",
       "      <td>8100</td>\n",
       "      <td>16</td>\n",
       "      <td>54.5</td>\n",
       "      <td>33</td>\n",
       "      <td>1</td>\n",
       "    </tr>\n",
       "  </tbody>\n",
       "</table>\n",
       "<p>93 rows × 5 columns</p>\n",
       "</div>"
      ],
      "text/plain": [
       "       0   1      2   3  4\n",
       "0   3900  12    0.0   1  0\n",
       "1   4020  10   44.0   7  0\n",
       "2   4290  12    5.0  30  0\n",
       "3   4380   8    6.2   7  0\n",
       "4   4380   8    7.5   6  0\n",
       "..   ...  ..    ...  .. ..\n",
       "88  6600  15  215.5  16  1\n",
       "89  6840  15   41.5   7  1\n",
       "90  6900  12  175.0  10  1\n",
       "91  6900  15  132.0  24  1\n",
       "92  8100  16   54.5  33  1\n",
       "\n",
       "[93 rows x 5 columns]"
      ]
     },
     "execution_count": 9,
     "metadata": {},
     "output_type": "execute_result"
    }
   ],
   "source": [
    "data"
   ]
  },
  {
   "cell_type": "code",
   "execution_count": 10,
   "id": "7c7ac4de",
   "metadata": {},
   "outputs": [
    {
     "data": {
      "text/plain": [
       "0     3900\n",
       "1     4020\n",
       "2     4290\n",
       "3     4380\n",
       "4     4380\n",
       "      ... \n",
       "88    6600\n",
       "89    6840\n",
       "90    6900\n",
       "91    6900\n",
       "92    8100\n",
       "Name: 0, Length: 93, dtype: int64"
      ]
     },
     "execution_count": 10,
     "metadata": {},
     "output_type": "execute_result"
    }
   ],
   "source": [
    "Y = data.iloc[:,res_pos-1] #response variable\n",
    "Y"
   ]
  },
  {
   "cell_type": "code",
   "execution_count": 11,
   "id": "95019479",
   "metadata": {
    "scrolled": true
   },
   "outputs": [],
   "source": [
    "Z_col = data.columns.delete(res_pos-1) #columns of predictor variables\n",
    "Z=data[Z_col] #predictor variables"
   ]
  },
  {
   "cell_type": "code",
   "execution_count": 12,
   "id": "5c74c83b",
   "metadata": {},
   "outputs": [
    {
     "data": {
      "text/html": [
       "<div>\n",
       "<style scoped>\n",
       "    .dataframe tbody tr th:only-of-type {\n",
       "        vertical-align: middle;\n",
       "    }\n",
       "\n",
       "    .dataframe tbody tr th {\n",
       "        vertical-align: top;\n",
       "    }\n",
       "\n",
       "    .dataframe thead th {\n",
       "        text-align: right;\n",
       "    }\n",
       "</style>\n",
       "<table border=\"1\" class=\"dataframe\">\n",
       "  <thead>\n",
       "    <tr style=\"text-align: right;\">\n",
       "      <th></th>\n",
       "      <th>0</th>\n",
       "      <th>1</th>\n",
       "      <th>2</th>\n",
       "      <th>3</th>\n",
       "      <th>4</th>\n",
       "    </tr>\n",
       "  </thead>\n",
       "  <tbody>\n",
       "    <tr>\n",
       "      <th>0</th>\n",
       "      <td>1</td>\n",
       "      <td>12</td>\n",
       "      <td>0.0</td>\n",
       "      <td>1</td>\n",
       "      <td>0</td>\n",
       "    </tr>\n",
       "    <tr>\n",
       "      <th>1</th>\n",
       "      <td>1</td>\n",
       "      <td>10</td>\n",
       "      <td>44.0</td>\n",
       "      <td>7</td>\n",
       "      <td>0</td>\n",
       "    </tr>\n",
       "    <tr>\n",
       "      <th>2</th>\n",
       "      <td>1</td>\n",
       "      <td>12</td>\n",
       "      <td>5.0</td>\n",
       "      <td>30</td>\n",
       "      <td>0</td>\n",
       "    </tr>\n",
       "    <tr>\n",
       "      <th>3</th>\n",
       "      <td>1</td>\n",
       "      <td>8</td>\n",
       "      <td>6.2</td>\n",
       "      <td>7</td>\n",
       "      <td>0</td>\n",
       "    </tr>\n",
       "    <tr>\n",
       "      <th>4</th>\n",
       "      <td>1</td>\n",
       "      <td>8</td>\n",
       "      <td>7.5</td>\n",
       "      <td>6</td>\n",
       "      <td>0</td>\n",
       "    </tr>\n",
       "    <tr>\n",
       "      <th>...</th>\n",
       "      <td>...</td>\n",
       "      <td>...</td>\n",
       "      <td>...</td>\n",
       "      <td>...</td>\n",
       "      <td>...</td>\n",
       "    </tr>\n",
       "    <tr>\n",
       "      <th>88</th>\n",
       "      <td>1</td>\n",
       "      <td>15</td>\n",
       "      <td>215.5</td>\n",
       "      <td>16</td>\n",
       "      <td>1</td>\n",
       "    </tr>\n",
       "    <tr>\n",
       "      <th>89</th>\n",
       "      <td>1</td>\n",
       "      <td>15</td>\n",
       "      <td>41.5</td>\n",
       "      <td>7</td>\n",
       "      <td>1</td>\n",
       "    </tr>\n",
       "    <tr>\n",
       "      <th>90</th>\n",
       "      <td>1</td>\n",
       "      <td>12</td>\n",
       "      <td>175.0</td>\n",
       "      <td>10</td>\n",
       "      <td>1</td>\n",
       "    </tr>\n",
       "    <tr>\n",
       "      <th>91</th>\n",
       "      <td>1</td>\n",
       "      <td>15</td>\n",
       "      <td>132.0</td>\n",
       "      <td>24</td>\n",
       "      <td>1</td>\n",
       "    </tr>\n",
       "    <tr>\n",
       "      <th>92</th>\n",
       "      <td>1</td>\n",
       "      <td>16</td>\n",
       "      <td>54.5</td>\n",
       "      <td>33</td>\n",
       "      <td>1</td>\n",
       "    </tr>\n",
       "  </tbody>\n",
       "</table>\n",
       "<p>93 rows × 5 columns</p>\n",
       "</div>"
      ],
      "text/plain": [
       "    0   1      2   3  4\n",
       "0   1  12    0.0   1  0\n",
       "1   1  10   44.0   7  0\n",
       "2   1  12    5.0  30  0\n",
       "3   1   8    6.2   7  0\n",
       "4   1   8    7.5   6  0\n",
       ".. ..  ..    ...  .. ..\n",
       "88  1  15  215.5  16  1\n",
       "89  1  15   41.5   7  1\n",
       "90  1  12  175.0  10  1\n",
       "91  1  15  132.0  24  1\n",
       "92  1  16   54.5  33  1\n",
       "\n",
       "[93 rows x 5 columns]"
      ]
     },
     "execution_count": 12,
     "metadata": {},
     "output_type": "execute_result"
    }
   ],
   "source": [
    "ones=pd.DataFrame(np.ones(len(data),dtype=np.int8))\n",
    "Z=pd.concat([ones,Z],axis=1)\n",
    "Z #predictor variables with constant term"
   ]
  },
  {
   "cell_type": "code",
   "execution_count": 13,
   "id": "89114d11",
   "metadata": {
    "scrolled": true
   },
   "outputs": [
    {
     "data": {
      "text/html": [
       "<div>\n",
       "<style scoped>\n",
       "    .dataframe tbody tr th:only-of-type {\n",
       "        vertical-align: middle;\n",
       "    }\n",
       "\n",
       "    .dataframe tbody tr th {\n",
       "        vertical-align: top;\n",
       "    }\n",
       "\n",
       "    .dataframe thead th {\n",
       "        text-align: right;\n",
       "    }\n",
       "</style>\n",
       "<table border=\"1\" class=\"dataframe\">\n",
       "  <thead>\n",
       "    <tr style=\"text-align: right;\">\n",
       "      <th></th>\n",
       "      <th>0</th>\n",
       "    </tr>\n",
       "  </thead>\n",
       "  <tbody>\n",
       "    <tr>\n",
       "      <th>0</th>\n",
       "      <td>3526.422</td>\n",
       "    </tr>\n",
       "    <tr>\n",
       "      <th>1</th>\n",
       "      <td>90.020</td>\n",
       "    </tr>\n",
       "    <tr>\n",
       "      <th>2</th>\n",
       "      <td>1.269</td>\n",
       "    </tr>\n",
       "    <tr>\n",
       "      <th>3</th>\n",
       "      <td>23.406</td>\n",
       "    </tr>\n",
       "    <tr>\n",
       "      <th>4</th>\n",
       "      <td>722.461</td>\n",
       "    </tr>\n",
       "  </tbody>\n",
       "</table>\n",
       "</div>"
      ],
      "text/plain": [
       "          0\n",
       "0  3526.422\n",
       "1    90.020\n",
       "2     1.269\n",
       "3    23.406\n",
       "4   722.461"
      ]
     },
     "execution_count": 13,
     "metadata": {},
     "output_type": "execute_result"
    }
   ],
   "source": [
    "B_hat=pd.DataFrame((np.linalg.inv(Z.T.dot(Z))).dot(Z.T).dot(Y))\n",
    "B_hat=round(B_hat,3)\n",
    "B_hat"
   ]
  },
  {
   "cell_type": "code",
   "execution_count": 14,
   "id": "2e6db266",
   "metadata": {
    "scrolled": true
   },
   "outputs": [
    {
     "data": {
      "text/html": [
       "<div>\n",
       "<style scoped>\n",
       "    .dataframe tbody tr th:only-of-type {\n",
       "        vertical-align: middle;\n",
       "    }\n",
       "\n",
       "    .dataframe tbody tr th {\n",
       "        vertical-align: top;\n",
       "    }\n",
       "\n",
       "    .dataframe thead th {\n",
       "        text-align: right;\n",
       "    }\n",
       "</style>\n",
       "<table border=\"1\" class=\"dataframe\">\n",
       "  <thead>\n",
       "    <tr style=\"text-align: right;\">\n",
       "      <th></th>\n",
       "      <th>0</th>\n",
       "    </tr>\n",
       "  </thead>\n",
       "  <tbody>\n",
       "    <tr>\n",
       "      <th>0</th>\n",
       "      <td>4630.068</td>\n",
       "    </tr>\n",
       "    <tr>\n",
       "      <th>1</th>\n",
       "      <td>4646.300</td>\n",
       "    </tr>\n",
       "    <tr>\n",
       "      <th>2</th>\n",
       "      <td>5315.187</td>\n",
       "    </tr>\n",
       "    <tr>\n",
       "      <th>3</th>\n",
       "      <td>4418.292</td>\n",
       "    </tr>\n",
       "    <tr>\n",
       "      <th>4</th>\n",
       "      <td>4396.536</td>\n",
       "    </tr>\n",
       "    <tr>\n",
       "      <th>...</th>\n",
       "      <td>...</td>\n",
       "    </tr>\n",
       "    <tr>\n",
       "      <th>88</th>\n",
       "      <td>6247.148</td>\n",
       "    </tr>\n",
       "    <tr>\n",
       "      <th>89</th>\n",
       "      <td>5815.688</td>\n",
       "    </tr>\n",
       "    <tr>\n",
       "      <th>90</th>\n",
       "      <td>5785.258</td>\n",
       "    </tr>\n",
       "    <tr>\n",
       "      <th>91</th>\n",
       "      <td>6328.435</td>\n",
       "    </tr>\n",
       "    <tr>\n",
       "      <th>92</th>\n",
       "      <td>6530.762</td>\n",
       "    </tr>\n",
       "  </tbody>\n",
       "</table>\n",
       "<p>93 rows × 1 columns</p>\n",
       "</div>"
      ],
      "text/plain": [
       "           0\n",
       "0   4630.068\n",
       "1   4646.300\n",
       "2   5315.187\n",
       "3   4418.292\n",
       "4   4396.536\n",
       "..       ...\n",
       "88  6247.148\n",
       "89  5815.688\n",
       "90  5785.258\n",
       "91  6328.435\n",
       "92  6530.762\n",
       "\n",
       "[93 rows x 1 columns]"
      ]
     },
     "execution_count": 14,
     "metadata": {},
     "output_type": "execute_result"
    }
   ],
   "source": [
    "#Fitted values\n",
    "Y_hat = Z.dot(B_hat)\n",
    "Y_hat=round(Y_hat,3)\n",
    "Y_hat"
   ]
  },
  {
   "cell_type": "code",
   "execution_count": 15,
   "id": "9a6355b1",
   "metadata": {
    "scrolled": true
   },
   "outputs": [
    {
     "data": {
      "text/plain": [
       "0.5109"
      ]
     },
     "execution_count": 15,
     "metadata": {},
     "output_type": "execute_result"
    }
   ],
   "source": [
    "#Calculate R^2\n",
    "SSE = sum((Y-Y_hat[0])**2)\n",
    "SST = sum((Y-Y.mean())**2)\n",
    "R_square = round(1-SSE/SST,4)\n",
    "R_square"
   ]
  },
  {
   "cell_type": "code",
   "execution_count": 16,
   "id": "96de355b",
   "metadata": {
    "scrolled": false
   },
   "outputs": [
    {
     "data": {
      "text/plain": [
       "257476.5621"
      ]
     },
     "execution_count": 16,
     "metadata": {},
     "output_type": "execute_result"
    }
   ],
   "source": [
    "#Calculate MSE\n",
    "n = len(data)\n",
    "p = len(Z.columns)\n",
    "MSE = round(SSE/(n-p),4)\n",
    "MSE"
   ]
  },
  {
   "cell_type": "markdown",
   "id": "caf661ef",
   "metadata": {},
   "source": [
    "### Write File"
   ]
  },
  {
   "cell_type": "code",
   "execution_count": 17,
   "id": "bef3dbcb",
   "metadata": {
    "scrolled": true
   },
   "outputs": [],
   "source": [
    "f = open(export_name,'w')\n",
    "text = \"Coefficients\\n-------------\\nConstant: \"+str(B_hat.iloc[0,0])+\"\\n\"\n",
    "for i in range(1,len(Z.columns)):\n",
    "    text += \"Beta\"+str(i)+\": \"+str(B_hat.iloc[i,0])+\"\\n\"\n",
    "text += \"\\nID, Actual values, Fitted values\\n--------------------------------\\n\"\n",
    "for j in range(5):\n",
    "    text += str(j+1) + \", \" + str(Y[j]) + \", \" + str(Y_hat.iloc[j,0]) + \"\\n\"\n",
    "text += \"(continue)\\n\\nModel Summary\\n-------------\\nR-square = \" + str(R_square) + \"\\n\"\n",
    "text += \"MSE = \" + str(MSE)\n",
    "f.write(text)\n",
    "f.close()"
   ]
  }
 ],
 "metadata": {
  "kernelspec": {
   "display_name": "Python 3 (ipykernel)",
   "language": "python",
   "name": "python3"
  },
  "language_info": {
   "codemirror_mode": {
    "name": "ipython",
    "version": 3
   },
   "file_extension": ".py",
   "mimetype": "text/x-python",
   "name": "python",
   "nbconvert_exporter": "python",
   "pygments_lexer": "ipython3",
   "version": "3.8.8"
  }
 },
 "nbformat": 4,
 "nbformat_minor": 5
}
