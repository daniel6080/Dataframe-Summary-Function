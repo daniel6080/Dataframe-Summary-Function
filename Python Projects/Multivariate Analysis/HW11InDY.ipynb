{
 "cells": [
  {
   "cell_type": "code",
   "execution_count": 1,
   "id": "7fbb5c92",
   "metadata": {},
   "outputs": [],
   "source": [
    "import numpy as np\n",
    "import pandas as pd"
   ]
  },
  {
   "cell_type": "code",
   "execution_count": 2,
   "id": "383cfea7",
   "metadata": {},
   "outputs": [],
   "source": [
    "#1. Write a Python code to calculae the linear discriminant function (LDF) for several classes.\n",
    "#   Your code should be able to predict the Y class based on the input X0 values.\n",
    "#X1~X3: Species 1~3\n",
    "#Assume equal priors, equal misclassification costs\n",
    "#Classify to the class with largest LDF value\n",
    "\n",
    "def my_lda(x,y):\n",
    "    var = x.columns\n",
    "    x=pd.DataFrame(pd.DataFrame.reset_index(x.T, drop=True)).T\n",
    "    X1=x.iloc[:50]\n",
    "    X2=x.iloc[50:100]\n",
    "    X3=x.iloc[100:]\n",
    "    \n",
    "    #Calculate sample means and covariances\n",
    "    n1, n2, n3 = y.value_counts()\n",
    "    n = n1 + n2 + n3\n",
    "    p=1/3 #Assume equal priors\n",
    "    X1_mean=pd.DataFrame(X1.mean())\n",
    "    X2_mean=pd.DataFrame(X2.mean())\n",
    "    X3_mean=pd.DataFrame(X3.mean())\n",
    "    S1=X1.cov()\n",
    "    S2=X2.cov()\n",
    "    S3=X3.cov()\n",
    "    Sp = 1/(n1+n2+n3-3)*((n1-1)*S1+(n2-1)*S2+(n3-1)*S3)\n",
    "    \n",
    "    #Dataframe for classification\n",
    "    classified_lda = pd.DataFrame(columns = ['Classified into TYPE'])\n",
    "    \n",
    "    #Calculate LDFs\n",
    "    #d: slopes\n",
    "    #m: constants\n",
    "    d1 = X1_mean.T.dot(np.linalg.inv(Sp))\n",
    "    d2 = X2_mean.T.dot(np.linalg.inv(Sp))\n",
    "    d3 = X3_mean.T.dot(np.linalg.inv(Sp))\n",
    "    m1 = -1/2*X1_mean.T.dot(np.linalg.inv(Sp)).dot(X1_mean).iloc[0,0]+np.log(p)\n",
    "    m2 = -1/2*X2_mean.T.dot(np.linalg.inv(Sp)).dot(X2_mean).iloc[0,0]+np.log(p)\n",
    "    m3 = -1/2*X3_mean.T.dot(np.linalg.inv(Sp)).dot(X3_mean).iloc[0,0]+np.log(p)\n",
    "    \n",
    "    #Coefficients of LDFs\n",
    "    coeff1 = np.append(m1,d1)\n",
    "    coeff2 = np.append(m2,d2)\n",
    "    coeff3 = np.append(m3,d3)\n",
    "    coeff1 = pd.DataFrame(coeff1, index = np.append('Constant',var), columns = ['Coefficients'])\n",
    "    coeff2 = pd.DataFrame(coeff2, index = np.append('Constant',var), columns = ['Coefficients'])\n",
    "    coeff3 = pd.DataFrame(coeff3, index = np.append('Constant',var), columns = ['Coefficients'])\n",
    "\n",
    "    for i in range(len(x)):\n",
    "        x0=pd.Series.reset_index(x.iloc[i,:], drop=True)\n",
    "        #linear discriminant functions for population i (i=1,2,...,g)\n",
    "        d1_val = X1_mean.T.dot(np.linalg.inv(Sp)).dot(x0)[0]-1/2*X1_mean.T.dot(np.linalg.inv(Sp)).dot(X1_mean).iloc[0,0]+np.log(p)\n",
    "        d2_val = X2_mean.T.dot(np.linalg.inv(Sp)).dot(x0)[0]-1/2*X2_mean.T.dot(np.linalg.inv(Sp)).dot(X2_mean).iloc[0,0]+np.log(p)\n",
    "        d3_val = X3_mean.T.dot(np.linalg.inv(Sp)).dot(x0)[0]-1/2*X3_mean.T.dot(np.linalg.inv(Sp)).dot(X3_mean).iloc[0,0]+np.log(p)\n",
    "        max_ind = np.argmax([d1_val,d2_val,d3_val])\n",
    "        classified_lda.loc[i,:] = max_ind+1 #save classification\n",
    "    \n",
    "    #Classification result\n",
    "    result=pd.concat([y,classified_lda], axis=1)\n",
    "    \n",
    "    #Calculate accuracy of LDA (APER method)\n",
    "    classified_lda.columns = ['Species']\n",
    "    error_lda = classified_lda==pd.DataFrame(y)\n",
    "    correct, incorrect = error_lda.value_counts()\n",
    "    accuracy_lda = correct/(correct+incorrect)\n",
    "    \n",
    "    return coeff1, coeff2, coeff3, result, accuracy_lda"
   ]
  },
  {
   "cell_type": "code",
   "execution_count": 3,
   "id": "4f613e23",
   "metadata": {},
   "outputs": [],
   "source": [
    "#2. Write a Python code to calculate the quadratic discriminant function (QDF) for several classes.\n",
    "#   Your code should be able to predict the Y class based on the input X0 values.\n",
    "#Assume equal priors, equal misclassification costs\n",
    "#Classify to the class with largest QDF value\n",
    "\n",
    "def my_qda(x,y,x_new):\n",
    "    var = x.columns\n",
    "    x=pd.DataFrame(pd.DataFrame.reset_index(x.T, drop=True)).T\n",
    "    X1=x.iloc[:50]\n",
    "    X2=x.iloc[50:100]\n",
    "    X3=x.iloc[100:]\n",
    "    X1=pd.DataFrame(pd.DataFrame.reset_index(X1.T, drop=True)).T\n",
    "    X2=pd.DataFrame(pd.DataFrame.reset_index(X2.T, drop=True)).T\n",
    "    X3=pd.DataFrame(pd.DataFrame.reset_index(X3.T, drop=True)).T\n",
    "    \n",
    "    #Calculate sample means and covariances\n",
    "    n1, n2, n3 = y.value_counts()\n",
    "    n = n1 + n2 + n3\n",
    "    p=1/3 #Assume equal priors\n",
    "    X1_mean=pd.DataFrame(X1.mean())\n",
    "    X2_mean=pd.DataFrame(X2.mean())\n",
    "    X3_mean=pd.DataFrame(X3.mean())\n",
    "    S1=X1.cov()\n",
    "    S2=X2.cov()\n",
    "    S3=X3.cov()\n",
    "    \n",
    "    #Dataframe for classification and quadratic discriminant scores\n",
    "    classified_qda = pd.DataFrame(columns = ['Classified into TYPE'])\n",
    "    scores = pd.DataFrame(columns = ['QD score'])\n",
    "\n",
    "    #Calculate QDFs\n",
    "    for i in range(len(x)):\n",
    "        x0=pd.DataFrame(x.iloc[i,:])\n",
    "        x0.columns = [0]\n",
    "        #quadratic discriminant functions for population i (i=1,2,...,g)\n",
    "        d1_val = -1/2*np.log(np.linalg.det(S1))-1/2*((x0-X1_mean).T.dot(np.linalg.inv(S1))).dot(x0-X1_mean).iloc[0,0]+np.log(p)\n",
    "        d2_val = -1/2*np.log(np.linalg.det(S2))-1/2*((x0-X2_mean).T.dot(np.linalg.inv(S2))).dot(x0-X2_mean).iloc[0,0]+np.log(p)\n",
    "        d3_val = -1/2*np.log(np.linalg.det(S3))-1/2*((x0-X3_mean).T.dot(np.linalg.inv(S3))).dot(x0-X3_mean).iloc[0,0]+np.log(p)\n",
    "        max_ind = np.argmax([d1_val,d2_val,d3_val])\n",
    "        classified_qda.loc[i,:] = max_ind+1 #save classification\n",
    "        scores.loc[i,:] = np.round(max([d1_val,d2_val,d3_val]),4) #save scores\n",
    "    \n",
    "    #Classification result\n",
    "    result=pd.concat([y,classified_qda,scores], axis=1)\n",
    "    \n",
    "    #Classification for new observation\n",
    "    result_new = pd.DataFrame(index=['x_new'],columns = ['Classified into TYPE','QD score'])\n",
    "    d1_new = -1/2*np.log(np.linalg.det(S1))-1/2*((x_new-X1_mean).T.dot(np.linalg.inv(S1))).dot(x_new-X1_mean).iloc[0,0]+np.log(p)\n",
    "    d2_new = -1/2*np.log(np.linalg.det(S2))-1/2*((x_new-X2_mean).T.dot(np.linalg.inv(S2))).dot(x_new-X2_mean).iloc[0,0]+np.log(p)\n",
    "    d3_new = -1/2*np.log(np.linalg.det(S3))-1/2*((x_new-X3_mean).T.dot(np.linalg.inv(S3))).dot(x_new-X3_mean).iloc[0,0]+np.log(p)\n",
    "    max_new = np.argmax([d1_new,d2_new,d3_new])\n",
    "    result_new.loc[:,:]=[max_new+1,np.round(max([d1_new,d2_new,d3_new]),4)] #save classification and score\n",
    "    \n",
    "    #Calculate accuracy of QDA (APER method)\n",
    "    classified_qda.columns = ['Species']\n",
    "    error_qda = classified_qda==pd.DataFrame(y)\n",
    "    correct, incorrect = error_qda.value_counts()\n",
    "    accuracy_qda = correct/(correct+incorrect)\n",
    "    \n",
    "    return result, result_new, accuracy_qda"
   ]
  },
  {
   "cell_type": "code",
   "execution_count": 4,
   "id": "8192332e",
   "metadata": {},
   "outputs": [],
   "source": [
    "#3. Write a Python code to perform the 'leave-one-out' method to calculate the accuracy of the LDA & QDA model you wrote in #1 & #2.\n",
    "#Assume equal priors, equal misclassification costs\n",
    "\n",
    "def loo(x,y):\n",
    "    var = x.columns\n",
    "    x = pd.DataFrame.reset_index(x.T,drop=True).T\n",
    "    p = 1/3\n",
    "    classified_ldf = pd.DataFrame(columns = ['Species'])\n",
    "    classified_qdf = pd.DataFrame(columns = ['Species'])\n",
    "    \n",
    "    for i in range(len(x)):\n",
    "        n1, n2, n3 = y.value_counts()\n",
    "        if i<50:\n",
    "            n1=n1-1\n",
    "            n = n1 + n2 + n3\n",
    "            x_temp = x.drop(i)\n",
    "            x_temp = pd.DataFrame.reset_index(x_temp,drop=True)\n",
    "            X1 = x_temp.iloc[:49]\n",
    "            X1 = pd.DataFrame.reset_index(X1,drop=True)\n",
    "            X2 = x_temp.iloc[49:99]\n",
    "            X2 = pd.DataFrame.reset_index(X2,drop=True)\n",
    "            X3 = x_temp.iloc[99:]\n",
    "            X3 = pd.DataFrame.reset_index(X3,drop=True)\n",
    "        elif i<100:\n",
    "            n2=n2-1\n",
    "            n = n1 + n2 + n3\n",
    "            x_temp = x.drop(i)\n",
    "            x_temp = pd.DataFrame.reset_index(x_temp,drop=True)\n",
    "            X1 = x_temp.iloc[:50]\n",
    "            X1 = pd.DataFrame.reset_index(X1,drop=True)\n",
    "            X2 = x_temp.iloc[50:99]\n",
    "            X2 = pd.DataFrame.reset_index(X2,drop=True)\n",
    "            X3 = x_temp.iloc[99:]\n",
    "            X3 = pd.DataFrame.reset_index(X3,drop=True)\n",
    "        elif i<150:\n",
    "            n3=n3-1\n",
    "            n = n1 + n2 + n3\n",
    "            x_temp = x.drop(i)\n",
    "            x_temp = pd.DataFrame.reset_index(x_temp,drop=True)\n",
    "            X1 = x_temp.iloc[:50]\n",
    "            X1 = pd.DataFrame.reset_index(X1,drop=True)\n",
    "            X2 = x_temp.iloc[50:100]\n",
    "            X2 = pd.DataFrame.reset_index(X2,drop=True)\n",
    "            X3 = x_temp.iloc[100:]\n",
    "            X3 = pd.DataFrame.reset_index(X3,drop=True)\n",
    "        X1_mean=pd.DataFrame(X1.mean())\n",
    "        X2_mean=pd.DataFrame(X2.mean())\n",
    "        X3_mean=pd.DataFrame(X3.mean())\n",
    "        S1=X1.cov()\n",
    "        S2=X2.cov()\n",
    "        S3=X3.cov()\n",
    "        Sp = 1/(n1+n2+n3-3)*((n1-1)*S1+(n2-1)*S2+(n3-1)*S3)\n",
    "        \n",
    "        #Calculate LDFs for multiple classes\n",
    "        x0=pd.Series.reset_index(x.iloc[i,:], drop=True)\n",
    "        d1_val = X1_mean.T.dot(np.linalg.inv(Sp)).dot(x0)[0]-1/2*X1_mean.T.dot(np.linalg.inv(Sp)).dot(X1_mean).iloc[0,0]+np.log(p)\n",
    "        d2_val = X2_mean.T.dot(np.linalg.inv(Sp)).dot(x0)[0]-1/2*X2_mean.T.dot(np.linalg.inv(Sp)).dot(X2_mean).iloc[0,0]+np.log(p)\n",
    "        d3_val = X3_mean.T.dot(np.linalg.inv(Sp)).dot(x0)[0]-1/2*X3_mean.T.dot(np.linalg.inv(Sp)).dot(X3_mean).iloc[0,0]+np.log(p)\n",
    "        max_ind_ldf = np.argmax([d1_val,d2_val,d3_val])\n",
    "        classified_ldf.loc[i,:] = max_ind_ldf+1 #save classification\n",
    "\n",
    "        #Calculate QDFs for multiple classes\n",
    "        x0=pd.DataFrame(x.iloc[i,:])\n",
    "        x0.columns = [0]\n",
    "        d1_val = -1/2*np.log(np.linalg.det(S1))-1/2*((x0-X1_mean).T.dot(np.linalg.inv(S1))).dot(x0-X1_mean).iloc[0,0]+np.log(p)\n",
    "        d2_val = -1/2*np.log(np.linalg.det(S2))-1/2*((x0-X2_mean).T.dot(np.linalg.inv(S2))).dot(x0-X2_mean).iloc[0,0]+np.log(p)\n",
    "        d3_val = -1/2*np.log(np.linalg.det(S3))-1/2*((x0-X3_mean).T.dot(np.linalg.inv(S3))).dot(x0-X3_mean).iloc[0,0]+np.log(p)\n",
    "        max_ind_qdf = np.argmax([d1_val,d2_val,d3_val])\n",
    "        classified_qdf.loc[i,:] = max_ind_qdf+1 #save classification\n",
    "    \n",
    "    #Calculate accuracy of LDA (LOO method)\n",
    "    error_lda = classified_ldf==pd.DataFrame(y)\n",
    "    correct, incorrect = error_lda.value_counts()\n",
    "    acc_lda_loo = correct/(correct+incorrect)\n",
    "    \n",
    "    #Calculate accuracy of QDA (LOO method)\n",
    "    error_qda = classified_qdf==pd.DataFrame(y)\n",
    "    correct, incorrect = error_qda.value_counts()\n",
    "    acc_qda_loo = correct/(correct+incorrect)\n",
    "    \n",
    "    return acc_lda_loo, acc_qda_loo"
   ]
  },
  {
   "cell_type": "code",
   "execution_count": 5,
   "id": "65e2a696",
   "metadata": {
    "scrolled": true
   },
   "outputs": [
    {
     "data": {
      "text/html": [
       "<div>\n",
       "<style scoped>\n",
       "    .dataframe tbody tr th:only-of-type {\n",
       "        vertical-align: middle;\n",
       "    }\n",
       "\n",
       "    .dataframe tbody tr th {\n",
       "        vertical-align: top;\n",
       "    }\n",
       "\n",
       "    .dataframe thead th {\n",
       "        text-align: right;\n",
       "    }\n",
       "</style>\n",
       "<table border=\"1\" class=\"dataframe\">\n",
       "  <thead>\n",
       "    <tr style=\"text-align: right;\">\n",
       "      <th></th>\n",
       "      <th>Sepal length(x1)</th>\n",
       "      <th>Sepal width(x2)</th>\n",
       "      <th>Petal length(x3)</th>\n",
       "      <th>Petal width(x4)</th>\n",
       "      <th>Species</th>\n",
       "    </tr>\n",
       "  </thead>\n",
       "  <tbody>\n",
       "    <tr>\n",
       "      <th>0</th>\n",
       "      <td>5.1</td>\n",
       "      <td>3.5</td>\n",
       "      <td>1.4</td>\n",
       "      <td>0.2</td>\n",
       "      <td>1</td>\n",
       "    </tr>\n",
       "    <tr>\n",
       "      <th>1</th>\n",
       "      <td>4.9</td>\n",
       "      <td>3.0</td>\n",
       "      <td>1.4</td>\n",
       "      <td>0.2</td>\n",
       "      <td>1</td>\n",
       "    </tr>\n",
       "    <tr>\n",
       "      <th>2</th>\n",
       "      <td>4.7</td>\n",
       "      <td>3.2</td>\n",
       "      <td>1.3</td>\n",
       "      <td>0.2</td>\n",
       "      <td>1</td>\n",
       "    </tr>\n",
       "    <tr>\n",
       "      <th>3</th>\n",
       "      <td>4.6</td>\n",
       "      <td>3.1</td>\n",
       "      <td>1.5</td>\n",
       "      <td>0.2</td>\n",
       "      <td>1</td>\n",
       "    </tr>\n",
       "    <tr>\n",
       "      <th>4</th>\n",
       "      <td>5.0</td>\n",
       "      <td>3.6</td>\n",
       "      <td>1.4</td>\n",
       "      <td>0.2</td>\n",
       "      <td>1</td>\n",
       "    </tr>\n",
       "    <tr>\n",
       "      <th>...</th>\n",
       "      <td>...</td>\n",
       "      <td>...</td>\n",
       "      <td>...</td>\n",
       "      <td>...</td>\n",
       "      <td>...</td>\n",
       "    </tr>\n",
       "    <tr>\n",
       "      <th>145</th>\n",
       "      <td>6.7</td>\n",
       "      <td>3.0</td>\n",
       "      <td>5.2</td>\n",
       "      <td>2.3</td>\n",
       "      <td>3</td>\n",
       "    </tr>\n",
       "    <tr>\n",
       "      <th>146</th>\n",
       "      <td>6.3</td>\n",
       "      <td>2.5</td>\n",
       "      <td>5.0</td>\n",
       "      <td>1.9</td>\n",
       "      <td>3</td>\n",
       "    </tr>\n",
       "    <tr>\n",
       "      <th>147</th>\n",
       "      <td>6.5</td>\n",
       "      <td>3.0</td>\n",
       "      <td>5.2</td>\n",
       "      <td>2.0</td>\n",
       "      <td>3</td>\n",
       "    </tr>\n",
       "    <tr>\n",
       "      <th>148</th>\n",
       "      <td>6.2</td>\n",
       "      <td>3.4</td>\n",
       "      <td>5.4</td>\n",
       "      <td>2.3</td>\n",
       "      <td>3</td>\n",
       "    </tr>\n",
       "    <tr>\n",
       "      <th>149</th>\n",
       "      <td>5.9</td>\n",
       "      <td>3.0</td>\n",
       "      <td>5.1</td>\n",
       "      <td>1.8</td>\n",
       "      <td>3</td>\n",
       "    </tr>\n",
       "  </tbody>\n",
       "</table>\n",
       "<p>150 rows × 5 columns</p>\n",
       "</div>"
      ],
      "text/plain": [
       "     Sepal length(x1)  Sepal width(x2)  Petal length(x3)  Petal width(x4)  \\\n",
       "0                 5.1              3.5               1.4              0.2   \n",
       "1                 4.9              3.0               1.4              0.2   \n",
       "2                 4.7              3.2               1.3              0.2   \n",
       "3                 4.6              3.1               1.5              0.2   \n",
       "4                 5.0              3.6               1.4              0.2   \n",
       "..                ...              ...               ...              ...   \n",
       "145               6.7              3.0               5.2              2.3   \n",
       "146               6.3              2.5               5.0              1.9   \n",
       "147               6.5              3.0               5.2              2.0   \n",
       "148               6.2              3.4               5.4              2.3   \n",
       "149               5.9              3.0               5.1              1.8   \n",
       "\n",
       "     Species  \n",
       "0          1  \n",
       "1          1  \n",
       "2          1  \n",
       "3          1  \n",
       "4          1  \n",
       "..       ...  \n",
       "145        3  \n",
       "146        3  \n",
       "147        3  \n",
       "148        3  \n",
       "149        3  \n",
       "\n",
       "[150 rows x 5 columns]"
      ]
     },
     "execution_count": 5,
     "metadata": {},
     "output_type": "execute_result"
    }
   ],
   "source": [
    "#4. Using Fisher's Iris data (Table 11.5), answer the following questions.\n",
    "iris = pd.read_fwf('iris.dat', header=None, delim_whitespace = True, names=['Sepal length(x1)','Sepal width(x2)','Petal length(x3)','Petal width(x4)','Species'])\n",
    "iris"
   ]
  },
  {
   "cell_type": "code",
   "execution_count": 6,
   "id": "93a8f0a2",
   "metadata": {
    "scrolled": false
   },
   "outputs": [],
   "source": [
    "x_iris = iris.drop('Species', axis=1)\n",
    "y_iris = iris['Species']"
   ]
  },
  {
   "cell_type": "code",
   "execution_count": 7,
   "id": "5f300071",
   "metadata": {},
   "outputs": [],
   "source": [
    "#(a) Is the assumption of a common covariance matrix reasonable in this case?\n",
    "#    (Use Python's statsmodels.stats.multivariate' module for this question.)\n",
    "from statsmodels.stats import multivariate as mv\n",
    "\n",
    "x_test=pd.DataFrame(pd.DataFrame.reset_index(x_iris.T, drop=True)).T\n",
    "X1_test=x_test.iloc[:50]\n",
    "X2_test=x_test.iloc[50:100]\n",
    "X3_test=x_test.iloc[100:]\n",
    "\n",
    "cov1 = X1_test.cov()\n",
    "cov2 = X2_test.cov()\n",
    "cov3 = X3_test.cov()"
   ]
  },
  {
   "cell_type": "code",
   "execution_count": 8,
   "id": "c9623364",
   "metadata": {},
   "outputs": [
    {
     "name": "stdout",
     "output_type": "stream",
     "text": [
      "Chi-Square Test statistic: 140.94304992349774  , Pr > ChiSq: 3.352034178317213e-20\n"
     ]
    }
   ],
   "source": [
    "test = mv.test_cov_oneway([cov1,cov2,cov3],[len(X1_test),len(X2_test),len(X3_test)])\n",
    "print(\"Chi-Square Test statistic:\",test.statistic_chi2, \" , Pr > ChiSq:\",test.pvalue_chi2)\n",
    "\n",
    "#Since p-value is small enough, we reject H0 => QDA"
   ]
  },
  {
   "cell_type": "code",
   "execution_count": 9,
   "id": "4bc423a6",
   "metadata": {
    "scrolled": true
   },
   "outputs": [],
   "source": [
    "#(b) Assuming that the populations are multivariate normal, calculate the quadratic discriminant scores with equal prior and equal misclassification cost.\n",
    "#    Classify the new observation x_new = [5.0, 3.5, 1.75, 0.21]' into population 1, 2, 3.\n",
    "x_new = pd.DataFrame([5.0, 3.5, 1.75, 0.21])\n",
    "result_qda, result_new, acc_qda_aper = my_qda(x_iris,y_iris,x_new)"
   ]
  },
  {
   "cell_type": "code",
   "execution_count": 10,
   "id": "6e9fcdc7",
   "metadata": {
    "scrolled": true
   },
   "outputs": [
    {
     "data": {
      "text/html": [
       "<div>\n",
       "<style scoped>\n",
       "    .dataframe tbody tr th:only-of-type {\n",
       "        vertical-align: middle;\n",
       "    }\n",
       "\n",
       "    .dataframe tbody tr th {\n",
       "        vertical-align: top;\n",
       "    }\n",
       "\n",
       "    .dataframe thead th {\n",
       "        text-align: right;\n",
       "    }\n",
       "</style>\n",
       "<table border=\"1\" class=\"dataframe\">\n",
       "  <thead>\n",
       "    <tr style=\"text-align: right;\">\n",
       "      <th></th>\n",
       "      <th>Species</th>\n",
       "      <th>Classified into TYPE</th>\n",
       "      <th>QD score</th>\n",
       "    </tr>\n",
       "  </thead>\n",
       "  <tbody>\n",
       "    <tr>\n",
       "      <th>0</th>\n",
       "      <td>1</td>\n",
       "      <td>1</td>\n",
       "      <td>5.2105</td>\n",
       "    </tr>\n",
       "    <tr>\n",
       "      <th>1</th>\n",
       "      <td>1</td>\n",
       "      <td>1</td>\n",
       "      <td>4.3945</td>\n",
       "    </tr>\n",
       "    <tr>\n",
       "      <th>2</th>\n",
       "      <td>1</td>\n",
       "      <td>1</td>\n",
       "      <td>4.7929</td>\n",
       "    </tr>\n",
       "    <tr>\n",
       "      <th>3</th>\n",
       "      <td>1</td>\n",
       "      <td>1</td>\n",
       "      <td>4.582</td>\n",
       "    </tr>\n",
       "    <tr>\n",
       "      <th>4</th>\n",
       "      <td>1</td>\n",
       "      <td>1</td>\n",
       "      <td>5.0542</td>\n",
       "    </tr>\n",
       "    <tr>\n",
       "      <th>...</th>\n",
       "      <td>...</td>\n",
       "      <td>...</td>\n",
       "      <td>...</td>\n",
       "    </tr>\n",
       "    <tr>\n",
       "      <th>145</th>\n",
       "      <td>3</td>\n",
       "      <td>3</td>\n",
       "      <td>1.0922</td>\n",
       "    </tr>\n",
       "    <tr>\n",
       "      <th>146</th>\n",
       "      <td>3</td>\n",
       "      <td>3</td>\n",
       "      <td>1.3611</td>\n",
       "    </tr>\n",
       "    <tr>\n",
       "      <th>147</th>\n",
       "      <td>3</td>\n",
       "      <td>3</td>\n",
       "      <td>2.809</td>\n",
       "    </tr>\n",
       "    <tr>\n",
       "      <th>148</th>\n",
       "      <td>3</td>\n",
       "      <td>3</td>\n",
       "      <td>1.394</td>\n",
       "    </tr>\n",
       "    <tr>\n",
       "      <th>149</th>\n",
       "      <td>3</td>\n",
       "      <td>3</td>\n",
       "      <td>2.0194</td>\n",
       "    </tr>\n",
       "  </tbody>\n",
       "</table>\n",
       "<p>150 rows × 3 columns</p>\n",
       "</div>"
      ],
      "text/plain": [
       "     Species Classified into TYPE QD score\n",
       "0          1                    1   5.2105\n",
       "1          1                    1   4.3945\n",
       "2          1                    1   4.7929\n",
       "3          1                    1    4.582\n",
       "4          1                    1   5.0542\n",
       "..       ...                  ...      ...\n",
       "145        3                    3   1.0922\n",
       "146        3                    3   1.3611\n",
       "147        3                    3    2.809\n",
       "148        3                    3    1.394\n",
       "149        3                    3   2.0194\n",
       "\n",
       "[150 rows x 3 columns]"
      ]
     },
     "execution_count": 10,
     "metadata": {},
     "output_type": "execute_result"
    }
   ],
   "source": [
    "#Classifications and respective quadratic discriminant scores of iris data\n",
    "result_qda"
   ]
  },
  {
   "cell_type": "code",
   "execution_count": 11,
   "id": "14637d5a",
   "metadata": {
    "scrolled": false
   },
   "outputs": [
    {
     "data": {
      "text/html": [
       "<div>\n",
       "<style scoped>\n",
       "    .dataframe tbody tr th:only-of-type {\n",
       "        vertical-align: middle;\n",
       "    }\n",
       "\n",
       "    .dataframe tbody tr th {\n",
       "        vertical-align: top;\n",
       "    }\n",
       "\n",
       "    .dataframe thead th {\n",
       "        text-align: right;\n",
       "    }\n",
       "</style>\n",
       "<table border=\"1\" class=\"dataframe\">\n",
       "  <thead>\n",
       "    <tr style=\"text-align: right;\">\n",
       "      <th></th>\n",
       "      <th>Classified into TYPE</th>\n",
       "      <th>QD score</th>\n",
       "    </tr>\n",
       "  </thead>\n",
       "  <tbody>\n",
       "    <tr>\n",
       "      <th>x_new</th>\n",
       "      <td>1</td>\n",
       "      <td>3.491</td>\n",
       "    </tr>\n",
       "  </tbody>\n",
       "</table>\n",
       "</div>"
      ],
      "text/plain": [
       "      Classified into TYPE QD score\n",
       "x_new                    1    3.491"
      ]
     },
     "execution_count": 11,
     "metadata": {},
     "output_type": "execute_result"
    }
   ],
   "source": [
    "#Classification and quadratic discriminant scores of new observation\n",
    "result_new"
   ]
  },
  {
   "cell_type": "code",
   "execution_count": 12,
   "id": "87d9fc93",
   "metadata": {
    "scrolled": false
   },
   "outputs": [],
   "source": [
    "#(c) Assuming equal covariance matrices and multivariate normal populations, calculate the linear discriminant function using your code in #1 above\n",
    "#    and compare its coefficients with those of Python's 'sklearn.discriminant_analysis' module.\n",
    "coeff1, coeff2, coeff3, result_lda, acc_lda_aper = my_lda(x_iris,y_iris)"
   ]
  },
  {
   "cell_type": "code",
   "execution_count": 13,
   "id": "7380f716",
   "metadata": {
    "scrolled": true
   },
   "outputs": [
    {
     "data": {
      "text/html": [
       "<div>\n",
       "<style scoped>\n",
       "    .dataframe tbody tr th:only-of-type {\n",
       "        vertical-align: middle;\n",
       "    }\n",
       "\n",
       "    .dataframe tbody tr th {\n",
       "        vertical-align: top;\n",
       "    }\n",
       "\n",
       "    .dataframe thead th {\n",
       "        text-align: right;\n",
       "    }\n",
       "</style>\n",
       "<table border=\"1\" class=\"dataframe\">\n",
       "  <thead>\n",
       "    <tr style=\"text-align: right;\">\n",
       "      <th></th>\n",
       "      <th>Coefficients</th>\n",
       "    </tr>\n",
       "  </thead>\n",
       "  <tbody>\n",
       "    <tr>\n",
       "      <th>Constant</th>\n",
       "      <td>-86.308470</td>\n",
       "    </tr>\n",
       "    <tr>\n",
       "      <th>Sepal length(x1)</th>\n",
       "      <td>23.544167</td>\n",
       "    </tr>\n",
       "    <tr>\n",
       "      <th>Sepal width(x2)</th>\n",
       "      <td>23.587870</td>\n",
       "    </tr>\n",
       "    <tr>\n",
       "      <th>Petal length(x3)</th>\n",
       "      <td>-16.430639</td>\n",
       "    </tr>\n",
       "    <tr>\n",
       "      <th>Petal width(x4)</th>\n",
       "      <td>-17.398411</td>\n",
       "    </tr>\n",
       "  </tbody>\n",
       "</table>\n",
       "</div>"
      ],
      "text/plain": [
       "                  Coefficients\n",
       "Constant            -86.308470\n",
       "Sepal length(x1)     23.544167\n",
       "Sepal width(x2)      23.587870\n",
       "Petal length(x3)    -16.430639\n",
       "Petal width(x4)     -17.398411"
      ]
     },
     "execution_count": 13,
     "metadata": {},
     "output_type": "execute_result"
    }
   ],
   "source": [
    "coeff1"
   ]
  },
  {
   "cell_type": "code",
   "execution_count": 14,
   "id": "7a3489e3",
   "metadata": {
    "scrolled": true
   },
   "outputs": [
    {
     "data": {
      "text/html": [
       "<div>\n",
       "<style scoped>\n",
       "    .dataframe tbody tr th:only-of-type {\n",
       "        vertical-align: middle;\n",
       "    }\n",
       "\n",
       "    .dataframe tbody tr th {\n",
       "        vertical-align: top;\n",
       "    }\n",
       "\n",
       "    .dataframe thead th {\n",
       "        text-align: right;\n",
       "    }\n",
       "</style>\n",
       "<table border=\"1\" class=\"dataframe\">\n",
       "  <thead>\n",
       "    <tr style=\"text-align: right;\">\n",
       "      <th></th>\n",
       "      <th>Coefficients</th>\n",
       "    </tr>\n",
       "  </thead>\n",
       "  <tbody>\n",
       "    <tr>\n",
       "      <th>Constant</th>\n",
       "      <td>-72.852607</td>\n",
       "    </tr>\n",
       "    <tr>\n",
       "      <th>Sepal length(x1)</th>\n",
       "      <td>15.698209</td>\n",
       "    </tr>\n",
       "    <tr>\n",
       "      <th>Sepal width(x2)</th>\n",
       "      <td>7.072510</td>\n",
       "    </tr>\n",
       "    <tr>\n",
       "      <th>Petal length(x3)</th>\n",
       "      <td>5.211451</td>\n",
       "    </tr>\n",
       "    <tr>\n",
       "      <th>Petal width(x4)</th>\n",
       "      <td>6.434229</td>\n",
       "    </tr>\n",
       "  </tbody>\n",
       "</table>\n",
       "</div>"
      ],
      "text/plain": [
       "                  Coefficients\n",
       "Constant            -72.852607\n",
       "Sepal length(x1)     15.698209\n",
       "Sepal width(x2)       7.072510\n",
       "Petal length(x3)      5.211451\n",
       "Petal width(x4)       6.434229"
      ]
     },
     "execution_count": 14,
     "metadata": {},
     "output_type": "execute_result"
    }
   ],
   "source": [
    "coeff2"
   ]
  },
  {
   "cell_type": "code",
   "execution_count": 15,
   "id": "879bb9ae",
   "metadata": {},
   "outputs": [
    {
     "data": {
      "text/html": [
       "<div>\n",
       "<style scoped>\n",
       "    .dataframe tbody tr th:only-of-type {\n",
       "        vertical-align: middle;\n",
       "    }\n",
       "\n",
       "    .dataframe tbody tr th {\n",
       "        vertical-align: top;\n",
       "    }\n",
       "\n",
       "    .dataframe thead th {\n",
       "        text-align: right;\n",
       "    }\n",
       "</style>\n",
       "<table border=\"1\" class=\"dataframe\">\n",
       "  <thead>\n",
       "    <tr style=\"text-align: right;\">\n",
       "      <th></th>\n",
       "      <th>Coefficients</th>\n",
       "    </tr>\n",
       "  </thead>\n",
       "  <tbody>\n",
       "    <tr>\n",
       "      <th>Constant</th>\n",
       "      <td>-104.368320</td>\n",
       "    </tr>\n",
       "    <tr>\n",
       "      <th>Sepal length(x1)</th>\n",
       "      <td>12.445849</td>\n",
       "    </tr>\n",
       "    <tr>\n",
       "      <th>Sepal width(x2)</th>\n",
       "      <td>3.685280</td>\n",
       "    </tr>\n",
       "    <tr>\n",
       "      <th>Petal length(x3)</th>\n",
       "      <td>12.766545</td>\n",
       "    </tr>\n",
       "    <tr>\n",
       "      <th>Petal width(x4)</th>\n",
       "      <td>21.079113</td>\n",
       "    </tr>\n",
       "  </tbody>\n",
       "</table>\n",
       "</div>"
      ],
      "text/plain": [
       "                  Coefficients\n",
       "Constant           -104.368320\n",
       "Sepal length(x1)     12.445849\n",
       "Sepal width(x2)       3.685280\n",
       "Petal length(x3)     12.766545\n",
       "Petal width(x4)      21.079113"
      ]
     },
     "execution_count": 15,
     "metadata": {},
     "output_type": "execute_result"
    }
   ],
   "source": [
    "coeff3"
   ]
  },
  {
   "cell_type": "code",
   "execution_count": 16,
   "id": "793e580e",
   "metadata": {
    "scrolled": true
   },
   "outputs": [
    {
     "data": {
      "text/html": [
       "<div>\n",
       "<style scoped>\n",
       "    .dataframe tbody tr th:only-of-type {\n",
       "        vertical-align: middle;\n",
       "    }\n",
       "\n",
       "    .dataframe tbody tr th {\n",
       "        vertical-align: top;\n",
       "    }\n",
       "\n",
       "    .dataframe thead th {\n",
       "        text-align: right;\n",
       "    }\n",
       "</style>\n",
       "<table border=\"1\" class=\"dataframe\">\n",
       "  <thead>\n",
       "    <tr style=\"text-align: right;\">\n",
       "      <th></th>\n",
       "      <th>Species</th>\n",
       "      <th>Classified into TYPE</th>\n",
       "    </tr>\n",
       "  </thead>\n",
       "  <tbody>\n",
       "    <tr>\n",
       "      <th>0</th>\n",
       "      <td>1</td>\n",
       "      <td>1</td>\n",
       "    </tr>\n",
       "    <tr>\n",
       "      <th>1</th>\n",
       "      <td>1</td>\n",
       "      <td>1</td>\n",
       "    </tr>\n",
       "    <tr>\n",
       "      <th>2</th>\n",
       "      <td>1</td>\n",
       "      <td>1</td>\n",
       "    </tr>\n",
       "    <tr>\n",
       "      <th>3</th>\n",
       "      <td>1</td>\n",
       "      <td>1</td>\n",
       "    </tr>\n",
       "    <tr>\n",
       "      <th>4</th>\n",
       "      <td>1</td>\n",
       "      <td>1</td>\n",
       "    </tr>\n",
       "    <tr>\n",
       "      <th>...</th>\n",
       "      <td>...</td>\n",
       "      <td>...</td>\n",
       "    </tr>\n",
       "    <tr>\n",
       "      <th>145</th>\n",
       "      <td>3</td>\n",
       "      <td>3</td>\n",
       "    </tr>\n",
       "    <tr>\n",
       "      <th>146</th>\n",
       "      <td>3</td>\n",
       "      <td>3</td>\n",
       "    </tr>\n",
       "    <tr>\n",
       "      <th>147</th>\n",
       "      <td>3</td>\n",
       "      <td>3</td>\n",
       "    </tr>\n",
       "    <tr>\n",
       "      <th>148</th>\n",
       "      <td>3</td>\n",
       "      <td>3</td>\n",
       "    </tr>\n",
       "    <tr>\n",
       "      <th>149</th>\n",
       "      <td>3</td>\n",
       "      <td>3</td>\n",
       "    </tr>\n",
       "  </tbody>\n",
       "</table>\n",
       "<p>150 rows × 2 columns</p>\n",
       "</div>"
      ],
      "text/plain": [
       "     Species Classified into TYPE\n",
       "0          1                    1\n",
       "1          1                    1\n",
       "2          1                    1\n",
       "3          1                    1\n",
       "4          1                    1\n",
       "..       ...                  ...\n",
       "145        3                    3\n",
       "146        3                    3\n",
       "147        3                    3\n",
       "148        3                    3\n",
       "149        3                    3\n",
       "\n",
       "[150 rows x 2 columns]"
      ]
     },
     "execution_count": 16,
     "metadata": {},
     "output_type": "execute_result"
    }
   ],
   "source": [
    "result_lda"
   ]
  },
  {
   "cell_type": "code",
   "execution_count": 17,
   "id": "18bcf724",
   "metadata": {
    "scrolled": true
   },
   "outputs": [
    {
     "data": {
      "text/plain": [
       "LinearDiscriminantAnalysis(priors=[0.3333333333333333, 0.3333333333333333,\n",
       "                                   0.3333333333333333],\n",
       "                           solver='eigen')"
      ]
     },
     "execution_count": 17,
     "metadata": {},
     "output_type": "execute_result"
    }
   ],
   "source": [
    "#Compare with Python package\n",
    "from sklearn.discriminant_analysis import LinearDiscriminantAnalysis as LDA\n",
    "lda = LDA(priors = [1/3,1/3,1/3], solver = 'eigen') # Equal prior\n",
    "lda.fit(x_iris,y_iris)"
   ]
  },
  {
   "cell_type": "code",
   "execution_count": 18,
   "id": "d66607df",
   "metadata": {
    "scrolled": false
   },
   "outputs": [
    {
     "data": {
      "text/plain": [
       "array([ -88.04744666,  -74.31697465, -106.47586504])"
      ]
     },
     "execution_count": 18,
     "metadata": {},
     "output_type": "execute_result"
    }
   ],
   "source": [
    "#Intercepts of LDFs\n",
    "lda.intercept_"
   ]
  },
  {
   "cell_type": "code",
   "execution_count": 19,
   "id": "fde0955a",
   "metadata": {
    "scrolled": true
   },
   "outputs": [
    {
     "data": {
      "text/plain": [
       "array([[ 24.02465992,  24.06925561, -16.76595819, -17.75348039],\n",
       "       [ 16.01858069,   7.21684677,   5.31780708,   6.56554   ],\n",
       "       [ 12.69984591,   3.7604894 ,  13.02708671,  21.50929899]])"
      ]
     },
     "execution_count": 19,
     "metadata": {},
     "output_type": "execute_result"
    }
   ],
   "source": [
    "#Coefficients of LDFs\n",
    "lda.coef_"
   ]
  },
  {
   "cell_type": "code",
   "execution_count": 20,
   "id": "ce239102",
   "metadata": {},
   "outputs": [],
   "source": [
    "#(d) Calculate and compare the APER and the leave-one-out error rates for linear discriminant analysis (LDA) and quadratic discriminant analysis (QDA)\n",
    "#    using your code in #1,2,3. (Assume equal prior and equal misclassification cost.)\n",
    "#error=1-accuracy\n",
    "#Leave-one-out (LOO)\n",
    "acc_lda_loo, acc_qda_loo = loo(x_iris,y_iris)"
   ]
  },
  {
   "cell_type": "code",
   "execution_count": 21,
   "id": "48bd3bb0",
   "metadata": {
    "scrolled": false
   },
   "outputs": [
    {
     "data": {
      "text/plain": [
       "0.98"
      ]
     },
     "execution_count": 21,
     "metadata": {},
     "output_type": "execute_result"
    }
   ],
   "source": [
    "#LDA accuracy (LOO)\n",
    "acc_lda_loo"
   ]
  },
  {
   "cell_type": "code",
   "execution_count": 22,
   "id": "83b6103d",
   "metadata": {
    "scrolled": false
   },
   "outputs": [
    {
     "data": {
      "text/plain": [
       "0.9733333333333334"
      ]
     },
     "execution_count": 22,
     "metadata": {},
     "output_type": "execute_result"
    }
   ],
   "source": [
    "#QDA accuracy (LOO)\n",
    "acc_qda_loo"
   ]
  },
  {
   "cell_type": "code",
   "execution_count": 23,
   "id": "e481d24c",
   "metadata": {
    "scrolled": true
   },
   "outputs": [
    {
     "data": {
      "text/plain": [
       "0.98"
      ]
     },
     "execution_count": 23,
     "metadata": {},
     "output_type": "execute_result"
    }
   ],
   "source": [
    "#Apparent error rates (APER)\n",
    "#LDA accuracy (APER)\n",
    "acc_lda_aper"
   ]
  },
  {
   "cell_type": "code",
   "execution_count": 24,
   "id": "7ced41f8",
   "metadata": {},
   "outputs": [
    {
     "data": {
      "text/plain": [
       "0.98"
      ]
     },
     "execution_count": 24,
     "metadata": {},
     "output_type": "execute_result"
    }
   ],
   "source": [
    "#QDA accuracy (APER)\n",
    "acc_qda_aper"
   ]
  }
 ],
 "metadata": {
  "kernelspec": {
   "display_name": "Python 3",
   "language": "python",
   "name": "python3"
  },
  "language_info": {
   "codemirror_mode": {
    "name": "ipython",
    "version": 3
   },
   "file_extension": ".py",
   "mimetype": "text/x-python",
   "name": "python",
   "nbconvert_exporter": "python",
   "pygments_lexer": "ipython3",
   "version": "3.8.8"
  }
 },
 "nbformat": 4,
 "nbformat_minor": 5
}
