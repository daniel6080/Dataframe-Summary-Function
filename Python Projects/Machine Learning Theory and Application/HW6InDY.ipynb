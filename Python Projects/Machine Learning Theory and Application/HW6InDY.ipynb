{
 "cells": [
  {
   "cell_type": "code",
   "execution_count": 1,
   "id": "f340e595",
   "metadata": {},
   "outputs": [],
   "source": [
    "import numpy as np\n",
    "import pandas as pd"
   ]
  },
  {
   "cell_type": "code",
   "execution_count": 2,
   "id": "7faf63a8",
   "metadata": {},
   "outputs": [
    {
     "name": "stdout",
     "output_type": "stream",
     "text": [
      "Please enter the name of the train data file (e.g. pid.dat): pid.dat\n",
      "Please enter the name of the test data file (e.g. pidtest.dat): pidtest.dat\n",
      "Please select the separator used in the data file (1 = whitespace or 2 = comma): 2\n",
      "Please enter the position of the response variable column (select from 1 to p) (e.g. 8): 8\n",
      "Does the data file include a column header? (y/n) : n\n",
      "Please enter the name for the file to be exported (e.g. result.txt) : HW6_output.txt\n"
     ]
    }
   ],
   "source": [
    "inp_train=input('Please enter the name of the train data file (e.g. pid.dat): ')\n",
    "inp_test=input('Please enter the name of the test data file (e.g. pidtest.dat): ')\n",
    "encode_sep=int(input(\"Please select the separator used in the data file (1 = whitespace or 2 = comma): \"))\n",
    "separator={encode_sep ==1 : \" \"}.get(True, \",\")\n",
    "res_pos =int(input(\"Please enter the position of the response variable column (select from 1 to p) (e.g. 8): \"))\n",
    "header=input(\"Does the data file include a column header? (y/n) : \")\n",
    "export_name=input(\"Please enter the name for the file to be exported (e.g. result.txt) : \")"
   ]
  },
  {
   "cell_type": "code",
   "execution_count": 3,
   "id": "dc217559",
   "metadata": {},
   "outputs": [],
   "source": [
    "if(header=='y'):\n",
    "    train = pd.read_csv(inp_train, sep=separator)\n",
    "    test = pd.read_csv(inp_test, sep=separator)\n",
    "else:\n",
    "    train = pd.read_csv(inp_train, sep=separator, header = None)\n",
    "    test = pd.read_csv(inp_test, sep=separator, header = None)  "
   ]
  },
  {
   "cell_type": "code",
   "execution_count": 4,
   "id": "ff15bd8d",
   "metadata": {},
   "outputs": [
    {
     "data": {
      "text/html": [
       "<div>\n",
       "<style scoped>\n",
       "    .dataframe tbody tr th:only-of-type {\n",
       "        vertical-align: middle;\n",
       "    }\n",
       "\n",
       "    .dataframe tbody tr th {\n",
       "        vertical-align: top;\n",
       "    }\n",
       "\n",
       "    .dataframe thead th {\n",
       "        text-align: right;\n",
       "    }\n",
       "</style>\n",
       "<table border=\"1\" class=\"dataframe\">\n",
       "  <thead>\n",
       "    <tr style=\"text-align: right;\">\n",
       "      <th></th>\n",
       "      <th>0</th>\n",
       "      <th>1</th>\n",
       "      <th>2</th>\n",
       "      <th>3</th>\n",
       "      <th>4</th>\n",
       "      <th>5</th>\n",
       "      <th>6</th>\n",
       "    </tr>\n",
       "  </thead>\n",
       "  <tbody>\n",
       "    <tr>\n",
       "      <th>0</th>\n",
       "      <td>4</td>\n",
       "      <td>83</td>\n",
       "      <td>86</td>\n",
       "      <td>19</td>\n",
       "      <td>29.3</td>\n",
       "      <td>0.317</td>\n",
       "      <td>34</td>\n",
       "    </tr>\n",
       "    <tr>\n",
       "      <th>1</th>\n",
       "      <td>6</td>\n",
       "      <td>105</td>\n",
       "      <td>70</td>\n",
       "      <td>32</td>\n",
       "      <td>30.8</td>\n",
       "      <td>0.122</td>\n",
       "      <td>37</td>\n",
       "    </tr>\n",
       "    <tr>\n",
       "      <th>2</th>\n",
       "      <td>1</td>\n",
       "      <td>89</td>\n",
       "      <td>24</td>\n",
       "      <td>19</td>\n",
       "      <td>27.8</td>\n",
       "      <td>0.559</td>\n",
       "      <td>21</td>\n",
       "    </tr>\n",
       "    <tr>\n",
       "      <th>3</th>\n",
       "      <td>6</td>\n",
       "      <td>111</td>\n",
       "      <td>64</td>\n",
       "      <td>39</td>\n",
       "      <td>34.2</td>\n",
       "      <td>0.260</td>\n",
       "      <td>24</td>\n",
       "    </tr>\n",
       "    <tr>\n",
       "      <th>4</th>\n",
       "      <td>4</td>\n",
       "      <td>146</td>\n",
       "      <td>85</td>\n",
       "      <td>27</td>\n",
       "      <td>28.9</td>\n",
       "      <td>0.189</td>\n",
       "      <td>27</td>\n",
       "    </tr>\n",
       "    <tr>\n",
       "      <th>...</th>\n",
       "      <td>...</td>\n",
       "      <td>...</td>\n",
       "      <td>...</td>\n",
       "      <td>...</td>\n",
       "      <td>...</td>\n",
       "      <td>...</td>\n",
       "      <td>...</td>\n",
       "    </tr>\n",
       "    <tr>\n",
       "      <th>247</th>\n",
       "      <td>2</td>\n",
       "      <td>68</td>\n",
       "      <td>62</td>\n",
       "      <td>13</td>\n",
       "      <td>20.1</td>\n",
       "      <td>0.257</td>\n",
       "      <td>23</td>\n",
       "    </tr>\n",
       "    <tr>\n",
       "      <th>248</th>\n",
       "      <td>10</td>\n",
       "      <td>68</td>\n",
       "      <td>106</td>\n",
       "      <td>23</td>\n",
       "      <td>35.5</td>\n",
       "      <td>0.285</td>\n",
       "      <td>47</td>\n",
       "    </tr>\n",
       "    <tr>\n",
       "      <th>249</th>\n",
       "      <td>3</td>\n",
       "      <td>99</td>\n",
       "      <td>80</td>\n",
       "      <td>11</td>\n",
       "      <td>19.3</td>\n",
       "      <td>0.284</td>\n",
       "      <td>30</td>\n",
       "    </tr>\n",
       "    <tr>\n",
       "      <th>250</th>\n",
       "      <td>1</td>\n",
       "      <td>124</td>\n",
       "      <td>74</td>\n",
       "      <td>36</td>\n",
       "      <td>27.8</td>\n",
       "      <td>0.100</td>\n",
       "      <td>30</td>\n",
       "    </tr>\n",
       "    <tr>\n",
       "      <th>251</th>\n",
       "      <td>6</td>\n",
       "      <td>123</td>\n",
       "      <td>72</td>\n",
       "      <td>45</td>\n",
       "      <td>33.6</td>\n",
       "      <td>0.733</td>\n",
       "      <td>34</td>\n",
       "    </tr>\n",
       "  </tbody>\n",
       "</table>\n",
       "<p>252 rows × 7 columns</p>\n",
       "</div>"
      ],
      "text/plain": [
       "      0    1    2   3     4      5   6\n",
       "0     4   83   86  19  29.3  0.317  34\n",
       "1     6  105   70  32  30.8  0.122  37\n",
       "2     1   89   24  19  27.8  0.559  21\n",
       "3     6  111   64  39  34.2  0.260  24\n",
       "4     4  146   85  27  28.9  0.189  27\n",
       "..   ..  ...  ...  ..   ...    ...  ..\n",
       "247   2   68   62  13  20.1  0.257  23\n",
       "248  10   68  106  23  35.5  0.285  47\n",
       "249   3   99   80  11  19.3  0.284  30\n",
       "250   1  124   74  36  27.8  0.100  30\n",
       "251   6  123   72  45  33.6  0.733  34\n",
       "\n",
       "[252 rows x 7 columns]"
      ]
     },
     "execution_count": 4,
     "metadata": {},
     "output_type": "execute_result"
    }
   ],
   "source": [
    "x_train=train.iloc[:,:res_pos-1]\n",
    "x_train"
   ]
  },
  {
   "cell_type": "code",
   "execution_count": 5,
   "id": "7017a653",
   "metadata": {},
   "outputs": [
    {
     "data": {
      "text/plain": [
       "0      2\n",
       "1      2\n",
       "2      2\n",
       "3      2\n",
       "4      2\n",
       "      ..\n",
       "247    2\n",
       "248    2\n",
       "249    2\n",
       "250    2\n",
       "251    2\n",
       "Name: 7, Length: 252, dtype: int64"
      ]
     },
     "execution_count": 5,
     "metadata": {},
     "output_type": "execute_result"
    }
   ],
   "source": [
    "y_train=train.iloc[:,res_pos-1]\n",
    "y_train"
   ]
  },
  {
   "cell_type": "code",
   "execution_count": 6,
   "id": "f599b1ea",
   "metadata": {
    "scrolled": true
   },
   "outputs": [
    {
     "data": {
      "text/html": [
       "<div>\n",
       "<style scoped>\n",
       "    .dataframe tbody tr th:only-of-type {\n",
       "        vertical-align: middle;\n",
       "    }\n",
       "\n",
       "    .dataframe tbody tr th {\n",
       "        vertical-align: top;\n",
       "    }\n",
       "\n",
       "    .dataframe thead th {\n",
       "        text-align: right;\n",
       "    }\n",
       "</style>\n",
       "<table border=\"1\" class=\"dataframe\">\n",
       "  <thead>\n",
       "    <tr style=\"text-align: right;\">\n",
       "      <th></th>\n",
       "      <th>0</th>\n",
       "      <th>1</th>\n",
       "      <th>2</th>\n",
       "      <th>3</th>\n",
       "      <th>4</th>\n",
       "      <th>5</th>\n",
       "      <th>6</th>\n",
       "    </tr>\n",
       "  </thead>\n",
       "  <tbody>\n",
       "    <tr>\n",
       "      <th>0</th>\n",
       "      <td>5</td>\n",
       "      <td>136</td>\n",
       "      <td>84</td>\n",
       "      <td>41</td>\n",
       "      <td>35.0</td>\n",
       "      <td>0.286</td>\n",
       "      <td>35</td>\n",
       "    </tr>\n",
       "    <tr>\n",
       "      <th>1</th>\n",
       "      <td>9</td>\n",
       "      <td>170</td>\n",
       "      <td>74</td>\n",
       "      <td>31</td>\n",
       "      <td>44.0</td>\n",
       "      <td>0.403</td>\n",
       "      <td>43</td>\n",
       "    </tr>\n",
       "    <tr>\n",
       "      <th>2</th>\n",
       "      <td>14</td>\n",
       "      <td>175</td>\n",
       "      <td>62</td>\n",
       "      <td>30</td>\n",
       "      <td>33.6</td>\n",
       "      <td>0.212</td>\n",
       "      <td>38</td>\n",
       "    </tr>\n",
       "    <tr>\n",
       "      <th>3</th>\n",
       "      <td>7</td>\n",
       "      <td>160</td>\n",
       "      <td>54</td>\n",
       "      <td>32</td>\n",
       "      <td>30.5</td>\n",
       "      <td>0.588</td>\n",
       "      <td>39</td>\n",
       "    </tr>\n",
       "    <tr>\n",
       "      <th>4</th>\n",
       "      <td>0</td>\n",
       "      <td>180</td>\n",
       "      <td>90</td>\n",
       "      <td>26</td>\n",
       "      <td>36.5</td>\n",
       "      <td>0.314</td>\n",
       "      <td>35</td>\n",
       "    </tr>\n",
       "    <tr>\n",
       "      <th>...</th>\n",
       "      <td>...</td>\n",
       "      <td>...</td>\n",
       "      <td>...</td>\n",
       "      <td>...</td>\n",
       "      <td>...</td>\n",
       "      <td>...</td>\n",
       "      <td>...</td>\n",
       "    </tr>\n",
       "    <tr>\n",
       "      <th>221</th>\n",
       "      <td>8</td>\n",
       "      <td>105</td>\n",
       "      <td>100</td>\n",
       "      <td>36</td>\n",
       "      <td>43.3</td>\n",
       "      <td>0.239</td>\n",
       "      <td>45</td>\n",
       "    </tr>\n",
       "    <tr>\n",
       "      <th>222</th>\n",
       "      <td>11</td>\n",
       "      <td>143</td>\n",
       "      <td>94</td>\n",
       "      <td>33</td>\n",
       "      <td>36.6</td>\n",
       "      <td>0.254</td>\n",
       "      <td>51</td>\n",
       "    </tr>\n",
       "    <tr>\n",
       "      <th>223</th>\n",
       "      <td>1</td>\n",
       "      <td>168</td>\n",
       "      <td>88</td>\n",
       "      <td>29</td>\n",
       "      <td>35.0</td>\n",
       "      <td>0.905</td>\n",
       "      <td>52</td>\n",
       "    </tr>\n",
       "    <tr>\n",
       "      <th>224</th>\n",
       "      <td>1</td>\n",
       "      <td>122</td>\n",
       "      <td>64</td>\n",
       "      <td>32</td>\n",
       "      <td>35.1</td>\n",
       "      <td>0.692</td>\n",
       "      <td>30</td>\n",
       "    </tr>\n",
       "    <tr>\n",
       "      <th>225</th>\n",
       "      <td>1</td>\n",
       "      <td>181</td>\n",
       "      <td>64</td>\n",
       "      <td>30</td>\n",
       "      <td>34.1</td>\n",
       "      <td>0.328</td>\n",
       "      <td>38</td>\n",
       "    </tr>\n",
       "  </tbody>\n",
       "</table>\n",
       "<p>226 rows × 7 columns</p>\n",
       "</div>"
      ],
      "text/plain": [
       "      0    1    2   3     4      5   6\n",
       "0     5  136   84  41  35.0  0.286  35\n",
       "1     9  170   74  31  44.0  0.403  43\n",
       "2    14  175   62  30  33.6  0.212  38\n",
       "3     7  160   54  32  30.5  0.588  39\n",
       "4     0  180   90  26  36.5  0.314  35\n",
       "..   ..  ...  ...  ..   ...    ...  ..\n",
       "221   8  105  100  36  43.3  0.239  45\n",
       "222  11  143   94  33  36.6  0.254  51\n",
       "223   1  168   88  29  35.0  0.905  52\n",
       "224   1  122   64  32  35.1  0.692  30\n",
       "225   1  181   64  30  34.1  0.328  38\n",
       "\n",
       "[226 rows x 7 columns]"
      ]
     },
     "execution_count": 6,
     "metadata": {},
     "output_type": "execute_result"
    }
   ],
   "source": [
    "x_test=test.iloc[:,:res_pos-1]\n",
    "x_test"
   ]
  },
  {
   "cell_type": "code",
   "execution_count": 7,
   "id": "b83b86e8",
   "metadata": {},
   "outputs": [
    {
     "data": {
      "text/plain": [
       "0      1\n",
       "1      1\n",
       "2      1\n",
       "3      1\n",
       "4      1\n",
       "      ..\n",
       "221    1\n",
       "222    1\n",
       "223    1\n",
       "224    1\n",
       "225    1\n",
       "Name: 7, Length: 226, dtype: int64"
      ]
     },
     "execution_count": 7,
     "metadata": {},
     "output_type": "execute_result"
    }
   ],
   "source": [
    "y_test=test.iloc[:,res_pos-1]\n",
    "y_test"
   ]
  },
  {
   "cell_type": "markdown",
   "id": "386d87b8",
   "metadata": {},
   "source": [
    "### GINI Impurity"
   ]
  },
  {
   "cell_type": "code",
   "execution_count": 8,
   "id": "718e8673",
   "metadata": {},
   "outputs": [],
   "source": [
    "response=np.unique(y_train)"
   ]
  },
  {
   "cell_type": "code",
   "execution_count": 9,
   "id": "3bfe39cc",
   "metadata": {},
   "outputs": [],
   "source": [
    "def GINI_impurity(data):\n",
    "    n=len(data)\n",
    "    p1 = sum(data == response[0])/n\n",
    "    p2 = sum(data == response[1])/n\n",
    "    gini = 1 - (p1**2+p2**2)\n",
    "    \n",
    "    return gini"
   ]
  },
  {
   "cell_type": "code",
   "execution_count": 10,
   "id": "5e7aed8f",
   "metadata": {},
   "outputs": [
    {
     "data": {
      "text/plain": [
       "0.4082"
      ]
     },
     "execution_count": 10,
     "metadata": {},
     "output_type": "execute_result"
    }
   ],
   "source": [
    "gini_train = GINI_impurity(y_train)\n",
    "np.round(gini_train,4)"
   ]
  },
  {
   "cell_type": "code",
   "execution_count": 11,
   "id": "6a5fa45b",
   "metadata": {
    "scrolled": true
   },
   "outputs": [
    {
     "data": {
      "text/plain": [
       "0.4735"
      ]
     },
     "execution_count": 11,
     "metadata": {},
     "output_type": "execute_result"
    }
   ],
   "source": [
    "gini_test = GINI_impurity(y_test)\n",
    "np.round(gini_test,4)"
   ]
  },
  {
   "cell_type": "markdown",
   "id": "dd7eaa47",
   "metadata": {},
   "source": [
    "### Greedy Search Algorithm"
   ]
  },
  {
   "cell_type": "code",
   "execution_count": 12,
   "id": "2f641c93",
   "metadata": {},
   "outputs": [],
   "source": [
    "max_goodness = [] #Store best goodness of split values\n",
    "max_index = [] #Store indices for goodness of split"
   ]
  },
  {
   "cell_type": "code",
   "execution_count": 13,
   "id": "71a19405",
   "metadata": {},
   "outputs": [
    {
     "data": {
      "text/plain": [
       "array([ 68,  71,  72,  73,  74,  77,  78,  79,  80,  81,  82,  83,  84,\n",
       "        85,  86,  87,  88,  89,  90,  91,  92,  93,  94,  95,  96,  97,\n",
       "        98,  99, 100, 101, 102, 103, 105, 106, 107, 108, 109, 110, 111,\n",
       "       112, 113, 114, 115, 116, 117, 118, 119, 120, 121, 122, 123, 124,\n",
       "       125, 126, 127, 128, 129, 130, 131, 135, 137, 138, 139, 140, 142,\n",
       "       143, 144, 145, 146, 147, 148, 149, 151, 152, 153, 154, 155, 156,\n",
       "       157, 158, 164, 165, 166, 167, 173, 174, 176, 179, 180, 181, 184,\n",
       "       187, 188, 189, 191, 193, 194, 195, 196, 197, 198], dtype=int64)"
      ]
     },
     "execution_count": 13,
     "metadata": {},
     "output_type": "execute_result"
    }
   ],
   "source": [
    "np.unique(x_train[1])"
   ]
  },
  {
   "cell_type": "code",
   "execution_count": 14,
   "id": "bbd03f19",
   "metadata": {},
   "outputs": [
    {
     "data": {
      "text/html": [
       "<div>\n",
       "<style scoped>\n",
       "    .dataframe tbody tr th:only-of-type {\n",
       "        vertical-align: middle;\n",
       "    }\n",
       "\n",
       "    .dataframe tbody tr th {\n",
       "        vertical-align: top;\n",
       "    }\n",
       "\n",
       "    .dataframe thead th {\n",
       "        text-align: right;\n",
       "    }\n",
       "</style>\n",
       "<table border=\"1\" class=\"dataframe\">\n",
       "  <thead>\n",
       "    <tr style=\"text-align: right;\">\n",
       "      <th></th>\n",
       "      <th>0</th>\n",
       "      <th>1</th>\n",
       "      <th>2</th>\n",
       "      <th>3</th>\n",
       "      <th>4</th>\n",
       "      <th>5</th>\n",
       "      <th>6</th>\n",
       "    </tr>\n",
       "  </thead>\n",
       "  <tbody>\n",
       "    <tr>\n",
       "      <th>0</th>\n",
       "      <td>4</td>\n",
       "      <td>83</td>\n",
       "      <td>86</td>\n",
       "      <td>19</td>\n",
       "      <td>29.3</td>\n",
       "      <td>0.317</td>\n",
       "      <td>34</td>\n",
       "    </tr>\n",
       "    <tr>\n",
       "      <th>1</th>\n",
       "      <td>6</td>\n",
       "      <td>105</td>\n",
       "      <td>70</td>\n",
       "      <td>32</td>\n",
       "      <td>30.8</td>\n",
       "      <td>0.122</td>\n",
       "      <td>37</td>\n",
       "    </tr>\n",
       "    <tr>\n",
       "      <th>2</th>\n",
       "      <td>1</td>\n",
       "      <td>89</td>\n",
       "      <td>24</td>\n",
       "      <td>19</td>\n",
       "      <td>27.8</td>\n",
       "      <td>0.559</td>\n",
       "      <td>21</td>\n",
       "    </tr>\n",
       "    <tr>\n",
       "      <th>3</th>\n",
       "      <td>6</td>\n",
       "      <td>111</td>\n",
       "      <td>64</td>\n",
       "      <td>39</td>\n",
       "      <td>34.2</td>\n",
       "      <td>0.260</td>\n",
       "      <td>24</td>\n",
       "    </tr>\n",
       "    <tr>\n",
       "      <th>4</th>\n",
       "      <td>4</td>\n",
       "      <td>146</td>\n",
       "      <td>85</td>\n",
       "      <td>27</td>\n",
       "      <td>28.9</td>\n",
       "      <td>0.189</td>\n",
       "      <td>27</td>\n",
       "    </tr>\n",
       "    <tr>\n",
       "      <th>...</th>\n",
       "      <td>...</td>\n",
       "      <td>...</td>\n",
       "      <td>...</td>\n",
       "      <td>...</td>\n",
       "      <td>...</td>\n",
       "      <td>...</td>\n",
       "      <td>...</td>\n",
       "    </tr>\n",
       "    <tr>\n",
       "      <th>247</th>\n",
       "      <td>2</td>\n",
       "      <td>68</td>\n",
       "      <td>62</td>\n",
       "      <td>13</td>\n",
       "      <td>20.1</td>\n",
       "      <td>0.257</td>\n",
       "      <td>23</td>\n",
       "    </tr>\n",
       "    <tr>\n",
       "      <th>248</th>\n",
       "      <td>10</td>\n",
       "      <td>68</td>\n",
       "      <td>106</td>\n",
       "      <td>23</td>\n",
       "      <td>35.5</td>\n",
       "      <td>0.285</td>\n",
       "      <td>47</td>\n",
       "    </tr>\n",
       "    <tr>\n",
       "      <th>249</th>\n",
       "      <td>3</td>\n",
       "      <td>99</td>\n",
       "      <td>80</td>\n",
       "      <td>11</td>\n",
       "      <td>19.3</td>\n",
       "      <td>0.284</td>\n",
       "      <td>30</td>\n",
       "    </tr>\n",
       "    <tr>\n",
       "      <th>250</th>\n",
       "      <td>1</td>\n",
       "      <td>124</td>\n",
       "      <td>74</td>\n",
       "      <td>36</td>\n",
       "      <td>27.8</td>\n",
       "      <td>0.100</td>\n",
       "      <td>30</td>\n",
       "    </tr>\n",
       "    <tr>\n",
       "      <th>251</th>\n",
       "      <td>6</td>\n",
       "      <td>123</td>\n",
       "      <td>72</td>\n",
       "      <td>45</td>\n",
       "      <td>33.6</td>\n",
       "      <td>0.733</td>\n",
       "      <td>34</td>\n",
       "    </tr>\n",
       "  </tbody>\n",
       "</table>\n",
       "<p>252 rows × 7 columns</p>\n",
       "</div>"
      ],
      "text/plain": [
       "      0    1    2   3     4      5   6\n",
       "0     4   83   86  19  29.3  0.317  34\n",
       "1     6  105   70  32  30.8  0.122  37\n",
       "2     1   89   24  19  27.8  0.559  21\n",
       "3     6  111   64  39  34.2  0.260  24\n",
       "4     4  146   85  27  28.9  0.189  27\n",
       "..   ..  ...  ...  ..   ...    ...  ..\n",
       "247   2   68   62  13  20.1  0.257  23\n",
       "248  10   68  106  23  35.5  0.285  47\n",
       "249   3   99   80  11  19.3  0.284  30\n",
       "250   1  124   74  36  27.8  0.100  30\n",
       "251   6  123   72  45  33.6  0.733  34\n",
       "\n",
       "[252 rows x 7 columns]"
      ]
     },
     "execution_count": 14,
     "metadata": {},
     "output_type": "execute_result"
    }
   ],
   "source": [
    "x_train"
   ]
  },
  {
   "cell_type": "code",
   "execution_count": 15,
   "id": "b6b0ce9b",
   "metadata": {
    "scrolled": true
   },
   "outputs": [
    {
     "data": {
      "text/html": [
       "<div>\n",
       "<style scoped>\n",
       "    .dataframe tbody tr th:only-of-type {\n",
       "        vertical-align: middle;\n",
       "    }\n",
       "\n",
       "    .dataframe tbody tr th {\n",
       "        vertical-align: top;\n",
       "    }\n",
       "\n",
       "    .dataframe thead th {\n",
       "        text-align: right;\n",
       "    }\n",
       "</style>\n",
       "<table border=\"1\" class=\"dataframe\">\n",
       "  <thead>\n",
       "    <tr style=\"text-align: right;\">\n",
       "      <th></th>\n",
       "      <th>0</th>\n",
       "      <th>1</th>\n",
       "      <th>2</th>\n",
       "      <th>3</th>\n",
       "      <th>4</th>\n",
       "      <th>5</th>\n",
       "      <th>6</th>\n",
       "    </tr>\n",
       "  </thead>\n",
       "  <tbody>\n",
       "    <tr>\n",
       "      <th>0</th>\n",
       "      <td>4</td>\n",
       "      <td>83</td>\n",
       "      <td>86</td>\n",
       "      <td>19</td>\n",
       "      <td>29.3</td>\n",
       "      <td>0.317</td>\n",
       "      <td>34</td>\n",
       "    </tr>\n",
       "    <tr>\n",
       "      <th>1</th>\n",
       "      <td>6</td>\n",
       "      <td>105</td>\n",
       "      <td>70</td>\n",
       "      <td>32</td>\n",
       "      <td>30.8</td>\n",
       "      <td>0.122</td>\n",
       "      <td>37</td>\n",
       "    </tr>\n",
       "    <tr>\n",
       "      <th>2</th>\n",
       "      <td>1</td>\n",
       "      <td>89</td>\n",
       "      <td>24</td>\n",
       "      <td>19</td>\n",
       "      <td>27.8</td>\n",
       "      <td>0.559</td>\n",
       "      <td>21</td>\n",
       "    </tr>\n",
       "    <tr>\n",
       "      <th>3</th>\n",
       "      <td>6</td>\n",
       "      <td>111</td>\n",
       "      <td>64</td>\n",
       "      <td>39</td>\n",
       "      <td>34.2</td>\n",
       "      <td>0.260</td>\n",
       "      <td>24</td>\n",
       "    </tr>\n",
       "    <tr>\n",
       "      <th>4</th>\n",
       "      <td>4</td>\n",
       "      <td>146</td>\n",
       "      <td>85</td>\n",
       "      <td>27</td>\n",
       "      <td>28.9</td>\n",
       "      <td>0.189</td>\n",
       "      <td>27</td>\n",
       "    </tr>\n",
       "    <tr>\n",
       "      <th>...</th>\n",
       "      <td>...</td>\n",
       "      <td>...</td>\n",
       "      <td>...</td>\n",
       "      <td>...</td>\n",
       "      <td>...</td>\n",
       "      <td>...</td>\n",
       "      <td>...</td>\n",
       "    </tr>\n",
       "    <tr>\n",
       "      <th>247</th>\n",
       "      <td>2</td>\n",
       "      <td>68</td>\n",
       "      <td>62</td>\n",
       "      <td>13</td>\n",
       "      <td>20.1</td>\n",
       "      <td>0.257</td>\n",
       "      <td>23</td>\n",
       "    </tr>\n",
       "    <tr>\n",
       "      <th>248</th>\n",
       "      <td>10</td>\n",
       "      <td>68</td>\n",
       "      <td>106</td>\n",
       "      <td>23</td>\n",
       "      <td>35.5</td>\n",
       "      <td>0.285</td>\n",
       "      <td>47</td>\n",
       "    </tr>\n",
       "    <tr>\n",
       "      <th>249</th>\n",
       "      <td>3</td>\n",
       "      <td>99</td>\n",
       "      <td>80</td>\n",
       "      <td>11</td>\n",
       "      <td>19.3</td>\n",
       "      <td>0.284</td>\n",
       "      <td>30</td>\n",
       "    </tr>\n",
       "    <tr>\n",
       "      <th>250</th>\n",
       "      <td>1</td>\n",
       "      <td>124</td>\n",
       "      <td>74</td>\n",
       "      <td>36</td>\n",
       "      <td>27.8</td>\n",
       "      <td>0.100</td>\n",
       "      <td>30</td>\n",
       "    </tr>\n",
       "    <tr>\n",
       "      <th>251</th>\n",
       "      <td>6</td>\n",
       "      <td>123</td>\n",
       "      <td>72</td>\n",
       "      <td>45</td>\n",
       "      <td>33.6</td>\n",
       "      <td>0.733</td>\n",
       "      <td>34</td>\n",
       "    </tr>\n",
       "  </tbody>\n",
       "</table>\n",
       "<p>252 rows × 7 columns</p>\n",
       "</div>"
      ],
      "text/plain": [
       "      0    1    2   3     4      5   6\n",
       "0     4   83   86  19  29.3  0.317  34\n",
       "1     6  105   70  32  30.8  0.122  37\n",
       "2     1   89   24  19  27.8  0.559  21\n",
       "3     6  111   64  39  34.2  0.260  24\n",
       "4     4  146   85  27  28.9  0.189  27\n",
       "..   ..  ...  ...  ..   ...    ...  ..\n",
       "247   2   68   62  13  20.1  0.257  23\n",
       "248  10   68  106  23  35.5  0.285  47\n",
       "249   3   99   80  11  19.3  0.284  30\n",
       "250   1  124   74  36  27.8  0.100  30\n",
       "251   6  123   72  45  33.6  0.733  34\n",
       "\n",
       "[252 rows x 7 columns]"
      ]
     },
     "execution_count": 15,
     "metadata": {},
     "output_type": "execute_result"
    }
   ],
   "source": [
    "x_train"
   ]
  },
  {
   "cell_type": "code",
   "execution_count": 16,
   "id": "1922affa",
   "metadata": {
    "scrolled": false
   },
   "outputs": [],
   "source": [
    "for i in range(len(x_train.T)):\n",
    "    xmeans = [] #List for storing splitting points\n",
    "    for j in range(len(np.unique(x_train[i]))-1):\n",
    "        xmeans.append((np.unique(x_train[i])[j] + np.unique(x_train[i])[j+1])/2) #Calculate splitting points\n",
    "        \n",
    "    #Calculate goodness of split\n",
    "    goodness = [] #Store goodness of split values\n",
    "    for k in range(len(xmeans)):\n",
    "        #apply split rule\n",
    "        left = x_train[i] <= xmeans[k]\n",
    "        right = x_train[i] > xmeans[k]\n",
    "\n",
    "        #weights for GINI impurity\n",
    "        w1 = sum(left)/len(x_train)\n",
    "        w2 = sum(right)/len(x_train)\n",
    "\n",
    "        splits=GINI_impurity(y_train) - (w1*GINI_impurity(y_train[left]) + w2*GINI_impurity(y_train[right]))\n",
    "        goodness.append(splits)\n",
    "\n",
    "    #Save values\n",
    "    max_goodness.append(max(goodness))\n",
    "    max_index.append(np.argmax(goodness))\n",
    "\n",
    "    #Finding variable with best goodness of split\n",
    "    variable = str(np.argmax(max_goodness)+1)\n",
    "    \n",
    "    #Coressponding split point\n",
    "    split_point = (np.unique(x_train[np.argmax(max_goodness)])[max_index[np.argmax(max_goodness)]] + np.unique(x_train[np.argmax(max_goodness)])[max_index[np.argmax(max_goodness)]+1])/2"
   ]
  },
  {
   "cell_type": "code",
   "execution_count": 17,
   "id": "d81e9fef",
   "metadata": {
    "scrolled": true
   },
   "outputs": [
    {
     "data": {
      "text/plain": [
       "[21.5,\n",
       " 22.5,\n",
       " 23.5,\n",
       " 24.5,\n",
       " 25.5,\n",
       " 26.5,\n",
       " 27.5,\n",
       " 28.5,\n",
       " 29.5,\n",
       " 30.5,\n",
       " 31.5,\n",
       " 32.5,\n",
       " 33.5,\n",
       " 34.5,\n",
       " 35.5,\n",
       " 36.5,\n",
       " 37.5,\n",
       " 38.5,\n",
       " 39.5,\n",
       " 40.5,\n",
       " 41.5,\n",
       " 42.5,\n",
       " 44.0,\n",
       " 45.5,\n",
       " 46.5,\n",
       " 47.5,\n",
       " 48.5,\n",
       " 49.5,\n",
       " 50.5,\n",
       " 51.5,\n",
       " 53.5,\n",
       " 55.5,\n",
       " 56.5,\n",
       " 57.5,\n",
       " 58.5,\n",
       " 59.5,\n",
       " 61.0,\n",
       " 62.5]"
      ]
     },
     "execution_count": 17,
     "metadata": {},
     "output_type": "execute_result"
    }
   ],
   "source": [
    "#Splitting points\n",
    "xmeans"
   ]
  },
  {
   "cell_type": "code",
   "execution_count": 18,
   "id": "5eb647bd",
   "metadata": {},
   "outputs": [
    {
     "data": {
      "text/plain": [
       "array([0.055 , 0.0953, 0.0137, 0.022 , 0.026 , 0.0337, 0.0471])"
      ]
     },
     "execution_count": 18,
     "metadata": {},
     "output_type": "execute_result"
    }
   ],
   "source": [
    "#Best goodness of split values\n",
    "np.round(max_goodness,4)"
   ]
  },
  {
   "cell_type": "code",
   "execution_count": 19,
   "id": "b4a15978",
   "metadata": {
    "scrolled": true
   },
   "outputs": [
    {
     "data": {
      "text/plain": [
       "[6, 68, 19, 11, 46, 151, 7]"
      ]
     },
     "execution_count": 19,
     "metadata": {},
     "output_type": "execute_result"
    }
   ],
   "source": [
    "#Corresponding indices of observations\n",
    "max_index"
   ]
  },
  {
   "cell_type": "code",
   "execution_count": 20,
   "id": "da3b3e9a",
   "metadata": {
    "scrolled": true
   },
   "outputs": [
    {
     "data": {
      "text/plain": [
       "'2'"
      ]
     },
     "execution_count": 20,
     "metadata": {},
     "output_type": "execute_result"
    }
   ],
   "source": [
    "#Splitting variable\n",
    "variable"
   ]
  },
  {
   "cell_type": "code",
   "execution_count": 21,
   "id": "8e6a1e0a",
   "metadata": {},
   "outputs": [
    {
     "data": {
      "text/plain": [
       "146.5"
      ]
     },
     "execution_count": 21,
     "metadata": {},
     "output_type": "execute_result"
    }
   ],
   "source": [
    "#Final splitting point\n",
    "split_point"
   ]
  },
  {
   "cell_type": "markdown",
   "id": "fcdadfca",
   "metadata": {},
   "source": [
    "### Confusion Matrix and Accuracy"
   ]
  },
  {
   "cell_type": "code",
   "execution_count": 22,
   "id": "03a8962b",
   "metadata": {
    "scrolled": true
   },
   "outputs": [
    {
     "data": {
      "text/plain": [
       "array([2, 1, 1, 1, 1, 2, 2, 2, 1, 2, 1, 2, 2, 2, 1, 2, 1, 2, 1, 2, 2, 2,\n",
       "       2, 2, 2, 2, 2, 2, 2, 2, 2, 1, 2, 2, 2, 2, 2, 2, 2, 2, 2, 2, 1, 2,\n",
       "       2, 2, 2, 2, 2, 2, 2, 1, 2, 2, 1, 2, 2, 2, 1, 2, 2, 1, 1, 1, 2, 2,\n",
       "       1, 2, 2, 1, 2, 1, 2, 2, 2, 2, 2, 2, 2, 2, 2, 2, 2, 2, 2, 1, 1, 2,\n",
       "       2, 2, 2, 2, 2, 2, 2, 2, 2, 2, 2, 2, 2, 2, 2, 2, 2, 2, 2, 2, 1, 1,\n",
       "       1, 1, 2, 1, 2, 2, 1, 1, 1, 2, 1, 2, 2, 2, 2, 2, 2, 2, 2, 2, 2, 2,\n",
       "       2, 1, 2, 2, 2, 2, 2, 2, 2, 2, 2, 2, 2, 2, 2, 2, 2, 2, 2, 2, 2, 2,\n",
       "       2, 2, 1, 2, 2, 1, 2, 2, 1, 2, 1, 2, 2, 1, 2, 2, 2, 1, 2, 1, 1, 1,\n",
       "       2, 2, 2, 2, 2, 2, 2, 2, 2, 2, 2, 2, 2, 2, 2, 2, 2, 2, 2, 1, 2, 2,\n",
       "       2, 2, 2, 2, 1, 2, 2, 2, 2, 2, 2, 2, 2, 2, 2, 2, 1, 2, 2, 1, 2, 2,\n",
       "       1, 2, 2, 1, 2, 1])"
      ]
     },
     "execution_count": 22,
     "metadata": {},
     "output_type": "execute_result"
    }
   ],
   "source": [
    "#Fit predictor variables of test data into model\n",
    "pred=np.where(x_test[int(variable)-1]<=split_point,2,1)\n",
    "pred"
   ]
  },
  {
   "cell_type": "code",
   "execution_count": 23,
   "id": "f565d5e9",
   "metadata": {
    "scrolled": false
   },
   "outputs": [
    {
     "data": {
      "text/plain": [
       "array([1, 1, 1, 1, 1, 1, 1, 1, 1, 1, 1, 1, 1, 1, 1, 1, 1, 1, 2, 2, 2, 2,\n",
       "       2, 2, 2, 2, 2, 2, 2, 2, 2, 2, 2, 2, 2, 2, 2, 2, 2, 2, 2, 2, 2, 2,\n",
       "       2, 2, 2, 2, 2, 2, 2, 2, 2, 2, 1, 1, 1, 1, 1, 1, 1, 1, 1, 1, 1, 1,\n",
       "       1, 1, 1, 1, 1, 1, 2, 2, 2, 2, 2, 2, 2, 2, 2, 2, 2, 2, 2, 2, 2, 2,\n",
       "       2, 2, 2, 2, 2, 2, 2, 2, 2, 2, 2, 2, 2, 2, 2, 2, 2, 2, 2, 2, 1, 1,\n",
       "       1, 1, 1, 1, 1, 1, 1, 1, 1, 1, 1, 1, 1, 1, 1, 1, 2, 2, 2, 2, 2, 2,\n",
       "       2, 2, 2, 2, 2, 2, 2, 2, 2, 2, 2, 2, 2, 2, 2, 2, 2, 2, 2, 2, 2, 2,\n",
       "       2, 2, 2, 2, 2, 2, 2, 2, 1, 1, 1, 1, 1, 1, 1, 1, 1, 1, 1, 1, 1, 1,\n",
       "       1, 1, 1, 1, 2, 2, 2, 2, 2, 2, 2, 2, 2, 2, 2, 2, 2, 2, 2, 2, 2, 2,\n",
       "       2, 2, 2, 2, 2, 2, 2, 2, 2, 2, 2, 2, 2, 1, 1, 1, 1, 1, 1, 1, 1, 1,\n",
       "       1, 1, 1, 1, 1, 1], dtype=int64)"
      ]
     },
     "execution_count": 23,
     "metadata": {},
     "output_type": "execute_result"
    }
   ],
   "source": [
    "#Response variables of test data\n",
    "y_test=np.array(y_test)\n",
    "y_test"
   ]
  },
  {
   "cell_type": "code",
   "execution_count": 24,
   "id": "6365c387",
   "metadata": {
    "scrolled": false
   },
   "outputs": [],
   "source": [
    "#Confusion matrix\n",
    "confusion=pd.crosstab(y_test, pred, colnames=[''])\n",
    "confusion.index = np.array(['Actual', 'Class'])\n",
    "confusion.insert(loc=0, value=np.unique(pred), column = '')"
   ]
  },
  {
   "cell_type": "code",
   "execution_count": 25,
   "id": "a6619755",
   "metadata": {
    "scrolled": false
   },
   "outputs": [
    {
     "name": "stdout",
     "output_type": "stream",
     "text": [
      "Confusion Matrix (Test)\n",
      " -----------------------\n",
      "       Predicted Class\n",
      "             1    2\n",
      "Actual  1  37   50\n",
      "Class   2  11  128\n"
     ]
    }
   ],
   "source": [
    "print(\"Confusion Matrix (Test)\\n\", \"-----------------------\\n\", \"      Predicted Class\\n\", confusion)"
   ]
  },
  {
   "cell_type": "code",
   "execution_count": 26,
   "id": "feb83369",
   "metadata": {},
   "outputs": [
    {
     "data": {
      "text/plain": [
       "0.73"
      ]
     },
     "execution_count": 26,
     "metadata": {},
     "output_type": "execute_result"
    }
   ],
   "source": [
    "#Accuracy\n",
    "acc_test = np.round(np.trace(pd.crosstab(y_test, pred))/len(test),3)\n",
    "acc_test"
   ]
  },
  {
   "cell_type": "markdown",
   "id": "6310b956",
   "metadata": {},
   "source": [
    "### Write File"
   ]
  },
  {
   "cell_type": "code",
   "execution_count": 27,
   "id": "0755610e",
   "metadata": {},
   "outputs": [],
   "source": [
    "f = open(export_name,'w')\n",
    "text=\"\"\n",
    "text+=\"Tree Structure\\n      Node 1: \"+str(response[1])+\" (\"+str(sum(y_train == response[0]))+\", \"+str(sum(y_train == response[1]))\n",
    "text+=\")\\n          Node 2: x\"+str(variable)+\" <= \"+str(split_point)+\", \"+str(response[1])+\" (\"\n",
    "text+=str(sum(y_train[x_train[1] <= split_point] == response[0]))+\", \"+str(sum(y_train[x_train[1] <= split_point] == response[1]))\n",
    "text+=\")\\n          Node 3: x\"+str(variable)+\" > \"+str(split_point)+\", \"+str(response[0])+\" (\"\n",
    "text+=str(sum(y_train[x_train[1] > split_point] == response[0]))+\", \"+str(sum(y_train[x_train[1] > split_point] == response[1]))+\")\"\n",
    "\n",
    "text+=\"\\n\\nConfusion Matrix (Test)\\n\"+\"-------------------------------\\n\"+\"      Predicted Class\\n\"+str(confusion)\n",
    "\n",
    "text += \"\\n\\nModel Summary (Test)\\n-----------------------------\\n\"\n",
    "text += \"Overall accuracy = \"+str(acc_test)+\"\\n\\n\\n\"\n",
    "\n",
    "f.write(text)\n",
    "f.close()"
   ]
  }
 ],
 "metadata": {
  "kernelspec": {
   "display_name": "Python 3 (ipykernel)",
   "language": "python",
   "name": "python3"
  },
  "language_info": {
   "codemirror_mode": {
    "name": "ipython",
    "version": 3
   },
   "file_extension": ".py",
   "mimetype": "text/x-python",
   "name": "python",
   "nbconvert_exporter": "python",
   "pygments_lexer": "ipython3",
   "version": "3.9.12"
  }
 },
 "nbformat": 4,
 "nbformat_minor": 5
}
