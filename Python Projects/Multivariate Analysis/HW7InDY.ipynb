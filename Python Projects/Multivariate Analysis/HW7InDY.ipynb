{
 "cells": [
  {
   "cell_type": "code",
   "execution_count": 1,
   "id": "da899a0d",
   "metadata": {},
   "outputs": [],
   "source": [
    "import pandas as pd\n",
    "import numpy as np\n",
    "import matplotlib.pyplot as plt\n",
    "from scipy import stats\n",
    "from scipy.stats import chi2, f"
   ]
  },
  {
   "cell_type": "code",
   "execution_count": 2,
   "id": "2f6e477a",
   "metadata": {
    "scrolled": true
   },
   "outputs": [
    {
     "data": {
      "text/html": [
       "<div>\n",
       "<style scoped>\n",
       "    .dataframe tbody tr th:only-of-type {\n",
       "        vertical-align: middle;\n",
       "    }\n",
       "\n",
       "    .dataframe tbody tr th {\n",
       "        vertical-align: top;\n",
       "    }\n",
       "\n",
       "    .dataframe thead th {\n",
       "        text-align: right;\n",
       "    }\n",
       "</style>\n",
       "<table border=\"1\" class=\"dataframe\">\n",
       "  <thead>\n",
       "    <tr style=\"text-align: right;\">\n",
       "      <th></th>\n",
       "      <th>Y1</th>\n",
       "      <th>Y2</th>\n",
       "      <th>Z1</th>\n",
       "      <th>Z2</th>\n",
       "      <th>Z3</th>\n",
       "      <th>Z4</th>\n",
       "      <th>Z5</th>\n",
       "    </tr>\n",
       "  </thead>\n",
       "  <tbody>\n",
       "    <tr>\n",
       "      <th>0</th>\n",
       "      <td>3389</td>\n",
       "      <td>3149</td>\n",
       "      <td>1</td>\n",
       "      <td>7500</td>\n",
       "      <td>220</td>\n",
       "      <td>0</td>\n",
       "      <td>140</td>\n",
       "    </tr>\n",
       "    <tr>\n",
       "      <th>1</th>\n",
       "      <td>1101</td>\n",
       "      <td>653</td>\n",
       "      <td>1</td>\n",
       "      <td>1975</td>\n",
       "      <td>200</td>\n",
       "      <td>0</td>\n",
       "      <td>100</td>\n",
       "    </tr>\n",
       "    <tr>\n",
       "      <th>2</th>\n",
       "      <td>1131</td>\n",
       "      <td>810</td>\n",
       "      <td>0</td>\n",
       "      <td>3600</td>\n",
       "      <td>205</td>\n",
       "      <td>60</td>\n",
       "      <td>111</td>\n",
       "    </tr>\n",
       "    <tr>\n",
       "      <th>3</th>\n",
       "      <td>596</td>\n",
       "      <td>448</td>\n",
       "      <td>1</td>\n",
       "      <td>675</td>\n",
       "      <td>160</td>\n",
       "      <td>60</td>\n",
       "      <td>120</td>\n",
       "    </tr>\n",
       "    <tr>\n",
       "      <th>4</th>\n",
       "      <td>896</td>\n",
       "      <td>844</td>\n",
       "      <td>1</td>\n",
       "      <td>750</td>\n",
       "      <td>185</td>\n",
       "      <td>70</td>\n",
       "      <td>83</td>\n",
       "    </tr>\n",
       "    <tr>\n",
       "      <th>5</th>\n",
       "      <td>1767</td>\n",
       "      <td>1450</td>\n",
       "      <td>1</td>\n",
       "      <td>2500</td>\n",
       "      <td>180</td>\n",
       "      <td>60</td>\n",
       "      <td>80</td>\n",
       "    </tr>\n",
       "    <tr>\n",
       "      <th>6</th>\n",
       "      <td>807</td>\n",
       "      <td>493</td>\n",
       "      <td>1</td>\n",
       "      <td>350</td>\n",
       "      <td>154</td>\n",
       "      <td>80</td>\n",
       "      <td>98</td>\n",
       "    </tr>\n",
       "    <tr>\n",
       "      <th>7</th>\n",
       "      <td>1111</td>\n",
       "      <td>941</td>\n",
       "      <td>0</td>\n",
       "      <td>1500</td>\n",
       "      <td>200</td>\n",
       "      <td>70</td>\n",
       "      <td>93</td>\n",
       "    </tr>\n",
       "    <tr>\n",
       "      <th>8</th>\n",
       "      <td>645</td>\n",
       "      <td>547</td>\n",
       "      <td>1</td>\n",
       "      <td>375</td>\n",
       "      <td>137</td>\n",
       "      <td>60</td>\n",
       "      <td>105</td>\n",
       "    </tr>\n",
       "    <tr>\n",
       "      <th>9</th>\n",
       "      <td>628</td>\n",
       "      <td>392</td>\n",
       "      <td>1</td>\n",
       "      <td>1050</td>\n",
       "      <td>167</td>\n",
       "      <td>60</td>\n",
       "      <td>74</td>\n",
       "    </tr>\n",
       "    <tr>\n",
       "      <th>10</th>\n",
       "      <td>1360</td>\n",
       "      <td>1283</td>\n",
       "      <td>1</td>\n",
       "      <td>3000</td>\n",
       "      <td>180</td>\n",
       "      <td>60</td>\n",
       "      <td>80</td>\n",
       "    </tr>\n",
       "    <tr>\n",
       "      <th>11</th>\n",
       "      <td>652</td>\n",
       "      <td>458</td>\n",
       "      <td>1</td>\n",
       "      <td>450</td>\n",
       "      <td>160</td>\n",
       "      <td>64</td>\n",
       "      <td>60</td>\n",
       "    </tr>\n",
       "    <tr>\n",
       "      <th>12</th>\n",
       "      <td>860</td>\n",
       "      <td>722</td>\n",
       "      <td>1</td>\n",
       "      <td>1750</td>\n",
       "      <td>135</td>\n",
       "      <td>90</td>\n",
       "      <td>79</td>\n",
       "    </tr>\n",
       "    <tr>\n",
       "      <th>13</th>\n",
       "      <td>500</td>\n",
       "      <td>384</td>\n",
       "      <td>0</td>\n",
       "      <td>2000</td>\n",
       "      <td>160</td>\n",
       "      <td>60</td>\n",
       "      <td>80</td>\n",
       "    </tr>\n",
       "    <tr>\n",
       "      <th>14</th>\n",
       "      <td>781</td>\n",
       "      <td>501</td>\n",
       "      <td>0</td>\n",
       "      <td>4500</td>\n",
       "      <td>180</td>\n",
       "      <td>0</td>\n",
       "      <td>100</td>\n",
       "    </tr>\n",
       "    <tr>\n",
       "      <th>15</th>\n",
       "      <td>1070</td>\n",
       "      <td>405</td>\n",
       "      <td>0</td>\n",
       "      <td>1500</td>\n",
       "      <td>170</td>\n",
       "      <td>90</td>\n",
       "      <td>120</td>\n",
       "    </tr>\n",
       "    <tr>\n",
       "      <th>16</th>\n",
       "      <td>1754</td>\n",
       "      <td>1520</td>\n",
       "      <td>1</td>\n",
       "      <td>3000</td>\n",
       "      <td>180</td>\n",
       "      <td>0</td>\n",
       "      <td>129</td>\n",
       "    </tr>\n",
       "  </tbody>\n",
       "</table>\n",
       "</div>"
      ],
      "text/plain": [
       "      Y1    Y2  Z1    Z2   Z3  Z4   Z5\n",
       "0   3389  3149   1  7500  220   0  140\n",
       "1   1101   653   1  1975  200   0  100\n",
       "2   1131   810   0  3600  205  60  111\n",
       "3    596   448   1   675  160  60  120\n",
       "4    896   844   1   750  185  70   83\n",
       "5   1767  1450   1  2500  180  60   80\n",
       "6    807   493   1   350  154  80   98\n",
       "7   1111   941   0  1500  200  70   93\n",
       "8    645   547   1   375  137  60  105\n",
       "9    628   392   1  1050  167  60   74\n",
       "10  1360  1283   1  3000  180  60   80\n",
       "11   652   458   1   450  160  64   60\n",
       "12   860   722   1  1750  135  90   79\n",
       "13   500   384   0  2000  160  60   80\n",
       "14   781   501   0  4500  180   0  100\n",
       "15  1070   405   0  1500  170  90  120\n",
       "16  1754  1520   1  3000  180   0  129"
      ]
     },
     "execution_count": 2,
     "metadata": {},
     "output_type": "execute_result"
    }
   ],
   "source": [
    "#1\n",
    "amit = pd.read_csv('amit.dat', header=None, delim_whitespace=True)\n",
    "amit.columns=['Y1','Y2','Z1','Z2','Z3','Z4','Z5']\n",
    "amit\n",
    "#n = 17 patients\n",
    "#m = 2 response variables\n",
    "#r = 5 predictor variables"
   ]
  },
  {
   "cell_type": "code",
   "execution_count": 3,
   "id": "f11f756b",
   "metadata": {},
   "outputs": [],
   "source": [
    "#(a) Perform multivariate regression analysis. Analyze residuals to check multivariate normal assumption\n",
    "def mv_reg_anal(data, m, r): #m: number of response var, r: number of predictor var\n",
    "    y_colnames=data.columns[0:m]\n",
    "    z_colnames=data.columns[m:(m+r)]\n",
    "    Y=data[y_colnames]\n",
    "    Z=data[z_colnames]\n",
    "    ones=pd.DataFrame(np.ones(len(data),dtype=np.int8))\n",
    "    ones.columns=['Z0']\n",
    "    ones\n",
    "    Z=pd.concat([ones,Z],axis=1)\n",
    "    \n",
    "    B_hat=pd.DataFrame((np.linalg.inv(Z.T.dot(Z))).dot(Z.T).dot(Y))\n",
    "    \n",
    "    return [Y, Z, B_hat]"
   ]
  },
  {
   "cell_type": "code",
   "execution_count": 4,
   "id": "06d8f268",
   "metadata": {},
   "outputs": [
    {
     "data": {
      "text/html": [
       "<div>\n",
       "<style scoped>\n",
       "    .dataframe tbody tr th:only-of-type {\n",
       "        vertical-align: middle;\n",
       "    }\n",
       "\n",
       "    .dataframe tbody tr th {\n",
       "        vertical-align: top;\n",
       "    }\n",
       "\n",
       "    .dataframe thead th {\n",
       "        text-align: right;\n",
       "    }\n",
       "</style>\n",
       "<table border=\"1\" class=\"dataframe\">\n",
       "  <thead>\n",
       "    <tr style=\"text-align: right;\">\n",
       "      <th></th>\n",
       "      <th>Y1</th>\n",
       "      <th>Y2</th>\n",
       "    </tr>\n",
       "  </thead>\n",
       "  <tbody>\n",
       "    <tr>\n",
       "      <th>Z0</th>\n",
       "      <td>-2879.478246</td>\n",
       "      <td>-2728.708544</td>\n",
       "    </tr>\n",
       "    <tr>\n",
       "      <th>Z1</th>\n",
       "      <td>675.650781</td>\n",
       "      <td>763.029762</td>\n",
       "    </tr>\n",
       "    <tr>\n",
       "      <th>Z2</th>\n",
       "      <td>0.284851</td>\n",
       "      <td>0.306373</td>\n",
       "    </tr>\n",
       "    <tr>\n",
       "      <th>Z3</th>\n",
       "      <td>10.272133</td>\n",
       "      <td>8.896198</td>\n",
       "    </tr>\n",
       "    <tr>\n",
       "      <th>Z4</th>\n",
       "      <td>7.251171</td>\n",
       "      <td>7.205560</td>\n",
       "    </tr>\n",
       "    <tr>\n",
       "      <th>Z5</th>\n",
       "      <td>7.598240</td>\n",
       "      <td>4.987051</td>\n",
       "    </tr>\n",
       "  </tbody>\n",
       "</table>\n",
       "</div>"
      ],
      "text/plain": [
       "             Y1           Y2\n",
       "Z0 -2879.478246 -2728.708544\n",
       "Z1   675.650781   763.029762\n",
       "Z2     0.284851     0.306373\n",
       "Z3    10.272133     8.896198\n",
       "Z4     7.251171     7.205560\n",
       "Z5     7.598240     4.987051"
      ]
     },
     "execution_count": 4,
     "metadata": {},
     "output_type": "execute_result"
    }
   ],
   "source": [
    "#B_hat matrix\n",
    "#B0: intercept\n",
    "#B1~B5: slope for Z1~Z5\n",
    "Y, Z, B_hat=mv_reg_anal(amit, 2, 5)\n",
    "B_hat.index = ['Z0','Z1','Z2','Z3','Z4','Z5']\n",
    "B_hat.columns = ['Y1','Y2']\n",
    "B_hat"
   ]
  },
  {
   "cell_type": "code",
   "execution_count": 5,
   "id": "4cc0374d",
   "metadata": {},
   "outputs": [],
   "source": [
    "def mean_vector(data):\n",
    "    ones=pd.DataFrame({'ones': np.ones(len(data))})\n",
    "    mean=ones.transpose().dot(data)/len(data)\n",
    "    return mean"
   ]
  },
  {
   "cell_type": "code",
   "execution_count": 6,
   "id": "0eb1d7b9",
   "metadata": {},
   "outputs": [],
   "source": [
    "def covariance_matrix(data):\n",
    "    mean=mean_vector(data)\n",
    "    mean_rep = pd.concat([mean]*len(data))\n",
    "    mean_rep.columns=data.columns\n",
    "    mean_rep.reset_index(inplace = True, drop = True)\n",
    "    covariance=(data-mean_rep).transpose().dot(data-mean_rep)/(len(data)-1)\n",
    "    return covariance"
   ]
  },
  {
   "cell_type": "code",
   "execution_count": 7,
   "id": "10f48334",
   "metadata": {},
   "outputs": [],
   "source": [
    "def chisq_plot(data): #assume input is a dataframe\n",
    "    dj=[]\n",
    "    #sample covariance\n",
    "    S_inv=pd.DataFrame(np.linalg.inv(covariance_matrix(data)), index=data.columns, columns=data.columns)\n",
    "    #fill in values for dj\n",
    "    for i in range(len(data)):\n",
    "        diff=data.iloc[i]-mean_vector(data)\n",
    "        val=((diff).dot(S_inv)).dot(diff.transpose())\n",
    "        dj=np.append(dj,val)\n",
    "    dj.sort()\n",
    "    j=np.array(range(len(data)))+1\n",
    "    below_dj=(j-1/2)/len(data)\n",
    "    qj=chi2.ppf(below_dj, df=2)\n",
    "    plt.plot(qj,dj, 'o') #plot Chi-Square Plot\n",
    "    plt.plot(qj, qj) #plot reference line\n",
    "    plt.title('Chi-Square Plot')\n",
    "    plt.xlabel('Theoretical Quantiles')\n",
    "    plt.ylabel('Sample Quantiles')"
   ]
  },
  {
   "cell_type": "code",
   "execution_count": 8,
   "id": "a3325ac0",
   "metadata": {},
   "outputs": [
    {
     "data": {
      "text/html": [
       "<div>\n",
       "<style scoped>\n",
       "    .dataframe tbody tr th:only-of-type {\n",
       "        vertical-align: middle;\n",
       "    }\n",
       "\n",
       "    .dataframe tbody tr th {\n",
       "        vertical-align: top;\n",
       "    }\n",
       "\n",
       "    .dataframe thead th {\n",
       "        text-align: right;\n",
       "    }\n",
       "</style>\n",
       "<table border=\"1\" class=\"dataframe\">\n",
       "  <thead>\n",
       "    <tr style=\"text-align: right;\">\n",
       "      <th></th>\n",
       "      <th>Y1</th>\n",
       "      <th>Y2</th>\n",
       "    </tr>\n",
       "  </thead>\n",
       "  <tbody>\n",
       "    <tr>\n",
       "      <th>0</th>\n",
       "      <td>132.821721</td>\n",
       "      <td>161.527686</td>\n",
       "    </tr>\n",
       "    <tr>\n",
       "      <th>1</th>\n",
       "      <td>-72.003916</td>\n",
       "      <td>-264.353294</td>\n",
       "    </tr>\n",
       "    <tr>\n",
       "      <th>2</th>\n",
       "      <td>-399.247694</td>\n",
       "      <td>-373.852438</td>\n",
       "    </tr>\n",
       "    <tr>\n",
       "      <th>3</th>\n",
       "      <td>-382.847295</td>\n",
       "      <td>-247.294565</td>\n",
       "    </tr>\n",
       "    <tr>\n",
       "      <th>4</th>\n",
       "      <td>-152.391292</td>\n",
       "      <td>15.787769</td>\n",
       "    </tr>\n",
       "    <tr>\n",
       "      <th>5</th>\n",
       "      <td>366.786445</td>\n",
       "      <td>217.132056</td>\n",
       "    </tr>\n",
       "    <tr>\n",
       "      <th>6</th>\n",
       "      <td>4.499942</td>\n",
       "      <td>-83.742102</td>\n",
       "    </tr>\n",
       "    <tr>\n",
       "      <th>7</th>\n",
       "      <td>294.556802</td>\n",
       "      <td>462.724007</td>\n",
       "    </tr>\n",
       "    <tr>\n",
       "      <th>8</th>\n",
       "      <td>101.840674</td>\n",
       "      <td>223.035763</td>\n",
       "    </tr>\n",
       "    <tr>\n",
       "      <th>9</th>\n",
       "      <td>-180.052350</td>\n",
       "      <td>-251.053639</td>\n",
       "    </tr>\n",
       "    <tr>\n",
       "      <th>10</th>\n",
       "      <td>-182.639086</td>\n",
       "      <td>-103.054644</td>\n",
       "    </tr>\n",
       "    <tr>\n",
       "      <th>11</th>\n",
       "      <td>164.133887</td>\n",
       "      <td>102.040256</td>\n",
       "    </tr>\n",
       "    <tr>\n",
       "      <th>12</th>\n",
       "      <td>-74.266182</td>\n",
       "      <td>-91.938739</td>\n",
       "    </tr>\n",
       "    <tr>\n",
       "      <th>13</th>\n",
       "      <td>123.305413</td>\n",
       "      <td>245.272472</td>\n",
       "    </tr>\n",
       "    <tr>\n",
       "      <th>14</th>\n",
       "      <td>-230.159411</td>\n",
       "      <td>-248.992414</td>\n",
       "    </tr>\n",
       "    <tr>\n",
       "      <th>15</th>\n",
       "      <td>211.544890</td>\n",
       "      <td>-85.151627</td>\n",
       "    </tr>\n",
       "    <tr>\n",
       "      <th>16</th>\n",
       "      <td>274.117452</td>\n",
       "      <td>321.913452</td>\n",
       "    </tr>\n",
       "  </tbody>\n",
       "</table>\n",
       "</div>"
      ],
      "text/plain": [
       "            Y1          Y2\n",
       "0   132.821721  161.527686\n",
       "1   -72.003916 -264.353294\n",
       "2  -399.247694 -373.852438\n",
       "3  -382.847295 -247.294565\n",
       "4  -152.391292   15.787769\n",
       "5   366.786445  217.132056\n",
       "6     4.499942  -83.742102\n",
       "7   294.556802  462.724007\n",
       "8   101.840674  223.035763\n",
       "9  -180.052350 -251.053639\n",
       "10 -182.639086 -103.054644\n",
       "11  164.133887  102.040256\n",
       "12  -74.266182  -91.938739\n",
       "13  123.305413  245.272472\n",
       "14 -230.159411 -248.992414\n",
       "15  211.544890  -85.151627\n",
       "16  274.117452  321.913452"
      ]
     },
     "execution_count": 8,
     "metadata": {},
     "output_type": "execute_result"
    }
   ],
   "source": [
    "#residuals\n",
    "eps=Y-Z.dot(B_hat)\n",
    "eps"
   ]
  },
  {
   "cell_type": "code",
   "execution_count": 9,
   "id": "4a08d320",
   "metadata": {
    "scrolled": true
   },
   "outputs": [
    {
     "data": {
      "image/png": "[encoded data removed]",
      "text/plain": [
       "<Figure size 432x288 with 1 Axes>"
      ]
     },
     "metadata": {
      "needs_background": "light"
     },
     "output_type": "display_data"
    }
   ],
   "source": [
    "#cqplot\n",
    "chisq_plot(eps)"
   ]
  },
  {
   "cell_type": "code",
   "execution_count": 10,
   "id": "7c47ab54",
   "metadata": {
    "scrolled": true
   },
   "outputs": [
    {
     "data": {
      "text/html": [
       "<div>\n",
       "<style scoped>\n",
       "    .dataframe tbody tr th:only-of-type {\n",
       "        vertical-align: middle;\n",
       "    }\n",
       "\n",
       "    .dataframe tbody tr th {\n",
       "        vertical-align: top;\n",
       "    }\n",
       "\n",
       "    .dataframe thead th {\n",
       "        text-align: right;\n",
       "    }\n",
       "</style>\n",
       "<table border=\"1\" class=\"dataframe\">\n",
       "  <thead>\n",
       "    <tr style=\"text-align: right;\">\n",
       "      <th></th>\n",
       "      <th>0</th>\n",
       "    </tr>\n",
       "  </thead>\n",
       "  <tbody>\n",
       "    <tr>\n",
       "      <th>Z0</th>\n",
       "      <td>1</td>\n",
       "    </tr>\n",
       "    <tr>\n",
       "      <th>Z1</th>\n",
       "      <td>1</td>\n",
       "    </tr>\n",
       "    <tr>\n",
       "      <th>Z2</th>\n",
       "      <td>1200</td>\n",
       "    </tr>\n",
       "    <tr>\n",
       "      <th>Z3</th>\n",
       "      <td>140</td>\n",
       "    </tr>\n",
       "    <tr>\n",
       "      <th>Z4</th>\n",
       "      <td>70</td>\n",
       "    </tr>\n",
       "    <tr>\n",
       "      <th>Z5</th>\n",
       "      <td>85</td>\n",
       "    </tr>\n",
       "  </tbody>\n",
       "</table>\n",
       "</div>"
      ],
      "text/plain": [
       "       0\n",
       "Z0     1\n",
       "Z1     1\n",
       "Z2  1200\n",
       "Z3   140\n",
       "Z4    70\n",
       "Z5    85"
      ]
     },
     "execution_count": 10,
     "metadata": {},
     "output_type": "execute_result"
    }
   ],
   "source": [
    "#(b) 95% simultaneous confidence interval for E(Y1)\n",
    "Z_fixed=pd.DataFrame([1,1,1200,140,70,85])\n",
    "Z_fixed.index=['Z0','Z1','Z2','Z3','Z4','Z5']\n",
    "Z_fixed"
   ]
  },
  {
   "cell_type": "code",
   "execution_count": 11,
   "id": "1f1dd244",
   "metadata": {},
   "outputs": [],
   "source": [
    "def simul_conf_int(data, m, r, fixed): #m: number of response var, r: number of predictor var\n",
    "    Y, Z, B_hat=mv_reg_anal(data, m, r)\n",
    "    n=len(data)\n",
    "\n",
    "    #calculate term1\n",
    "    B_hat.index = ['Z0','Z1','Z2','Z3','Z4','Z5']\n",
    "    B_hat.columns = ['Y1','Y2']\n",
    "    fixed.index = ['Z0','Z1','Z2','Z3','Z4','Z5']\n",
    "    term1 = fixed.T.dot(B_hat).iloc[0,0]\n",
    "    \n",
    "    #calculate term2\n",
    "    eps=Y-Z.dot(B_hat)\n",
    "    sig_hat = 1/n*eps.T.dot(eps)\n",
    "    fixed.reset_index(inplace = True, drop = True)\n",
    "    B_hat.reset_index(inplace = True, drop = True)\n",
    "    B_hat.index = ['Z0','Z1','Z2','Z3','Z4','Z5']\n",
    "    term2 = np.sqrt(m*(n-r-1)/(n-r-m)*f.isf(0.05,m,n-r-m))*np.sqrt(fixed.T.dot(np.linalg.inv(Z.T.dot(Z))).dot(fixed).iloc[0,0]*(n/(n-r-1)*sig_hat.iloc[0,0]))\n",
    "    \n",
    "    return [term1-term2, term1+term2]"
   ]
  },
  {
   "cell_type": "code",
   "execution_count": 12,
   "id": "b3b7313a",
   "metadata": {
    "scrolled": true
   },
   "outputs": [
    {
     "data": {
      "text/plain": [
       "[319.0202417848874, 1140.0293024396533]"
      ]
     },
     "execution_count": 12,
     "metadata": {},
     "output_type": "execute_result"
    }
   ],
   "source": [
    "simul_conf_int(amit,2,5,Z_fixed)"
   ]
  },
  {
   "cell_type": "code",
   "execution_count": 13,
   "id": "e341eef8",
   "metadata": {},
   "outputs": [],
   "source": [
    "#(c) 95% simultaneous confidence interval for individual Y2\n",
    "def pred_int(data, m, r, fixed): #m: number of response var, r: number of predictor var\n",
    "    Y, Z, B_hat=mv_reg_anal(data, m, r)\n",
    "    n=len(data)\n",
    "\n",
    "    #calculate term1\n",
    "    B_hat.index = ['Z0','Z1','Z2','Z3','Z4','Z5']\n",
    "    B_hat.columns = ['Y1','Y2']\n",
    "    fixed.index = ['Z0','Z1','Z2','Z3','Z4','Z5']\n",
    "    term1 = fixed.T.dot(B_hat).iloc[0,1]\n",
    "    \n",
    "    #calculate term2\n",
    "    eps=Y-Z.dot(B_hat)\n",
    "    sig_hat = 1/n*eps.T.dot(eps)\n",
    "    fixed.reset_index(inplace = True, drop = True)\n",
    "    B_hat.reset_index(inplace = True, drop = True)\n",
    "    B_hat.index = ['Z0','Z1','Z2','Z3','Z4','Z5']\n",
    "    term2 = np.sqrt(m*(n-r-1)/(n-r-m)*f.isf(0.05,m,n-r-m))*np.sqrt((1+fixed.T.dot(np.linalg.inv(Z.T.dot(Z))).dot(fixed).iloc[0,0])*(n/(n-r-1)*sig_hat.iloc[1,1]))\n",
    "    \n",
    "    return [term1-term2, term1+term2]"
   ]
  },
  {
   "cell_type": "code",
   "execution_count": 14,
   "id": "be774c2b",
   "metadata": {
    "scrolled": true
   },
   "outputs": [
    {
     "data": {
      "text/plain": [
       "[-401.0652893243076, 1552.5162238632938]"
      ]
     },
     "execution_count": 14,
     "metadata": {},
     "output_type": "execute_result"
    }
   ],
   "source": [
    "pred_int(amit,2,5,Z_fixed)"
   ]
  },
  {
   "cell_type": "code",
   "execution_count": 15,
   "id": "514a322f",
   "metadata": {
    "scrolled": true
   },
   "outputs": [
    {
     "data": {
      "text/html": [
       "<div>\n",
       "<style scoped>\n",
       "    .dataframe tbody tr th:only-of-type {\n",
       "        vertical-align: middle;\n",
       "    }\n",
       "\n",
       "    .dataframe tbody tr th {\n",
       "        vertical-align: top;\n",
       "    }\n",
       "\n",
       "    .dataframe thead th {\n",
       "        text-align: right;\n",
       "    }\n",
       "</style>\n",
       "<table border=\"1\" class=\"dataframe\">\n",
       "  <thead>\n",
       "    <tr style=\"text-align: right;\">\n",
       "      <th></th>\n",
       "      <th>Y1</th>\n",
       "      <th>Y2</th>\n",
       "    </tr>\n",
       "  </thead>\n",
       "  <tbody>\n",
       "    <tr>\n",
       "      <th>Y1</th>\n",
       "      <td>51176.959440</td>\n",
       "      <td>45039.792706</td>\n",
       "    </tr>\n",
       "    <tr>\n",
       "      <th>Y2</th>\n",
       "      <td>45039.792706</td>\n",
       "      <td>55335.817611</td>\n",
       "    </tr>\n",
       "  </tbody>\n",
       "</table>\n",
       "</div>"
      ],
      "text/plain": [
       "              Y1            Y2\n",
       "Y1  51176.959440  45039.792706\n",
       "Y2  45039.792706  55335.817611"
      ]
     },
     "execution_count": 15,
     "metadata": {},
     "output_type": "execute_result"
    }
   ],
   "source": [
    "#(d)\n",
    "n=17\n",
    "m=2\n",
    "r=5\n",
    "\n",
    "sig_hat = 1/n*eps.T.dot(eps)\n",
    "sig_hat"
   ]
  },
  {
   "cell_type": "code",
   "execution_count": 16,
   "id": "482ce6ae",
   "metadata": {
    "scrolled": true
   },
   "outputs": [
    {
     "data": {
      "text/html": [
       "<div>\n",
       "<style scoped>\n",
       "    .dataframe tbody tr th:only-of-type {\n",
       "        vertical-align: middle;\n",
       "    }\n",
       "\n",
       "    .dataframe tbody tr th {\n",
       "        vertical-align: top;\n",
       "    }\n",
       "\n",
       "    .dataframe thead th {\n",
       "        text-align: right;\n",
       "    }\n",
       "</style>\n",
       "<table border=\"1\" class=\"dataframe\">\n",
       "  <thead>\n",
       "    <tr style=\"text-align: right;\">\n",
       "      <th></th>\n",
       "      <th>0</th>\n",
       "      <th>1</th>\n",
       "    </tr>\n",
       "  </thead>\n",
       "  <tbody>\n",
       "    <tr>\n",
       "      <th>Y1</th>\n",
       "      <td>191.408443</td>\n",
       "      <td>-27.709528</td>\n",
       "    </tr>\n",
       "    <tr>\n",
       "      <th>Y2</th>\n",
       "      <td>158.571261</td>\n",
       "      <td>-22.813777</td>\n",
       "    </tr>\n",
       "  </tbody>\n",
       "</table>\n",
       "</div>"
      ],
      "text/plain": [
       "             0          1\n",
       "Y1  191.408443 -27.709528\n",
       "Y2  158.571261 -22.813777"
      ]
     },
     "execution_count": 16,
     "metadata": {},
     "output_type": "execute_result"
    }
   ],
   "source": [
    "#(e) Calculate Wilk's lambda value\n",
    "Z.columns=range(0,6)\n",
    "E=n*sig_hat\n",
    "E.index=range(0,2)\n",
    "E.columns=range(0,2)\n",
    "\n",
    "#select columns for (Z0, Z1, Z2)\n",
    "Z_r = Z.iloc[:,:3]\n",
    "Z_r.columns = ['Z0','Z1','Z2']\n",
    "\n",
    "#select rows for (Z0, Z1, Z2)\n",
    "B_hat_r = B_hat.iloc[:3,:]\n",
    "\n",
    "eps_r=Y-Z_r.dot(B_hat_r)\n",
    "sig_hat_r = 1/n*eps_r.T.dot(eps_r)\n",
    "\n",
    "H = n*(sig_hat_r - sig_hat)\n",
    "HE_inv = H.dot(np.linalg.inv(E))\n",
    "HE_inv"
   ]
  },
  {
   "cell_type": "code",
   "execution_count": 17,
   "id": "146396f3",
   "metadata": {},
   "outputs": [
    {
     "data": {
      "text/plain": [
       "array([1.68433265e+02, 1.61401095e-01])"
      ]
     },
     "execution_count": 17,
     "metadata": {},
     "output_type": "execute_result"
    }
   ],
   "source": [
    "eigval, eigvec = np.linalg.eig(HE_inv)\n",
    "eigval"
   ]
  },
  {
   "cell_type": "code",
   "execution_count": 18,
   "id": "937018fd",
   "metadata": {},
   "outputs": [
    {
     "data": {
      "text/plain": [
       "0.005081817790983487"
      ]
     },
     "execution_count": 18,
     "metadata": {},
     "output_type": "execute_result"
    }
   ],
   "source": [
    "val=1\n",
    "for i in range(2):\n",
    "    val=val*1/(1+eigval[i])\n",
    "    \n",
    "wilk_ld = val\n",
    "wilk_ld"
   ]
  },
  {
   "cell_type": "code",
   "execution_count": 19,
   "id": "b3d7df7e",
   "metadata": {},
   "outputs": [
    {
     "data": {
      "text/plain": [
       "60.74399185807079"
      ]
     },
     "execution_count": 19,
     "metadata": {},
     "output_type": "execute_result"
    }
   ],
   "source": [
    "#(f) Test hypothesis\n",
    "q=1\n",
    "test_stat = -(n-r-1-(m-r+q+1)/2)*np.log(wilk_ld)\n",
    "test_stat"
   ]
  },
  {
   "cell_type": "code",
   "execution_count": 20,
   "id": "a49d4574",
   "metadata": {},
   "outputs": [
    {
     "data": {
      "text/plain": [
       "15.507313055865454"
      ]
     },
     "execution_count": 20,
     "metadata": {},
     "output_type": "execute_result"
    }
   ],
   "source": [
    "chi2.isf(0.05,m*(r-q))\n",
    "#test_stat = 60.7439 > 15.5073\n",
    "#reject null hypothesis"
   ]
  }
 ],
 "metadata": {
  "kernelspec": {
   "display_name": "Python 3",
   "language": "python",
   "name": "python3"
  },
  "language_info": {
   "codemirror_mode": {
    "name": "ipython",
    "version": 3
   },
   "file_extension": ".py",
   "mimetype": "text/x-python",
   "name": "python",
   "nbconvert_exporter": "python",
   "pygments_lexer": "ipython3",
   "version": "3.8.8"
  }
 },
 "nbformat": 4,
 "nbformat_minor": 5
}
